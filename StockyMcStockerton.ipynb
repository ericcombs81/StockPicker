{
 "cells": [
  {
   "cell_type": "code",
   "execution_count": 1,
   "metadata": {
    "colab": {
     "base_uri": "https://localhost:8080/"
    },
    "id": "q3RQJ5tJ9OFI",
    "outputId": "fbc4a205-5753-4b53-9423-e38e316f9109"
   },
   "outputs": [
    {
     "name": "stdout",
     "output_type": "stream",
     "text": [
      "Collecting ta\n",
      "  Downloading ta-0.11.0.tar.gz (25 kB)\n",
      "  Preparing metadata (setup.py) ... \u001b[?25l\u001b[?25hdone\n",
      "Requirement already satisfied: numpy in /usr/local/lib/python3.11/dist-packages (from ta) (2.0.2)\n",
      "Requirement already satisfied: pandas in /usr/local/lib/python3.11/dist-packages (from ta) (2.2.2)\n",
      "Requirement already satisfied: python-dateutil>=2.8.2 in /usr/local/lib/python3.11/dist-packages (from pandas->ta) (2.9.0.post0)\n",
      "Requirement already satisfied: pytz>=2020.1 in /usr/local/lib/python3.11/dist-packages (from pandas->ta) (2025.2)\n",
      "Requirement already satisfied: tzdata>=2022.7 in /usr/local/lib/python3.11/dist-packages (from pandas->ta) (2025.2)\n",
      "Requirement already satisfied: six>=1.5 in /usr/local/lib/python3.11/dist-packages (from python-dateutil>=2.8.2->pandas->ta) (1.17.0)\n",
      "Building wheels for collected packages: ta\n",
      "  Building wheel for ta (setup.py) ... \u001b[?25l\u001b[?25hdone\n",
      "  Created wheel for ta: filename=ta-0.11.0-py3-none-any.whl size=29412 sha256=ee27d9e013c665bc4863b2c623fa58c2605e06d5091ad2e97fbcd56d490e083d\n",
      "  Stored in directory: /root/.cache/pip/wheels/a1/d7/29/7781cc5eb9a3659d032d7d15bdd0f49d07d2b24fec29f44bc4\n",
      "Successfully built ta\n",
      "Installing collected packages: ta\n",
      "Successfully installed ta-0.11.0\n"
     ]
    }
   ],
   "source": [
    "pip install ta"
   ]
  },
  {
   "cell_type": "code",
   "execution_count": 2,
   "metadata": {
    "colab": {
     "base_uri": "https://localhost:8080/"
    },
    "id": "0tXMoac89PwW",
    "outputId": "a62a44cf-2007-4f49-ef87-52e4cf49207c"
   },
   "outputs": [
    {
     "name": "stdout",
     "output_type": "stream",
     "text": [
      "Collecting pandas_ta\n",
      "  Downloading pandas_ta-0.3.14b.tar.gz (115 kB)\n",
      "\u001b[?25l     \u001b[90m━━━━━━━━━━━━━━━━━━━━━━━━━━━━━━━━━━━━━━━━\u001b[0m \u001b[32m0.0/115.1 kB\u001b[0m \u001b[31m?\u001b[0m eta \u001b[36m-:--:--\u001b[0m\r",
      "\u001b[2K     \u001b[90m━━━━━━━━━━━━━━━━━━━━━━━━━━━━━━━━━━━━━━━\u001b[0m \u001b[32m115.1/115.1 kB\u001b[0m \u001b[31m4.3 MB/s\u001b[0m eta \u001b[36m0:00:00\u001b[0m\n",
      "\u001b[?25h  Preparing metadata (setup.py) ... \u001b[?25l\u001b[?25hdone\n",
      "Requirement already satisfied: pandas in /usr/local/lib/python3.11/dist-packages (from pandas_ta) (2.2.2)\n",
      "Requirement already satisfied: numpy>=1.23.2 in /usr/local/lib/python3.11/dist-packages (from pandas->pandas_ta) (2.0.2)\n",
      "Requirement already satisfied: python-dateutil>=2.8.2 in /usr/local/lib/python3.11/dist-packages (from pandas->pandas_ta) (2.9.0.post0)\n",
      "Requirement already satisfied: pytz>=2020.1 in /usr/local/lib/python3.11/dist-packages (from pandas->pandas_ta) (2025.2)\n",
      "Requirement already satisfied: tzdata>=2022.7 in /usr/local/lib/python3.11/dist-packages (from pandas->pandas_ta) (2025.2)\n",
      "Requirement already satisfied: six>=1.5 in /usr/local/lib/python3.11/dist-packages (from python-dateutil>=2.8.2->pandas->pandas_ta) (1.17.0)\n",
      "Building wheels for collected packages: pandas_ta\n",
      "  Building wheel for pandas_ta (setup.py) ... \u001b[?25l\u001b[?25hdone\n",
      "  Created wheel for pandas_ta: filename=pandas_ta-0.3.14b0-py3-none-any.whl size=218910 sha256=4204b8c40284cb4ba835ce105a9219ab5c162009e9906d3567882bb424ee9fd0\n",
      "  Stored in directory: /root/.cache/pip/wheels/7f/33/8b/50b245c5c65433cd8f5cb24ac15d97e5a3db2d41a8b6ae957d\n",
      "Successfully built pandas_ta\n",
      "Installing collected packages: pandas_ta\n",
      "Successfully installed pandas_ta-0.3.14b0\n"
     ]
    }
   ],
   "source": [
    "pip install pandas_ta"
   ]
  },
  {
   "cell_type": "code",
   "execution_count": 3,
   "metadata": {
    "colab": {
     "base_uri": "https://localhost:8080/",
     "height": 433
    },
    "id": "z73XaX8v70ie",
    "outputId": "2dbb16d1-328a-425a-ca3d-557cf164f120"
   },
   "outputs": [
    {
     "name": "stdout",
     "output_type": "stream",
     "text": [
      "YF.download() has changed argument auto_adjust default to True\n"
     ]
    },
    {
     "name": "stderr",
     "output_type": "stream",
     "text": [
      "\r",
      "[*********************100%***********************]  1 of 1 completed\n"
     ]
    },
    {
     "name": "stdout",
     "output_type": "stream",
     "text": [
      "\n",
      "Processing data for MMM which is stock # 1 of 240.\n"
     ]
    },
    {
     "ename": "KeyboardInterrupt",
     "evalue": "",
     "output_type": "error",
     "traceback": [
      "\u001b[0;31m---------------------------------------------------------------------------\u001b[0m",
      "\u001b[0;31mKeyboardInterrupt\u001b[0m                         Traceback (most recent call last)",
      "\u001b[0;32m<ipython-input-3-a7df3d9ba29c>\u001b[0m in \u001b[0;36m<cell line: 0>\u001b[0;34m()\u001b[0m\n\u001b[1;32m    162\u001b[0m \u001b[0;34m\u001b[0m\u001b[0m\n\u001b[1;32m    163\u001b[0m         \u001b[0;31m# Train the model\u001b[0m\u001b[0;34m\u001b[0m\u001b[0;34m\u001b[0m\u001b[0m\n\u001b[0;32m--> 164\u001b[0;31m         history = model.fit(X_train_fold, y_train_fold,\n\u001b[0m\u001b[1;32m    165\u001b[0m                         \u001b[0mvalidation_data\u001b[0m\u001b[0;34m=\u001b[0m\u001b[0;34m(\u001b[0m\u001b[0mX_val_fold\u001b[0m\u001b[0;34m,\u001b[0m \u001b[0my_val_fold\u001b[0m\u001b[0;34m)\u001b[0m\u001b[0;34m,\u001b[0m\u001b[0;34m\u001b[0m\u001b[0;34m\u001b[0m\u001b[0m\n\u001b[1;32m    166\u001b[0m                         \u001b[0mepochs\u001b[0m\u001b[0;34m=\u001b[0m\u001b[0;36m200\u001b[0m\u001b[0;34m,\u001b[0m  \u001b[0;31m# Increase the number of epochs\u001b[0m\u001b[0;34m\u001b[0m\u001b[0;34m\u001b[0m\u001b[0m\n",
      "\u001b[0;32m/usr/local/lib/python3.11/dist-packages/keras/src/utils/traceback_utils.py\u001b[0m in \u001b[0;36merror_handler\u001b[0;34m(*args, **kwargs)\u001b[0m\n\u001b[1;32m    115\u001b[0m         \u001b[0mfiltered_tb\u001b[0m \u001b[0;34m=\u001b[0m \u001b[0;32mNone\u001b[0m\u001b[0;34m\u001b[0m\u001b[0;34m\u001b[0m\u001b[0m\n\u001b[1;32m    116\u001b[0m         \u001b[0;32mtry\u001b[0m\u001b[0;34m:\u001b[0m\u001b[0;34m\u001b[0m\u001b[0;34m\u001b[0m\u001b[0m\n\u001b[0;32m--> 117\u001b[0;31m             \u001b[0;32mreturn\u001b[0m \u001b[0mfn\u001b[0m\u001b[0;34m(\u001b[0m\u001b[0;34m*\u001b[0m\u001b[0margs\u001b[0m\u001b[0;34m,\u001b[0m \u001b[0;34m**\u001b[0m\u001b[0mkwargs\u001b[0m\u001b[0;34m)\u001b[0m\u001b[0;34m\u001b[0m\u001b[0;34m\u001b[0m\u001b[0m\n\u001b[0m\u001b[1;32m    118\u001b[0m         \u001b[0;32mexcept\u001b[0m \u001b[0mException\u001b[0m \u001b[0;32mas\u001b[0m \u001b[0me\u001b[0m\u001b[0;34m:\u001b[0m\u001b[0;34m\u001b[0m\u001b[0;34m\u001b[0m\u001b[0m\n\u001b[1;32m    119\u001b[0m             \u001b[0mfiltered_tb\u001b[0m \u001b[0;34m=\u001b[0m \u001b[0m_process_traceback_frames\u001b[0m\u001b[0;34m(\u001b[0m\u001b[0me\u001b[0m\u001b[0;34m.\u001b[0m\u001b[0m__traceback__\u001b[0m\u001b[0;34m)\u001b[0m\u001b[0;34m\u001b[0m\u001b[0;34m\u001b[0m\u001b[0m\n",
      "\u001b[0;32m/usr/local/lib/python3.11/dist-packages/keras/src/backend/tensorflow/trainer.py\u001b[0m in \u001b[0;36mfit\u001b[0;34m(self, x, y, batch_size, epochs, verbose, callbacks, validation_split, validation_data, shuffle, class_weight, sample_weight, initial_epoch, steps_per_epoch, validation_steps, validation_batch_size, validation_freq)\u001b[0m\n\u001b[1;32m    369\u001b[0m                 \u001b[0;32mfor\u001b[0m \u001b[0mstep\u001b[0m\u001b[0;34m,\u001b[0m \u001b[0miterator\u001b[0m \u001b[0;32min\u001b[0m \u001b[0mepoch_iterator\u001b[0m\u001b[0;34m:\u001b[0m\u001b[0;34m\u001b[0m\u001b[0;34m\u001b[0m\u001b[0m\n\u001b[1;32m    370\u001b[0m                     \u001b[0mcallbacks\u001b[0m\u001b[0;34m.\u001b[0m\u001b[0mon_train_batch_begin\u001b[0m\u001b[0;34m(\u001b[0m\u001b[0mstep\u001b[0m\u001b[0;34m)\u001b[0m\u001b[0;34m\u001b[0m\u001b[0;34m\u001b[0m\u001b[0m\n\u001b[0;32m--> 371\u001b[0;31m                     \u001b[0mlogs\u001b[0m \u001b[0;34m=\u001b[0m \u001b[0mself\u001b[0m\u001b[0;34m.\u001b[0m\u001b[0mtrain_function\u001b[0m\u001b[0;34m(\u001b[0m\u001b[0miterator\u001b[0m\u001b[0;34m)\u001b[0m\u001b[0;34m\u001b[0m\u001b[0;34m\u001b[0m\u001b[0m\n\u001b[0m\u001b[1;32m    372\u001b[0m                     \u001b[0mcallbacks\u001b[0m\u001b[0;34m.\u001b[0m\u001b[0mon_train_batch_end\u001b[0m\u001b[0;34m(\u001b[0m\u001b[0mstep\u001b[0m\u001b[0;34m,\u001b[0m \u001b[0mlogs\u001b[0m\u001b[0;34m)\u001b[0m\u001b[0;34m\u001b[0m\u001b[0;34m\u001b[0m\u001b[0m\n\u001b[1;32m    373\u001b[0m                     \u001b[0;32mif\u001b[0m \u001b[0mself\u001b[0m\u001b[0;34m.\u001b[0m\u001b[0mstop_training\u001b[0m\u001b[0;34m:\u001b[0m\u001b[0;34m\u001b[0m\u001b[0;34m\u001b[0m\u001b[0m\n",
      "\u001b[0;32m/usr/local/lib/python3.11/dist-packages/keras/src/backend/tensorflow/trainer.py\u001b[0m in \u001b[0;36mfunction\u001b[0;34m(iterator)\u001b[0m\n\u001b[1;32m    217\u001b[0m                 \u001b[0miterator\u001b[0m\u001b[0;34m,\u001b[0m \u001b[0;34m(\u001b[0m\u001b[0mtf\u001b[0m\u001b[0;34m.\u001b[0m\u001b[0mdata\u001b[0m\u001b[0;34m.\u001b[0m\u001b[0mIterator\u001b[0m\u001b[0;34m,\u001b[0m \u001b[0mtf\u001b[0m\u001b[0;34m.\u001b[0m\u001b[0mdistribute\u001b[0m\u001b[0;34m.\u001b[0m\u001b[0mDistributedIterator\u001b[0m\u001b[0;34m)\u001b[0m\u001b[0;34m\u001b[0m\u001b[0;34m\u001b[0m\u001b[0m\n\u001b[1;32m    218\u001b[0m             ):\n\u001b[0;32m--> 219\u001b[0;31m                 \u001b[0mopt_outputs\u001b[0m \u001b[0;34m=\u001b[0m \u001b[0mmulti_step_on_iterator\u001b[0m\u001b[0;34m(\u001b[0m\u001b[0miterator\u001b[0m\u001b[0;34m)\u001b[0m\u001b[0;34m\u001b[0m\u001b[0;34m\u001b[0m\u001b[0m\n\u001b[0m\u001b[1;32m    220\u001b[0m                 \u001b[0;32mif\u001b[0m \u001b[0;32mnot\u001b[0m \u001b[0mopt_outputs\u001b[0m\u001b[0;34m.\u001b[0m\u001b[0mhas_value\u001b[0m\u001b[0;34m(\u001b[0m\u001b[0;34m)\u001b[0m\u001b[0;34m:\u001b[0m\u001b[0;34m\u001b[0m\u001b[0;34m\u001b[0m\u001b[0m\n\u001b[1;32m    221\u001b[0m                     \u001b[0;32mraise\u001b[0m \u001b[0mStopIteration\u001b[0m\u001b[0;34m\u001b[0m\u001b[0;34m\u001b[0m\u001b[0m\n",
      "\u001b[0;32m/usr/local/lib/python3.11/dist-packages/tensorflow/python/util/traceback_utils.py\u001b[0m in \u001b[0;36merror_handler\u001b[0;34m(*args, **kwargs)\u001b[0m\n\u001b[1;32m    148\u001b[0m     \u001b[0mfiltered_tb\u001b[0m \u001b[0;34m=\u001b[0m \u001b[0;32mNone\u001b[0m\u001b[0;34m\u001b[0m\u001b[0;34m\u001b[0m\u001b[0m\n\u001b[1;32m    149\u001b[0m     \u001b[0;32mtry\u001b[0m\u001b[0;34m:\u001b[0m\u001b[0;34m\u001b[0m\u001b[0;34m\u001b[0m\u001b[0m\n\u001b[0;32m--> 150\u001b[0;31m       \u001b[0;32mreturn\u001b[0m \u001b[0mfn\u001b[0m\u001b[0;34m(\u001b[0m\u001b[0;34m*\u001b[0m\u001b[0margs\u001b[0m\u001b[0;34m,\u001b[0m \u001b[0;34m**\u001b[0m\u001b[0mkwargs\u001b[0m\u001b[0;34m)\u001b[0m\u001b[0;34m\u001b[0m\u001b[0;34m\u001b[0m\u001b[0m\n\u001b[0m\u001b[1;32m    151\u001b[0m     \u001b[0;32mexcept\u001b[0m \u001b[0mException\u001b[0m \u001b[0;32mas\u001b[0m \u001b[0me\u001b[0m\u001b[0;34m:\u001b[0m\u001b[0;34m\u001b[0m\u001b[0;34m\u001b[0m\u001b[0m\n\u001b[1;32m    152\u001b[0m       \u001b[0mfiltered_tb\u001b[0m \u001b[0;34m=\u001b[0m \u001b[0m_process_traceback_frames\u001b[0m\u001b[0;34m(\u001b[0m\u001b[0me\u001b[0m\u001b[0;34m.\u001b[0m\u001b[0m__traceback__\u001b[0m\u001b[0;34m)\u001b[0m\u001b[0;34m\u001b[0m\u001b[0;34m\u001b[0m\u001b[0m\n",
      "\u001b[0;32m/usr/local/lib/python3.11/dist-packages/tensorflow/python/eager/polymorphic_function/polymorphic_function.py\u001b[0m in \u001b[0;36m__call__\u001b[0;34m(self, *args, **kwds)\u001b[0m\n\u001b[1;32m    831\u001b[0m \u001b[0;34m\u001b[0m\u001b[0m\n\u001b[1;32m    832\u001b[0m       \u001b[0;32mwith\u001b[0m \u001b[0mOptionalXlaContext\u001b[0m\u001b[0;34m(\u001b[0m\u001b[0mself\u001b[0m\u001b[0;34m.\u001b[0m\u001b[0m_jit_compile\u001b[0m\u001b[0;34m)\u001b[0m\u001b[0;34m:\u001b[0m\u001b[0;34m\u001b[0m\u001b[0;34m\u001b[0m\u001b[0m\n\u001b[0;32m--> 833\u001b[0;31m         \u001b[0mresult\u001b[0m \u001b[0;34m=\u001b[0m \u001b[0mself\u001b[0m\u001b[0;34m.\u001b[0m\u001b[0m_call\u001b[0m\u001b[0;34m(\u001b[0m\u001b[0;34m*\u001b[0m\u001b[0margs\u001b[0m\u001b[0;34m,\u001b[0m \u001b[0;34m**\u001b[0m\u001b[0mkwds\u001b[0m\u001b[0;34m)\u001b[0m\u001b[0;34m\u001b[0m\u001b[0;34m\u001b[0m\u001b[0m\n\u001b[0m\u001b[1;32m    834\u001b[0m \u001b[0;34m\u001b[0m\u001b[0m\n\u001b[1;32m    835\u001b[0m       \u001b[0mnew_tracing_count\u001b[0m \u001b[0;34m=\u001b[0m \u001b[0mself\u001b[0m\u001b[0;34m.\u001b[0m\u001b[0mexperimental_get_tracing_count\u001b[0m\u001b[0;34m(\u001b[0m\u001b[0;34m)\u001b[0m\u001b[0;34m\u001b[0m\u001b[0;34m\u001b[0m\u001b[0m\n",
      "\u001b[0;32m/usr/local/lib/python3.11/dist-packages/tensorflow/python/eager/polymorphic_function/polymorphic_function.py\u001b[0m in \u001b[0;36m_call\u001b[0;34m(self, *args, **kwds)\u001b[0m\n\u001b[1;32m    876\u001b[0m       \u001b[0;31m# In this case we have not created variables on the first call. So we can\u001b[0m\u001b[0;34m\u001b[0m\u001b[0;34m\u001b[0m\u001b[0m\n\u001b[1;32m    877\u001b[0m       \u001b[0;31m# run the first trace but we should fail if variables are created.\u001b[0m\u001b[0;34m\u001b[0m\u001b[0;34m\u001b[0m\u001b[0m\n\u001b[0;32m--> 878\u001b[0;31m       results = tracing_compilation.call_function(\n\u001b[0m\u001b[1;32m    879\u001b[0m           \u001b[0margs\u001b[0m\u001b[0;34m,\u001b[0m \u001b[0mkwds\u001b[0m\u001b[0;34m,\u001b[0m \u001b[0mself\u001b[0m\u001b[0;34m.\u001b[0m\u001b[0m_variable_creation_config\u001b[0m\u001b[0;34m\u001b[0m\u001b[0;34m\u001b[0m\u001b[0m\n\u001b[1;32m    880\u001b[0m       )\n",
      "\u001b[0;32m/usr/local/lib/python3.11/dist-packages/tensorflow/python/eager/polymorphic_function/tracing_compilation.py\u001b[0m in \u001b[0;36mcall_function\u001b[0;34m(args, kwargs, tracing_options)\u001b[0m\n\u001b[1;32m    137\u001b[0m   \u001b[0mbound_args\u001b[0m \u001b[0;34m=\u001b[0m \u001b[0mfunction\u001b[0m\u001b[0;34m.\u001b[0m\u001b[0mfunction_type\u001b[0m\u001b[0;34m.\u001b[0m\u001b[0mbind\u001b[0m\u001b[0;34m(\u001b[0m\u001b[0;34m*\u001b[0m\u001b[0margs\u001b[0m\u001b[0;34m,\u001b[0m \u001b[0;34m**\u001b[0m\u001b[0mkwargs\u001b[0m\u001b[0;34m)\u001b[0m\u001b[0;34m\u001b[0m\u001b[0;34m\u001b[0m\u001b[0m\n\u001b[1;32m    138\u001b[0m   \u001b[0mflat_inputs\u001b[0m \u001b[0;34m=\u001b[0m \u001b[0mfunction\u001b[0m\u001b[0;34m.\u001b[0m\u001b[0mfunction_type\u001b[0m\u001b[0;34m.\u001b[0m\u001b[0munpack_inputs\u001b[0m\u001b[0;34m(\u001b[0m\u001b[0mbound_args\u001b[0m\u001b[0;34m)\u001b[0m\u001b[0;34m\u001b[0m\u001b[0;34m\u001b[0m\u001b[0m\n\u001b[0;32m--> 139\u001b[0;31m   return function._call_flat(  # pylint: disable=protected-access\n\u001b[0m\u001b[1;32m    140\u001b[0m       \u001b[0mflat_inputs\u001b[0m\u001b[0;34m,\u001b[0m \u001b[0mcaptured_inputs\u001b[0m\u001b[0;34m=\u001b[0m\u001b[0mfunction\u001b[0m\u001b[0;34m.\u001b[0m\u001b[0mcaptured_inputs\u001b[0m\u001b[0;34m\u001b[0m\u001b[0;34m\u001b[0m\u001b[0m\n\u001b[1;32m    141\u001b[0m   )\n",
      "\u001b[0;32m/usr/local/lib/python3.11/dist-packages/tensorflow/python/eager/polymorphic_function/concrete_function.py\u001b[0m in \u001b[0;36m_call_flat\u001b[0;34m(self, tensor_inputs, captured_inputs)\u001b[0m\n\u001b[1;32m   1320\u001b[0m         and executing_eagerly):\n\u001b[1;32m   1321\u001b[0m       \u001b[0;31m# No tape is watching; skip to running the function.\u001b[0m\u001b[0;34m\u001b[0m\u001b[0;34m\u001b[0m\u001b[0m\n\u001b[0;32m-> 1322\u001b[0;31m       \u001b[0;32mreturn\u001b[0m \u001b[0mself\u001b[0m\u001b[0;34m.\u001b[0m\u001b[0m_inference_function\u001b[0m\u001b[0;34m.\u001b[0m\u001b[0mcall_preflattened\u001b[0m\u001b[0;34m(\u001b[0m\u001b[0margs\u001b[0m\u001b[0;34m)\u001b[0m\u001b[0;34m\u001b[0m\u001b[0;34m\u001b[0m\u001b[0m\n\u001b[0m\u001b[1;32m   1323\u001b[0m     forward_backward = self._select_forward_and_backward_functions(\n\u001b[1;32m   1324\u001b[0m         \u001b[0margs\u001b[0m\u001b[0;34m,\u001b[0m\u001b[0;34m\u001b[0m\u001b[0;34m\u001b[0m\u001b[0m\n",
      "\u001b[0;32m/usr/local/lib/python3.11/dist-packages/tensorflow/python/eager/polymorphic_function/atomic_function.py\u001b[0m in \u001b[0;36mcall_preflattened\u001b[0;34m(self, args)\u001b[0m\n\u001b[1;32m    214\u001b[0m   \u001b[0;32mdef\u001b[0m \u001b[0mcall_preflattened\u001b[0m\u001b[0;34m(\u001b[0m\u001b[0mself\u001b[0m\u001b[0;34m,\u001b[0m \u001b[0margs\u001b[0m\u001b[0;34m:\u001b[0m \u001b[0mSequence\u001b[0m\u001b[0;34m[\u001b[0m\u001b[0mcore\u001b[0m\u001b[0;34m.\u001b[0m\u001b[0mTensor\u001b[0m\u001b[0;34m]\u001b[0m\u001b[0;34m)\u001b[0m \u001b[0;34m->\u001b[0m \u001b[0mAny\u001b[0m\u001b[0;34m:\u001b[0m\u001b[0;34m\u001b[0m\u001b[0;34m\u001b[0m\u001b[0m\n\u001b[1;32m    215\u001b[0m     \u001b[0;34m\"\"\"Calls with flattened tensor inputs and returns the structured output.\"\"\"\u001b[0m\u001b[0;34m\u001b[0m\u001b[0;34m\u001b[0m\u001b[0m\n\u001b[0;32m--> 216\u001b[0;31m     \u001b[0mflat_outputs\u001b[0m \u001b[0;34m=\u001b[0m \u001b[0mself\u001b[0m\u001b[0;34m.\u001b[0m\u001b[0mcall_flat\u001b[0m\u001b[0;34m(\u001b[0m\u001b[0;34m*\u001b[0m\u001b[0margs\u001b[0m\u001b[0;34m)\u001b[0m\u001b[0;34m\u001b[0m\u001b[0;34m\u001b[0m\u001b[0m\n\u001b[0m\u001b[1;32m    217\u001b[0m     \u001b[0;32mreturn\u001b[0m \u001b[0mself\u001b[0m\u001b[0;34m.\u001b[0m\u001b[0mfunction_type\u001b[0m\u001b[0;34m.\u001b[0m\u001b[0mpack_output\u001b[0m\u001b[0;34m(\u001b[0m\u001b[0mflat_outputs\u001b[0m\u001b[0;34m)\u001b[0m\u001b[0;34m\u001b[0m\u001b[0;34m\u001b[0m\u001b[0m\n\u001b[1;32m    218\u001b[0m \u001b[0;34m\u001b[0m\u001b[0m\n",
      "\u001b[0;32m/usr/local/lib/python3.11/dist-packages/tensorflow/python/eager/polymorphic_function/atomic_function.py\u001b[0m in \u001b[0;36mcall_flat\u001b[0;34m(self, *args)\u001b[0m\n\u001b[1;32m    249\u001b[0m         \u001b[0;32mwith\u001b[0m \u001b[0mrecord\u001b[0m\u001b[0;34m.\u001b[0m\u001b[0mstop_recording\u001b[0m\u001b[0;34m(\u001b[0m\u001b[0;34m)\u001b[0m\u001b[0;34m:\u001b[0m\u001b[0;34m\u001b[0m\u001b[0;34m\u001b[0m\u001b[0m\n\u001b[1;32m    250\u001b[0m           \u001b[0;32mif\u001b[0m \u001b[0mself\u001b[0m\u001b[0;34m.\u001b[0m\u001b[0m_bound_context\u001b[0m\u001b[0;34m.\u001b[0m\u001b[0mexecuting_eagerly\u001b[0m\u001b[0;34m(\u001b[0m\u001b[0;34m)\u001b[0m\u001b[0;34m:\u001b[0m\u001b[0;34m\u001b[0m\u001b[0;34m\u001b[0m\u001b[0m\n\u001b[0;32m--> 251\u001b[0;31m             outputs = self._bound_context.call_function(\n\u001b[0m\u001b[1;32m    252\u001b[0m                 \u001b[0mself\u001b[0m\u001b[0;34m.\u001b[0m\u001b[0mname\u001b[0m\u001b[0;34m,\u001b[0m\u001b[0;34m\u001b[0m\u001b[0;34m\u001b[0m\u001b[0m\n\u001b[1;32m    253\u001b[0m                 \u001b[0mlist\u001b[0m\u001b[0;34m(\u001b[0m\u001b[0margs\u001b[0m\u001b[0;34m)\u001b[0m\u001b[0;34m,\u001b[0m\u001b[0;34m\u001b[0m\u001b[0;34m\u001b[0m\u001b[0m\n",
      "\u001b[0;32m/usr/local/lib/python3.11/dist-packages/tensorflow/python/eager/context.py\u001b[0m in \u001b[0;36mcall_function\u001b[0;34m(self, name, tensor_inputs, num_outputs)\u001b[0m\n\u001b[1;32m   1681\u001b[0m     \u001b[0mcancellation_context\u001b[0m \u001b[0;34m=\u001b[0m \u001b[0mcancellation\u001b[0m\u001b[0;34m.\u001b[0m\u001b[0mcontext\u001b[0m\u001b[0;34m(\u001b[0m\u001b[0;34m)\u001b[0m\u001b[0;34m\u001b[0m\u001b[0;34m\u001b[0m\u001b[0m\n\u001b[1;32m   1682\u001b[0m     \u001b[0;32mif\u001b[0m \u001b[0mcancellation_context\u001b[0m \u001b[0;32mis\u001b[0m \u001b[0;32mNone\u001b[0m\u001b[0;34m:\u001b[0m\u001b[0;34m\u001b[0m\u001b[0;34m\u001b[0m\u001b[0m\n\u001b[0;32m-> 1683\u001b[0;31m       outputs = execute.execute(\n\u001b[0m\u001b[1;32m   1684\u001b[0m           \u001b[0mname\u001b[0m\u001b[0;34m.\u001b[0m\u001b[0mdecode\u001b[0m\u001b[0;34m(\u001b[0m\u001b[0;34m\"utf-8\"\u001b[0m\u001b[0;34m)\u001b[0m\u001b[0;34m,\u001b[0m\u001b[0;34m\u001b[0m\u001b[0;34m\u001b[0m\u001b[0m\n\u001b[1;32m   1685\u001b[0m           \u001b[0mnum_outputs\u001b[0m\u001b[0;34m=\u001b[0m\u001b[0mnum_outputs\u001b[0m\u001b[0;34m,\u001b[0m\u001b[0;34m\u001b[0m\u001b[0;34m\u001b[0m\u001b[0m\n",
      "\u001b[0;32m/usr/local/lib/python3.11/dist-packages/tensorflow/python/eager/execute.py\u001b[0m in \u001b[0;36mquick_execute\u001b[0;34m(op_name, num_outputs, inputs, attrs, ctx, name)\u001b[0m\n\u001b[1;32m     51\u001b[0m   \u001b[0;32mtry\u001b[0m\u001b[0;34m:\u001b[0m\u001b[0;34m\u001b[0m\u001b[0;34m\u001b[0m\u001b[0m\n\u001b[1;32m     52\u001b[0m     \u001b[0mctx\u001b[0m\u001b[0;34m.\u001b[0m\u001b[0mensure_initialized\u001b[0m\u001b[0;34m(\u001b[0m\u001b[0;34m)\u001b[0m\u001b[0;34m\u001b[0m\u001b[0;34m\u001b[0m\u001b[0m\n\u001b[0;32m---> 53\u001b[0;31m     tensors = pywrap_tfe.TFE_Py_Execute(ctx._handle, device_name, op_name,\n\u001b[0m\u001b[1;32m     54\u001b[0m                                         inputs, attrs, num_outputs)\n\u001b[1;32m     55\u001b[0m   \u001b[0;32mexcept\u001b[0m \u001b[0mcore\u001b[0m\u001b[0;34m.\u001b[0m\u001b[0m_NotOkStatusException\u001b[0m \u001b[0;32mas\u001b[0m \u001b[0me\u001b[0m\u001b[0;34m:\u001b[0m\u001b[0;34m\u001b[0m\u001b[0;34m\u001b[0m\u001b[0m\n",
      "\u001b[0;31mKeyboardInterrupt\u001b[0m: "
     ]
    }
   ],
   "source": [
    "import yfinance as yf\n",
    "import pandas as pd\n",
    "import numpy as np\n",
    "import ta  # Technical Analysis library\n",
    "import tensorflow as tf\n",
    "from sklearn.preprocessing import MinMaxScaler\n",
    "from sklearn.model_selection import train_test_split, KFold\n",
    "from sklearn.metrics import mean_absolute_error, mean_squared_error, r2_score\n",
    "from tensorflow.keras.models import Sequential\n",
    "from tensorflow.keras.layers import LSTM, GRU, Bidirectional, Dense, Dropout\n",
    "from tensorflow.keras.optimizers import Adam\n",
    "from tensorflow.keras.callbacks import EarlyStopping, LearningRateScheduler\n",
    "from datetime import datetime, timedelta\n",
    "import ta\n",
    "import time\n",
    "import matplotlib.pyplot as plt\n",
    "from keras.models import Sequential\n",
    "from keras.layers import Bidirectional, LSTM, Dropout, GRU, Dense, Input\n",
    "import tensorflow as tf\n",
    "import csv\n",
    "#################################################################################\n",
    "currentDate = '2024-12-2'\n",
    "timeFrame = 5 #in Years\n",
    "SEQ_LENGTH = 300  # this is the window size\n",
    "number_of_tickers = 240\n",
    "#################################################################################\n",
    "stock_number = 1\n",
    "url = \"https://en.wikipedia.org/wiki/List_of_S%26P_500_companies\"\n",
    "\n",
    "# Use pandas to read the table from the page\n",
    "smp500_table = pd.read_html(url)[0]\n",
    "\n",
    "# Get the first 50 tickers from the table\n",
    "tickers = smp500_table['Symbol'].head(number_of_tickers).tolist()\n",
    "\n",
    "results = []\n",
    "\n",
    "current_date_obj = datetime.strptime(currentDate, '%Y-%m-%d')\n",
    "start_date_obj = current_date_obj - timedelta(days=timeFrame*365)\n",
    "start_date = start_date_obj.strftime('%Y-%m-%d')\n",
    "\n",
    "start_time = time.time()\n",
    "\n",
    "for ticker in tickers:\n",
    "\n",
    "  try:\n",
    "\n",
    "    if stock_number != 1:\n",
    "      avg_time_per_iteration = elapsed_time / (stock_number - 1)  # average time per iteration so far\n",
    "      remaining_iterations = number_of_tickers - (stock_number - 1)\n",
    "      estimated_time_left = avg_time_per_iteration * remaining_iterations\n",
    "\n",
    "      # Format estimated time left in seconds, minutes, and hours\n",
    "      estimated_minutes = estimated_time_left / 60\n",
    "      estimated_seconds = estimated_time_left % 60\n",
    "      print(f\"\\nEstimated time left: {estimated_minutes:.2f} minutes\")\n",
    "\n",
    "\n",
    "    stock_data = yf.download(ticker, start=start_date, end=currentDate)\n",
    "\n",
    "    if stock_data.empty:\n",
    "          print(f\"No data found for {ticker} which is stock # {stock_number} of {number_of_tickers}.\")\n",
    "          stock_number +=1\n",
    "          continue  # Skip the rest of the loop for this ticker\n",
    "\n",
    "    # Rest of the processing for the current ticker\n",
    "    print(f\"\\nProcessing data for {ticker} which is stock # {stock_number} of {number_of_tickers}.\")\n",
    "    stock_number +=1\n",
    "\n",
    "    # Assuming stock_data has a 'Date' index\n",
    "    stock_data['Day_of_Week'] = stock_data.index.dayofweek  # 0=Monday, 6=Sunday\n",
    "    stock_data['Month'] = stock_data.index.month  # 1 to 12\n",
    "\n",
    "    # Day of the Week encoding (7 days)\n",
    "    stock_data['sin_day_of_week'] = np.sin(2 * np.pi * stock_data['Day_of_Week'] / 7)\n",
    "    stock_data['cos_day_of_week'] = np.cos(2 * np.pi * stock_data['Day_of_Week'] / 7)\n",
    "\n",
    "    # Month encoding (12 months)\n",
    "    stock_data['sin_month'] = np.sin(2 * np.pi * stock_data['Month'] / 12)\n",
    "    stock_data['cos_month'] = np.cos(2 * np.pi * stock_data['Month'] / 12)\n",
    "\n",
    "    # Time of the Year (Quarter encoding)\n",
    "    stock_data['Quarter'] = stock_data.index.quarter  # 1 to 4 (Q1, Q2, Q3, Q4)\n",
    "    stock_data['sin_quarter'] = np.sin(2 * np.pi * stock_data['Quarter'] / 4)\n",
    "    stock_data['cos_quarter'] = np.cos(2 * np.pi * stock_data['Quarter'] / 4)\n",
    "\n",
    "    # Drop the original Day_of_Week, Month, and Quarter columns if not needed\n",
    "    stock_data = stock_data.drop(['Day_of_Week', 'Month', 'Quarter'], axis=1)\n",
    "    # Feature Engineering: Calculate Technical Indicators\n",
    "    # Moving Averages\n",
    "    stock_data['SMA_10'] = stock_data['Close'].rolling(window=10).mean()\n",
    "    stock_data['SMA_50'] = stock_data['Close'].rolling(window=50).mean()\n",
    "\n",
    "    # Exponential Moving Averages (EMA)\n",
    "    stock_data['EMA_10'] = stock_data['Close'].ewm(span=10, adjust=False).mean()\n",
    "    stock_data['EMA_50'] = stock_data['Close'].ewm(span=50, adjust=False).mean()\n",
    "\n",
    "    # Bollinger Bands\n",
    "    stock_data['BB_high'] = stock_data['Close'].rolling(window=20).mean() + 2 * stock_data['Close'].rolling(window=20).std() #SMA with high and low bands based on Standard Diviation\n",
    "    stock_data['BB_low'] = stock_data['Close'].rolling(window=20).mean() - 2 * stock_data['Close'].rolling(window=20).std()\n",
    "\n",
    "    # Relative Strength Index (RSI) for overbought or oversold\n",
    "    stock_data['RSI_14'] = ta.momentum.RSIIndicator(stock_data['Close'].squeeze(), window=14).rsi() #momentum oscilator for speed and change of price movements\n",
    "\n",
    "    # Moving Average Convergence Divergence (MACD) to find buy and sell signals\n",
    "    macd_indicator = ta.trend.MACD(stock_data['Close'].squeeze())  # Ensure it's a 1D Series\n",
    "    stock_data['MACD'] = macd_indicator.macd()\n",
    "    stock_data['MACD_signal'] = macd_indicator.macd_signal()\n",
    "    # Create Lag Features (previous 5 days close prices)\n",
    "    for lag in range(1, 6):\n",
    "        stock_data[f'Close_lag_{lag}'] = stock_data['Close'].shift(lag)\n",
    "    # Calculate if the price went up or down compared to the previous day\n",
    "    stock_data['Price_Change'] = stock_data['Close'].diff()  # Calculate the difference between today's and yesterday's closing price\n",
    "    stock_data['Target'] = np.where(stock_data['Price_Change'] > 0, 1, 0)  # 1 if price went up, 0 if price went down\n",
    "\n",
    "    # Drop NaN values created by the .diff() method\n",
    "    stock_data = stock_data.dropna()\n",
    "    # Normalize the new features\n",
    "    scaler = MinMaxScaler()\n",
    "    try:\n",
    "      scaled_data = scaler.fit_transform(stock_data)\n",
    "    except ValueError as e:\n",
    "      print(f\"Scaling failed for {ticker}: {e}\")\n",
    "      continue  # Skip to the next ticker\n",
    "    # Prepare sliding window sequences for LSTM input\n",
    "    def create_sequences(data, target, seq_length):\n",
    "        X, y = [], []\n",
    "        for i in range(len(data) - seq_length):\n",
    "            X.append(data[i:i+seq_length, :])  # Use past seq_length days of data\n",
    "            y.append(target[i+seq_length])  # Predict the target (1 or 0)\n",
    "        return np.array(X), np.array(y)\n",
    "    X, y = create_sequences(scaled_data, stock_data['Target'].values, SEQ_LENGTH)\n",
    "    # Split into training and testing\n",
    "    X_train, X_test, y_train, y_test = train_test_split(X, y, test_size=0.2, shuffle=False)\n",
    "    # Build the model for binary classification\n",
    "\n",
    "\n",
    "    model = Sequential([\n",
    "        Input(shape=(X_train.shape[1], X_train.shape[2])),  # Define input shape here\n",
    "        Bidirectional(LSTM(50, return_sequences=True)),\n",
    "        Dropout(0.2),\n",
    "        GRU(50, return_sequences=False),\n",
    "        Dropout(0.2),\n",
    "        Dense(25, kernel_regularizer=tf.keras.regularizers.l2(0.01)),\n",
    "        Dense(1, activation='sigmoid')  # Sigmoid activation for binary classification\n",
    "    ])\n",
    "    # Compile the model with binary cross-entropy loss\n",
    "    optimizer = Adam(learning_rate=0.001)\n",
    "    model.compile(optimizer=optimizer, loss='binary_crossentropy', metrics=['accuracy'])\n",
    "\n",
    "    # Early stopping to prevent overfitting\n",
    "    early_stopping = EarlyStopping(monitor='val_loss', patience=5, restore_best_weights=True)\n",
    "    # Store the loss for all folds\n",
    "    train_loss_per_fold = []\n",
    "    val_loss_per_fold = []\n",
    "\n",
    "    # Train the model with walk-forward validation\n",
    "    kf = KFold(n_splits=5, shuffle=False)\n",
    "    for train_idx, val_idx in kf.split(X):\n",
    "        X_train_fold, X_val_fold = X[train_idx], X[val_idx]\n",
    "        y_train_fold, y_val_fold = y[train_idx], y[val_idx]\n",
    "\n",
    "        # Train the model\n",
    "        history = model.fit(X_train_fold, y_train_fold,\n",
    "                        validation_data=(X_val_fold, y_val_fold),\n",
    "                        epochs=200,  # Increase the number of epochs\n",
    "                        batch_size=32,\n",
    "                        callbacks=[early_stopping],\n",
    "                        verbose=0)\n",
    "    # Evaluate model on the test data\n",
    "    test_predictions2 = model.predict(X_test)\n",
    "    test_predictions2 = (test_predictions2 > 0.5).astype(int)  # Convert predictions to 0 or 1\n",
    "\n",
    "    # Calculate accuracy\n",
    "    test_accuracy2 = np.mean(test_predictions2.flatten() == y_test)\n",
    "    print(f\"Accuracy on test data: {test_accuracy2:.4f}\")\n",
    "    predictions = model.predict(X_test)\n",
    "\n",
    "    # Convert probabilities to binary predictions, but only for confident predictions\n",
    "    up_predictions = (predictions > 0.5).astype(int)  # Convert to binary class predictions\n",
    "    up_probabilities = predictions.flatten()\n",
    "\n",
    "    # Get the model's prediction (probability)\n",
    "    latest_data = scaled_data[-SEQ_LENGTH:].reshape(1, SEQ_LENGTH, scaled_data.shape[1])\n",
    "    probability = model.predict(latest_data)[0][0]  # Model returns a 2D array, extract the scalar value\n",
    "    print(f\"Confidence that {ticker} will go up tomorrow: {probability * 100:.1f}%\")\n",
    "\n",
    "    # Print the confidence levelprint(f\"Confidence that {ticker} will go up tomorrow: {probability * 100:.2f}%\")\n",
    "\n",
    "    def accuracy(confidence_threshold):\n",
    "\n",
    "      # Get model's confidence (probabilities)\n",
    "      predictions = model.predict(X_test)\n",
    "\n",
    "      # Convert probabilities to binary predictions, but only for confident predictions\n",
    "\n",
    "      confident_predictions = (predictions >= 0.52).astype(int)  # Convert to binary class predictions\n",
    "      confident_probabilities = predictions.flatten()\n",
    "\n",
    "      # Only keep predictions where the model is confident (above the threshold)\n",
    "      confident_mask = (confident_probabilities > confidence_threshold)  # Filter predictions with high confidence\n",
    "\n",
    "    # Filtered predictions and true labels based on confidence\n",
    "      filtered_predictions = confident_predictions[confident_mask]\n",
    "      filtered_y_test = y_test[confident_mask]\n",
    "      num_predictions = filtered_predictions.shape[0]\n",
    "\n",
    "    # If there are no confident predictions, handle this case gracefully\n",
    "      if len(filtered_predictions) == 0:\n",
    "          print(\"No 'up' predictions found!\")\n",
    "          confident_accuracy = 0.000001  # Set to 0 or some other default value\n",
    "      else:\n",
    "        # Calculate accuracy based on confident predictions\n",
    "          confident_accuracy = np.mean(filtered_predictions == filtered_y_test)\n",
    "          return confident_accuracy\n",
    "    adjusted_probability1 = accuracy(probability) * 100\n",
    "    print(f\"Adjusted Probability that {ticker} will go up tomorrow: {adjusted_probability1:.1f}%\")\n",
    "\n",
    "    # Get the last close price\n",
    "    last_close_price = stock_data['Close'].iloc[-1]\n",
    "\n",
    "    # Placeholder values for other columns\n",
    "    test_accuracy = test_accuracy2\n",
    "    test_accuracy2 = f\"{test_accuracy:.4f}\"\n",
    "    confidence = f\"{probability * 100:.1f}%\"\n",
    "    adjusted_probability = f\"{adjusted_probability1:.1f}%\"\n",
    "    # Append row data to results list\n",
    "    results.append({\n",
    "        \"Ticker\": ticker,\n",
    "        \"Price\": last_close_price,\n",
    "        \"Test Accuracy\": test_accuracy2,\n",
    "        \"Confidence\": confidence,\n",
    "        \"Adjusted Probability\": adjusted_probability\n",
    "   })\n",
    "    elapsed_time = time.time() - start_time\n",
    "\n",
    "  except Exception as e:\n",
    "        # Catch any exception and print the error\n",
    "        print(f\"An error occurred with {ticker}: {e}\")\n",
    "        elapsed_time = time.time() - start_time\n",
    "        continue  # Move to the next iteration\n",
    "\n",
    "df = pd.DataFrame(results)\n",
    "# Clean the 'Price' column to extract the numeric value\n",
    "df['Price'] = df['Price'].astype(float)\n",
    "\n",
    "# Clean 'Confidence' and 'Adjusted Probability' to numeric values\n",
    "df['Confidence'] = df['Confidence'].str.rstrip('%').astype(float)\n",
    "df['Adjusted Probability'] = df['Adjusted Probability'].str.rstrip('%').astype(float)\n",
    "\n",
    "# Sort by 'Adjusted Probability' and then by 'Confidence', both in descending order\n",
    "sorted_df = df.sort_values(by=[\"Confidence\", \"Adjusted Probability\"], ascending=[False, False])\n",
    "# Optionally, save the sorted DataFrame to a new CSV file\n",
    "sorted_df.to_csv(\"sorted_output.csv\", index=False)"
   ]
  },
  {
   "cell_type": "markdown",
   "metadata": {
    "id": "4jkn_ZxXZDbU"
   },
   "source": [
    "**CHAPTER TWO!**\n",
    "\n",
    "In which Pooh decides to make an LSTM model that predicts the price for particular stocks the following day.\n"
   ]
  },
  {
   "cell_type": "code",
   "execution_count": null,
   "metadata": {
    "colab": {
     "base_uri": "https://localhost:8080/"
    },
    "id": "L2jCmK9JcLJa",
    "outputId": "2ea24316-3b43-432e-bbd8-921e610cbed6"
   },
   "outputs": [
    {
     "name": "stdout",
     "output_type": "stream",
     "text": [
      "Filtered data saved to sorted_output2.csv\n"
     ]
    }
   ],
   "source": [
    "import pandas as pd\n",
    "\n",
    "# Load the original CSV file\n",
    "df = pd.read_csv('sorted_output.csv')\n",
    "\n",
    "# Filter the rows where 'Confidence' is greater than or equal to 0.52\n",
    "df_filtered = df[df['Confidence'] >= 53]\n",
    "\n",
    "# Save the filtered DataFrame to a new CSV file\n",
    "df_filtered.to_csv('sorted_output2.csv', index=False)\n",
    "\n",
    "print(\"Filtered data saved to sorted_output2.csv\")\n"
   ]
  },
  {
   "cell_type": "markdown",
   "metadata": {
    "id": "fILI1lpBWSfs"
   },
   "source": [
    "**sorted_output2.csv** is the full list of stocks with everything under 52% confidence cut out."
   ]
  },
  {
   "cell_type": "code",
   "execution_count": null,
   "metadata": {
    "id": "fIFPRlmzde_Q"
   },
   "outputs": [],
   "source": [
    "df = pd.read_csv('sorted_output2.csv')\n",
    "tickers = df['Ticker'].unique()"
   ]
  },
  {
   "cell_type": "code",
   "execution_count": null,
   "metadata": {
    "colab": {
     "base_uri": "https://localhost:8080/"
    },
    "id": "A_ObvBeUZNdP",
    "outputId": "0ce2454f-1376-41b8-962c-47c5a393aceb"
   },
   "outputs": [
    {
     "name": "stderr",
     "output_type": "stream",
     "text": [
      "\r",
      "[*********************100%***********************]  1 of 1 completed"
     ]
    },
    {
     "name": "stdout",
     "output_type": "stream",
     "text": [
      "\n",
      "Processing data for AVGO which is stock # 1 of 103.\n"
     ]
    },
    {
     "name": "stderr",
     "output_type": "stream",
     "text": [
      "\n"
     ]
    },
    {
     "name": "stdout",
     "output_type": "stream",
     "text": [
      "\u001b[1m8/8\u001b[0m \u001b[32m━━━━━━━━━━━━━━━━━━━━\u001b[0m\u001b[37m\u001b[0m \u001b[1m0s\u001b[0m 24ms/step\n",
      "Mean Absolute Error (MAE): 0.03580598742391698\n",
      "Root Mean Squared Error (RMSE): 0.044263839072269\n",
      "R-squared (R²): 0.8740113337790358\n",
      "\u001b[1m1/1\u001b[0m \u001b[32m━━━━━━━━━━━━━━━━━━━━\u001b[0m\u001b[37m\u001b[0m \u001b[1m0s\u001b[0m 183ms/step\n"
     ]
    },
    {
     "name": "stderr",
     "output_type": "stream",
     "text": [
      "\r",
      "[*********************100%***********************]  1 of 1 completed"
     ]
    },
    {
     "name": "stdout",
     "output_type": "stream",
     "text": [
      "Predicted stock price for tomorrow: $173.22\n",
      "Baseline Mean Absolute Error (MAE): 0.019819579284615314\n",
      "Baseline Root Mean Squared Error (RMSE): 0.033866061083595356\n",
      "Baseline R-squared (R²): 0.9262498859084904\n",
      "\n",
      "Estimated time left: 30.81 minutes\n",
      "\n",
      "Processing data for HWM which is stock # 2 of 103.\n"
     ]
    },
    {
     "name": "stderr",
     "output_type": "stream",
     "text": [
      "\n",
      "WARNING:tensorflow:5 out of the last 24 calls to <function TensorFlowTrainer.make_predict_function.<locals>.one_step_on_data_distributed at 0x7e56ca4a0820> triggered tf.function retracing. Tracing is expensive and the excessive number of tracings could be due to (1) creating @tf.function repeatedly in a loop, (2) passing tensors with different shapes, (3) passing Python objects instead of tensors. For (1), please define your @tf.function outside of the loop. For (2), @tf.function has reduce_retracing=True option that can avoid unnecessary retracing. For (3), please refer to https://www.tensorflow.org/guide/function#controlling_retracing and https://www.tensorflow.org/api_docs/python/tf/function for  more details.\n"
     ]
    },
    {
     "name": "stdout",
     "output_type": "stream",
     "text": [
      "\u001b[1m8/8\u001b[0m \u001b[32m━━━━━━━━━━━━━━━━━━━━\u001b[0m\u001b[37m\u001b[0m \u001b[1m0s\u001b[0m 24ms/step\n",
      "Mean Absolute Error (MAE): 0.05234067238238783\n",
      "Root Mean Squared Error (RMSE): 0.07024345676578325\n",
      "R-squared (R²): 0.815954861619296\n",
      "\u001b[1m1/1\u001b[0m \u001b[32m━━━━━━━━━━━━━━━━━━━━\u001b[0m\u001b[37m\u001b[0m \u001b[1m0s\u001b[0m 181ms/step\n"
     ]
    },
    {
     "name": "stderr",
     "output_type": "stream",
     "text": [
      "\r",
      "[*********************100%***********************]  1 of 1 completed"
     ]
    },
    {
     "name": "stdout",
     "output_type": "stream",
     "text": [
      "Predicted stock price for tomorrow: $99.14\n",
      "Baseline Mean Absolute Error (MAE): 0.013017272949774896\n",
      "Baseline Root Mean Squared Error (RMSE): 0.04366323338016772\n",
      "Baseline R-squared (R²): 0.9288877556951787\n",
      "\n",
      "Estimated time left: 33.28 minutes\n",
      "\n",
      "Processing data for CDNS which is stock # 3 of 103.\n"
     ]
    },
    {
     "name": "stderr",
     "output_type": "stream",
     "text": [
      "\n"
     ]
    },
    {
     "name": "stdout",
     "output_type": "stream",
     "text": [
      "\u001b[1m8/8\u001b[0m \u001b[32m━━━━━━━━━━━━━━━━━━━━\u001b[0m\u001b[37m\u001b[0m \u001b[1m0s\u001b[0m 24ms/step\n",
      "Mean Absolute Error (MAE): 0.02679794875562951\n",
      "Root Mean Squared Error (RMSE): 0.03398385855553761\n",
      "R-squared (R²): 0.7801789425838878\n",
      "\u001b[1m1/1\u001b[0m \u001b[32m━━━━━━━━━━━━━━━━━━━━\u001b[0m\u001b[37m\u001b[0m \u001b[1m0s\u001b[0m 180ms/step\n"
     ]
    },
    {
     "name": "stderr",
     "output_type": "stream",
     "text": [
      "\r",
      "[*********************100%***********************]  1 of 1 completed"
     ]
    },
    {
     "name": "stdout",
     "output_type": "stream",
     "text": [
      "Predicted stock price for tomorrow: $298.45\n",
      "Baseline Mean Absolute Error (MAE): 0.0173491320455604\n",
      "Baseline Root Mean Squared Error (RMSE): 0.02554401417578144\n",
      "Baseline R-squared (R²): 0.8758055436431236\n",
      "\n",
      "Estimated time left: 35.81 minutes\n",
      "\n",
      "Processing data for CB which is stock # 4 of 103.\n"
     ]
    },
    {
     "name": "stderr",
     "output_type": "stream",
     "text": [
      "\n"
     ]
    },
    {
     "name": "stdout",
     "output_type": "stream",
     "text": [
      "\u001b[1m8/8\u001b[0m \u001b[32m━━━━━━━━━━━━━━━━━━━━\u001b[0m\u001b[37m\u001b[0m \u001b[1m0s\u001b[0m 25ms/step\n",
      "Mean Absolute Error (MAE): 0.05358008796501167\n",
      "Root Mean Squared Error (RMSE): 0.06111863187966241\n",
      "R-squared (R²): 0.49593854325921627\n",
      "\u001b[1m1/1\u001b[0m \u001b[32m━━━━━━━━━━━━━━━━━━━━\u001b[0m\u001b[37m\u001b[0m \u001b[1m0s\u001b[0m 178ms/step\n"
     ]
    },
    {
     "name": "stderr",
     "output_type": "stream",
     "text": [
      "\r",
      "[*********************100%***********************]  1 of 1 completed"
     ]
    },
    {
     "name": "stdout",
     "output_type": "stream",
     "text": [
      "Predicted stock price for tomorrow: $272.77\n",
      "Baseline Mean Absolute Error (MAE): 0.011458132674307826\n",
      "Baseline Root Mean Squared Error (RMSE): 0.024387435268718605\n",
      "Baseline R-squared (R²): 0.9197456648537898\n",
      "\n",
      "Estimated time left: 35.09 minutes\n",
      "\n",
      "Processing data for ADSK which is stock # 5 of 103.\n"
     ]
    },
    {
     "name": "stderr",
     "output_type": "stream",
     "text": [
      "\n"
     ]
    },
    {
     "name": "stdout",
     "output_type": "stream",
     "text": [
      "\u001b[1m8/8\u001b[0m \u001b[32m━━━━━━━━━━━━━━━━━━━━\u001b[0m\u001b[37m\u001b[0m \u001b[1m0s\u001b[0m 24ms/step\n",
      "Mean Absolute Error (MAE): 0.019514642131926253\n",
      "Root Mean Squared Error (RMSE): 0.025835375670947673\n",
      "R-squared (R²): 0.9570304041543067\n",
      "\u001b[1m1/1\u001b[0m \u001b[32m━━━━━━━━━━━━━━━━━━━━\u001b[0m\u001b[37m\u001b[0m \u001b[1m0s\u001b[0m 175ms/step\n"
     ]
    },
    {
     "name": "stderr",
     "output_type": "stream",
     "text": [
      "\r",
      "[*********************100%***********************]  1 of 1 completed"
     ]
    },
    {
     "name": "stdout",
     "output_type": "stream",
     "text": [
      "Predicted stock price for tomorrow: $289.69\n",
      "Baseline Mean Absolute Error (MAE): 0.016363526249311994\n",
      "Baseline Root Mean Squared Error (RMSE): 0.02962068059165586\n",
      "Baseline R-squared (R²): 0.9435164774873507\n",
      "\n",
      "Estimated time left: 33.76 minutes\n",
      "\n",
      "Processing data for CVS which is stock # 6 of 103.\n"
     ]
    },
    {
     "name": "stderr",
     "output_type": "stream",
     "text": [
      "\n"
     ]
    },
    {
     "name": "stdout",
     "output_type": "stream",
     "text": [
      "\u001b[1m8/8\u001b[0m \u001b[32m━━━━━━━━━━━━━━━━━━━━\u001b[0m\u001b[37m\u001b[0m \u001b[1m0s\u001b[0m 24ms/step\n",
      "Mean Absolute Error (MAE): 0.024458559699367232\n",
      "Root Mean Squared Error (RMSE): 0.03447784287854518\n",
      "R-squared (R²): 0.9419112939670553\n",
      "\u001b[1m1/1\u001b[0m \u001b[32m━━━━━━━━━━━━━━━━━━━━\u001b[0m\u001b[37m\u001b[0m \u001b[1m0s\u001b[0m 181ms/step\n"
     ]
    },
    {
     "name": "stderr",
     "output_type": "stream",
     "text": [
      "\r",
      "[*********************100%***********************]  1 of 1 completed"
     ]
    },
    {
     "name": "stdout",
     "output_type": "stream",
     "text": [
      "Predicted stock price for tomorrow: $61.57\n",
      "Baseline Mean Absolute Error (MAE): 0.01682823081124603\n",
      "Baseline Root Mean Squared Error (RMSE): 0.03395699098103999\n",
      "Baseline R-squared (R²): 0.9436531128641716\n",
      "\n",
      "Estimated time left: 32.61 minutes\n",
      "\n",
      "Processing data for FI which is stock # 7 of 103.\n"
     ]
    },
    {
     "name": "stderr",
     "output_type": "stream",
     "text": [
      "\n"
     ]
    },
    {
     "name": "stdout",
     "output_type": "stream",
     "text": [
      "\u001b[1m8/8\u001b[0m \u001b[32m━━━━━━━━━━━━━━━━━━━━\u001b[0m\u001b[37m\u001b[0m \u001b[1m0s\u001b[0m 24ms/step\n",
      "Mean Absolute Error (MAE): 0.04400438173687859\n",
      "Root Mean Squared Error (RMSE): 0.07398325815019784\n",
      "R-squared (R²): 0.7577490259216215\n",
      "\u001b[1m1/1\u001b[0m \u001b[32m━━━━━━━━━━━━━━━━━━━━\u001b[0m\u001b[37m\u001b[0m \u001b[1m0s\u001b[0m 178ms/step\n"
     ]
    },
    {
     "name": "stderr",
     "output_type": "stream",
     "text": [
      "\r",
      "[*********************100%***********************]  1 of 1 completed"
     ]
    },
    {
     "name": "stdout",
     "output_type": "stream",
     "text": [
      "Predicted stock price for tomorrow: $188.00\n",
      "Baseline Mean Absolute Error (MAE): 0.012085431906251524\n",
      "Baseline Root Mean Squared Error (RMSE): 0.04232448280490436\n",
      "Baseline R-squared (R²): 0.9207166586279877\n",
      "\n",
      "Estimated time left: 33.39 minutes\n",
      "\n",
      "Processing data for ETN which is stock # 8 of 103.\n"
     ]
    },
    {
     "name": "stderr",
     "output_type": "stream",
     "text": [
      "\n"
     ]
    },
    {
     "name": "stdout",
     "output_type": "stream",
     "text": [
      "\u001b[1m8/8\u001b[0m \u001b[32m━━━━━━━━━━━━━━━━━━━━\u001b[0m\u001b[37m\u001b[0m \u001b[1m0s\u001b[0m 24ms/step\n",
      "Mean Absolute Error (MAE): 0.04231847633666524\n",
      "Root Mean Squared Error (RMSE): 0.05032108504443927\n",
      "R-squared (R²): 0.7430986569110212\n",
      "\u001b[1m1/1\u001b[0m \u001b[32m━━━━━━━━━━━━━━━━━━━━\u001b[0m\u001b[37m\u001b[0m \u001b[1m0s\u001b[0m 178ms/step\n"
     ]
    },
    {
     "name": "stderr",
     "output_type": "stream",
     "text": [
      "\r",
      "[*********************100%***********************]  1 of 1 completed"
     ]
    },
    {
     "name": "stdout",
     "output_type": "stream",
     "text": [
      "Predicted stock price for tomorrow: $344.90\n",
      "Baseline Mean Absolute Error (MAE): 0.014423295227475782\n",
      "Baseline Root Mean Squared Error (RMSE): 0.03416391478765091\n",
      "Baseline R-squared (R²): 0.8815863847145162\n",
      "\n",
      "Estimated time left: 30.64 minutes\n",
      "\n",
      "Processing data for BA which is stock # 9 of 103.\n"
     ]
    },
    {
     "name": "stderr",
     "output_type": "stream",
     "text": [
      "\n"
     ]
    },
    {
     "name": "stdout",
     "output_type": "stream",
     "text": [
      "\u001b[1m8/8\u001b[0m \u001b[32m━━━━━━━━━━━━━━━━━━━━\u001b[0m\u001b[37m\u001b[0m \u001b[1m0s\u001b[0m 25ms/step\n",
      "Mean Absolute Error (MAE): 0.013983788511060349\n",
      "Root Mean Squared Error (RMSE): 0.019380633692698483\n",
      "R-squared (R²): 0.9460169994264486\n",
      "\u001b[1m1/1\u001b[0m \u001b[32m━━━━━━━━━━━━━━━━━━━━\u001b[0m\u001b[37m\u001b[0m \u001b[1m0s\u001b[0m 185ms/step\n"
     ]
    },
    {
     "name": "stderr",
     "output_type": "stream",
     "text": [
      "\r",
      "[*********************100%***********************]  1 of 1 completed"
     ]
    },
    {
     "name": "stdout",
     "output_type": "stream",
     "text": [
      "Predicted stock price for tomorrow: $157.24\n",
      "Baseline Mean Absolute Error (MAE): 0.013071378323720885\n",
      "Baseline Root Mean Squared Error (RMSE): 0.028119569773283455\n",
      "Baseline R-squared (R²): 0.8863581179110906\n",
      "\n",
      "Estimated time left: 31.32 minutes\n",
      "\n",
      "Processing data for GDDY which is stock # 10 of 103.\n"
     ]
    },
    {
     "name": "stderr",
     "output_type": "stream",
     "text": [
      "\n"
     ]
    },
    {
     "name": "stdout",
     "output_type": "stream",
     "text": [
      "\u001b[1m8/8\u001b[0m \u001b[32m━━━━━━━━━━━━━━━━━━━━\u001b[0m\u001b[37m\u001b[0m \u001b[1m0s\u001b[0m 23ms/step\n",
      "Mean Absolute Error (MAE): 0.05983389798947628\n",
      "Root Mean Squared Error (RMSE): 0.0690287186457027\n",
      "R-squared (R²): 0.7832154486240916\n",
      "\u001b[1m1/1\u001b[0m \u001b[32m━━━━━━━━━━━━━━━━━━━━\u001b[0m\u001b[37m\u001b[0m \u001b[1m0s\u001b[0m 180ms/step\n"
     ]
    },
    {
     "name": "stderr",
     "output_type": "stream",
     "text": [
      "\r",
      "[*********************100%***********************]  1 of 1 completed"
     ]
    },
    {
     "name": "stdout",
     "output_type": "stream",
     "text": [
      "Predicted stock price for tomorrow: $174.48\n",
      "Baseline Mean Absolute Error (MAE): 0.01230152492295123\n",
      "Baseline Root Mean Squared Error (RMSE): 0.041919124433760516\n",
      "Baseline R-squared (R²): 0.9200546676546899\n",
      "\n",
      "Estimated time left: 31.75 minutes\n",
      "\n",
      "Processing data for BKNG which is stock # 11 of 103.\n"
     ]
    },
    {
     "name": "stderr",
     "output_type": "stream",
     "text": [
      "\n"
     ]
    },
    {
     "name": "stdout",
     "output_type": "stream",
     "text": [
      "\u001b[1m8/8\u001b[0m \u001b[32m━━━━━━━━━━━━━━━━━━━━\u001b[0m\u001b[37m\u001b[0m \u001b[1m0s\u001b[0m 24ms/step\n",
      "Mean Absolute Error (MAE): 0.026255162164716163\n",
      "Root Mean Squared Error (RMSE): 0.03515434529160459\n",
      "R-squared (R²): 0.8954281927456217\n",
      "\u001b[1m1/1\u001b[0m \u001b[32m━━━━━━━━━━━━━━━━━━━━\u001b[0m\u001b[37m\u001b[0m \u001b[1m0s\u001b[0m 173ms/step\n"
     ]
    },
    {
     "name": "stderr",
     "output_type": "stream",
     "text": [
      "\r",
      "[*********************100%***********************]  1 of 1 completed"
     ]
    },
    {
     "name": "stdout",
     "output_type": "stream",
     "text": [
      "Predicted stock price for tomorrow: $4909.32\n",
      "Baseline Mean Absolute Error (MAE): 0.012829818088667672\n",
      "Baseline Root Mean Squared Error (RMSE): 0.033134113932129707\n",
      "Baseline R-squared (R²): 0.9071017981141039\n",
      "\n",
      "Estimated time left: 30.13 minutes\n",
      "\n",
      "Processing data for ERIE which is stock # 12 of 103.\n"
     ]
    },
    {
     "name": "stderr",
     "output_type": "stream",
     "text": [
      "\n"
     ]
    },
    {
     "name": "stdout",
     "output_type": "stream",
     "text": [
      "\u001b[1m8/8\u001b[0m \u001b[32m━━━━━━━━━━━━━━━━━━━━\u001b[0m\u001b[37m\u001b[0m \u001b[1m0s\u001b[0m 25ms/step\n",
      "Mean Absolute Error (MAE): 0.06625161964404572\n",
      "Root Mean Squared Error (RMSE): 0.07659606963409807\n",
      "R-squared (R²): 0.7218958266219981\n",
      "\u001b[1m1/1\u001b[0m \u001b[32m━━━━━━━━━━━━━━━━━━━━\u001b[0m\u001b[37m\u001b[0m \u001b[1m0s\u001b[0m 175ms/step\n"
     ]
    },
    {
     "name": "stderr",
     "output_type": "stream",
     "text": [
      "\r",
      "[*********************100%***********************]  1 of 1 completed"
     ]
    },
    {
     "name": "stdout",
     "output_type": "stream",
     "text": [
      "Predicted stock price for tomorrow: $417.68\n",
      "Baseline Mean Absolute Error (MAE): 0.013270547273844172\n",
      "Baseline Root Mean Squared Error (RMSE): 0.02490241495072587\n",
      "Baseline R-squared (R²): 0.9706047291189193\n",
      "\n",
      "Estimated time left: 30.44 minutes\n",
      "\n",
      "Processing data for FICO which is stock # 13 of 103.\n"
     ]
    },
    {
     "name": "stderr",
     "output_type": "stream",
     "text": [
      "\n"
     ]
    },
    {
     "name": "stdout",
     "output_type": "stream",
     "text": [
      "\u001b[1m8/8\u001b[0m \u001b[32m━━━━━━━━━━━━━━━━━━━━\u001b[0m\u001b[37m\u001b[0m \u001b[1m0s\u001b[0m 24ms/step\n",
      "Mean Absolute Error (MAE): 0.038724251552130655\n",
      "Root Mean Squared Error (RMSE): 0.05192454299533782\n",
      "R-squared (R²): 0.8962725551268854\n",
      "\u001b[1m1/1\u001b[0m \u001b[32m━━━━━━━━━━━━━━━━━━━━\u001b[0m\u001b[37m\u001b[0m \u001b[1m0s\u001b[0m 175ms/step\n"
     ]
    },
    {
     "name": "stderr",
     "output_type": "stream",
     "text": [
      "\r",
      "[*********************100%***********************]  1 of 1 completed"
     ]
    },
    {
     "name": "stdout",
     "output_type": "stream",
     "text": [
      "Predicted stock price for tomorrow: $2129.87\n",
      "Baseline Mean Absolute Error (MAE): 0.012710699264124267\n",
      "Baseline Root Mean Squared Error (RMSE): 0.04050755292179567\n",
      "Baseline R-squared (R²): 0.9368722470995312\n",
      "\n",
      "Estimated time left: 28.72 minutes\n",
      "\n",
      "Processing data for ENPH which is stock # 14 of 103.\n"
     ]
    },
    {
     "name": "stderr",
     "output_type": "stream",
     "text": [
      "\n"
     ]
    },
    {
     "name": "stdout",
     "output_type": "stream",
     "text": [
      "\u001b[1m8/8\u001b[0m \u001b[32m━━━━━━━━━━━━━━━━━━━━\u001b[0m\u001b[37m\u001b[0m \u001b[1m0s\u001b[0m 24ms/step\n",
      "Mean Absolute Error (MAE): 0.01413970854949424\n",
      "Root Mean Squared Error (RMSE): 0.017578876200409314\n",
      "R-squared (R²): 0.8850294900825788\n",
      "\u001b[1m1/1\u001b[0m \u001b[32m━━━━━━━━━━━━━━━━━━━━\u001b[0m\u001b[37m\u001b[0m \u001b[1m0s\u001b[0m 180ms/step\n"
     ]
    },
    {
     "name": "stderr",
     "output_type": "stream",
     "text": [
      "\r",
      "[*********************100%***********************]  1 of 1 completed"
     ]
    },
    {
     "name": "stdout",
     "output_type": "stream",
     "text": [
      "Predicted stock price for tomorrow: $73.78\n",
      "Baseline Mean Absolute Error (MAE): 0.011237098468860453\n",
      "Baseline Root Mean Squared Error (RMSE): 0.017411422708559974\n",
      "Baseline R-squared (R²): 0.8872094379260465\n",
      "\n",
      "Estimated time left: 28.45 minutes\n",
      "\n",
      "Processing data for CDW which is stock # 15 of 103.\n"
     ]
    },
    {
     "name": "stderr",
     "output_type": "stream",
     "text": [
      "\n"
     ]
    },
    {
     "name": "stdout",
     "output_type": "stream",
     "text": [
      "\u001b[1m8/8\u001b[0m \u001b[32m━━━━━━━━━━━━━━━━━━━━\u001b[0m\u001b[37m\u001b[0m \u001b[1m0s\u001b[0m 24ms/step\n",
      "Mean Absolute Error (MAE): 0.05190948149811373\n",
      "Root Mean Squared Error (RMSE): 0.061187182448184274\n",
      "R-squared (R²): 0.6061633897726394\n",
      "\u001b[1m1/1\u001b[0m \u001b[32m━━━━━━━━━━━━━━━━━━━━\u001b[0m\u001b[37m\u001b[0m \u001b[1m0s\u001b[0m 184ms/step\n"
     ]
    },
    {
     "name": "stderr",
     "output_type": "stream",
     "text": [
      "\r",
      "[*********************100%***********************]  1 of 1 completed"
     ]
    },
    {
     "name": "stdout",
     "output_type": "stream",
     "text": [
      "Predicted stock price for tomorrow: $183.87\n",
      "Baseline Mean Absolute Error (MAE): 0.01546500670390641\n",
      "Baseline Root Mean Squared Error (RMSE): 0.026854816253289775\n",
      "Baseline R-squared (R²): 0.924135334955148\n",
      "\n",
      "Estimated time left: 27.24 minutes\n",
      "\n",
      "Processing data for HLT which is stock # 16 of 103.\n"
     ]
    },
    {
     "name": "stderr",
     "output_type": "stream",
     "text": [
      "\n"
     ]
    },
    {
     "name": "stdout",
     "output_type": "stream",
     "text": [
      "\u001b[1m8/8\u001b[0m \u001b[32m━━━━━━━━━━━━━━━━━━━━\u001b[0m\u001b[37m\u001b[0m \u001b[1m0s\u001b[0m 24ms/step\n",
      "Mean Absolute Error (MAE): 0.06300217922015042\n",
      "Root Mean Squared Error (RMSE): 0.06804421565738335\n",
      "R-squared (R²): 0.3942535405083988\n",
      "\u001b[1m1/1\u001b[0m \u001b[32m━━━━━━━━━━━━━━━━━━━━\u001b[0m\u001b[37m\u001b[0m \u001b[1m0s\u001b[0m 173ms/step\n"
     ]
    },
    {
     "name": "stderr",
     "output_type": "stream",
     "text": [
      "\r",
      "[*********************100%***********************]  1 of 1 completed"
     ]
    },
    {
     "name": "stdout",
     "output_type": "stream",
     "text": [
      "Predicted stock price for tomorrow: $232.72\n",
      "Baseline Mean Absolute Error (MAE): 0.011464149244474526\n",
      "Baseline Root Mean Squared Error (RMSE): 0.02786678486943739\n",
      "Baseline R-squared (R²): 0.8984026946265841\n",
      "\n",
      "Estimated time left: 26.43 minutes\n",
      "\n",
      "Processing data for BEN which is stock # 17 of 103.\n"
     ]
    },
    {
     "name": "stderr",
     "output_type": "stream",
     "text": [
      "\n"
     ]
    },
    {
     "name": "stdout",
     "output_type": "stream",
     "text": [
      "\u001b[1m8/8\u001b[0m \u001b[32m━━━━━━━━━━━━━━━━━━━━\u001b[0m\u001b[37m\u001b[0m \u001b[1m0s\u001b[0m 24ms/step\n",
      "Mean Absolute Error (MAE): 0.019737695309290638\n",
      "Root Mean Squared Error (RMSE): 0.02577337026221661\n",
      "R-squared (R²): 0.9586107812464357\n",
      "\u001b[1m1/1\u001b[0m \u001b[32m━━━━━━━━━━━━━━━━━━━━\u001b[0m\u001b[37m\u001b[0m \u001b[1m0s\u001b[0m 179ms/step\n"
     ]
    },
    {
     "name": "stderr",
     "output_type": "stream",
     "text": [
      "\r",
      "[*********************100%***********************]  1 of 1 completed"
     ]
    },
    {
     "name": "stdout",
     "output_type": "stream",
     "text": [
      "Predicted stock price for tomorrow: $23.28\n",
      "Baseline Mean Absolute Error (MAE): 0.015118317949735182\n",
      "Baseline Root Mean Squared Error (RMSE): 0.025370961733390027\n",
      "Baseline R-squared (R²): 0.9598931398516467\n",
      "\n",
      "Estimated time left: 26.07 minutes\n",
      "\n",
      "Processing data for BSX which is stock # 18 of 103.\n"
     ]
    },
    {
     "name": "stderr",
     "output_type": "stream",
     "text": [
      "\n"
     ]
    },
    {
     "name": "stdout",
     "output_type": "stream",
     "text": [
      "\u001b[1m8/8\u001b[0m \u001b[32m━━━━━━━━━━━━━━━━━━━━\u001b[0m\u001b[37m\u001b[0m \u001b[1m0s\u001b[0m 24ms/step\n",
      "Mean Absolute Error (MAE): 0.04221541654998494\n",
      "Root Mean Squared Error (RMSE): 0.051173337847356865\n",
      "R-squared (R²): 0.8415546729310974\n",
      "\u001b[1m1/1\u001b[0m \u001b[32m━━━━━━━━━━━━━━━━━━━━\u001b[0m\u001b[37m\u001b[0m \u001b[1m0s\u001b[0m 180ms/step\n"
     ]
    },
    {
     "name": "stderr",
     "output_type": "stream",
     "text": [
      "\r",
      "[*********************100%***********************]  1 of 1 completed"
     ]
    },
    {
     "name": "stdout",
     "output_type": "stream",
     "text": [
      "Predicted stock price for tomorrow: $84.35\n",
      "Baseline Mean Absolute Error (MAE): 0.011118833411373019\n",
      "Baseline Root Mean Squared Error (RMSE): 0.03540270523866188\n",
      "Baseline R-squared (R²): 0.924165846542973\n",
      "\n",
      "Estimated time left: 25.21 minutes\n",
      "\n",
      "Processing data for CAT which is stock # 19 of 103.\n"
     ]
    },
    {
     "name": "stderr",
     "output_type": "stream",
     "text": [
      "\n"
     ]
    },
    {
     "name": "stdout",
     "output_type": "stream",
     "text": [
      "\u001b[1m8/8\u001b[0m \u001b[32m━━━━━━━━━━━━━━━━━━━━\u001b[0m\u001b[37m\u001b[0m \u001b[1m0s\u001b[0m 24ms/step\n",
      "Mean Absolute Error (MAE): 0.049135396494732086\n",
      "Root Mean Squared Error (RMSE): 0.05500641105478642\n",
      "R-squared (R²): 0.6397648821271424\n",
      "\u001b[1m1/1\u001b[0m \u001b[32m━━━━━━━━━━━━━━━━━━━━\u001b[0m\u001b[37m\u001b[0m \u001b[1m0s\u001b[0m 175ms/step\n"
     ]
    },
    {
     "name": "stderr",
     "output_type": "stream",
     "text": [
      "\r",
      "[*********************100%***********************]  1 of 1 completed"
     ]
    },
    {
     "name": "stdout",
     "output_type": "stream",
     "text": [
      "Predicted stock price for tomorrow: $377.78\n",
      "Baseline Mean Absolute Error (MAE): 0.014633295358240837\n",
      "Baseline Root Mean Squared Error (RMSE): 0.030681069013410965\n",
      "Baseline R-squared (R²): 0.8879271532720471\n",
      "\n",
      "Estimated time left: 25.44 minutes\n",
      "\n",
      "Processing data for GILD which is stock # 20 of 103.\n"
     ]
    },
    {
     "name": "stderr",
     "output_type": "stream",
     "text": [
      "\n"
     ]
    },
    {
     "name": "stdout",
     "output_type": "stream",
     "text": [
      "\u001b[1m8/8\u001b[0m \u001b[32m━━━━━━━━━━━━━━━━━━━━\u001b[0m\u001b[37m\u001b[0m \u001b[1m0s\u001b[0m 29ms/step\n",
      "Mean Absolute Error (MAE): 0.02909230375282063\n",
      "Root Mean Squared Error (RMSE): 0.039968466033038975\n",
      "R-squared (R²): 0.9617231276910442\n",
      "\u001b[1m1/1\u001b[0m \u001b[32m━━━━━━━━━━━━━━━━━━━━\u001b[0m\u001b[37m\u001b[0m \u001b[1m0s\u001b[0m 195ms/step\n"
     ]
    },
    {
     "name": "stderr",
     "output_type": "stream",
     "text": [
      "\r",
      "[*********************100%***********************]  1 of 1 completed"
     ]
    },
    {
     "name": "stdout",
     "output_type": "stream",
     "text": [
      "Predicted stock price for tomorrow: $90.66\n",
      "Baseline Mean Absolute Error (MAE): 0.020243482024302123\n",
      "Baseline Root Mean Squared Error (RMSE): 0.03325173836089593\n",
      "Baseline R-squared (R²): 0.973507057835546\n",
      "\n",
      "Estimated time left: 25.40 minutes\n",
      "\n",
      "Processing data for CLX which is stock # 21 of 103.\n"
     ]
    },
    {
     "name": "stderr",
     "output_type": "stream",
     "text": [
      "\n"
     ]
    },
    {
     "name": "stdout",
     "output_type": "stream",
     "text": [
      "\u001b[1m8/8\u001b[0m \u001b[32m━━━━━━━━━━━━━━━━━━━━\u001b[0m\u001b[37m\u001b[0m \u001b[1m0s\u001b[0m 26ms/step\n",
      "Mean Absolute Error (MAE): 0.015301454439386918\n",
      "Root Mean Squared Error (RMSE): 0.019992639543417786\n",
      "R-squared (R²): 0.9534601807394063\n",
      "\u001b[1m1/1\u001b[0m \u001b[32m━━━━━━━━━━━━━━━━━━━━\u001b[0m\u001b[37m\u001b[0m \u001b[1m0s\u001b[0m 190ms/step\n"
     ]
    },
    {
     "name": "stderr",
     "output_type": "stream",
     "text": [
      "\r",
      "[*********************100%***********************]  1 of 1 completed"
     ]
    },
    {
     "name": "stdout",
     "output_type": "stream",
     "text": [
      "Predicted stock price for tomorrow: $166.92\n",
      "Baseline Mean Absolute Error (MAE): 0.011753629260047374\n",
      "Baseline Root Mean Squared Error (RMSE): 0.020537542064437246\n",
      "Baseline R-squared (R²): 0.9508887088129504\n",
      "\n",
      "Estimated time left: 25.21 minutes\n",
      "\n",
      "Processing data for BK which is stock # 22 of 103.\n"
     ]
    },
    {
     "name": "stderr",
     "output_type": "stream",
     "text": [
      "\n"
     ]
    },
    {
     "name": "stdout",
     "output_type": "stream",
     "text": [
      "\u001b[1m8/8\u001b[0m \u001b[32m━━━━━━━━━━━━━━━━━━━━\u001b[0m\u001b[37m\u001b[0m \u001b[1m0s\u001b[0m 25ms/step\n",
      "Mean Absolute Error (MAE): 0.01749782162101232\n",
      "Root Mean Squared Error (RMSE): 0.02254966853210754\n",
      "R-squared (R²): 0.9770327476984209\n",
      "\u001b[1m1/1\u001b[0m \u001b[32m━━━━━━━━━━━━━━━━━━━━\u001b[0m\u001b[37m\u001b[0m \u001b[1m0s\u001b[0m 181ms/step\n"
     ]
    },
    {
     "name": "stderr",
     "output_type": "stream",
     "text": [
      "\r",
      "[*********************100%***********************]  1 of 1 completed"
     ]
    },
    {
     "name": "stdout",
     "output_type": "stream",
     "text": [
      "Predicted stock price for tomorrow: $80.62\n",
      "Baseline Mean Absolute Error (MAE): 0.012140012765177916\n",
      "Baseline Root Mean Squared Error (RMSE): 0.038745138560236196\n",
      "Baseline R-squared (R²): 0.9321947762791389\n",
      "\n",
      "Estimated time left: 24.55 minutes\n",
      "\n",
      "Processing data for AMP which is stock # 23 of 103.\n"
     ]
    },
    {
     "name": "stderr",
     "output_type": "stream",
     "text": [
      "\n"
     ]
    },
    {
     "name": "stdout",
     "output_type": "stream",
     "text": [
      "\u001b[1m8/8\u001b[0m \u001b[32m━━━━━━━━━━━━━━━━━━━━\u001b[0m\u001b[37m\u001b[0m \u001b[1m0s\u001b[0m 25ms/step\n",
      "Mean Absolute Error (MAE): 0.047729467616733134\n",
      "Root Mean Squared Error (RMSE): 0.05909229958446118\n",
      "R-squared (R²): 0.6329999800077986\n",
      "\u001b[1m1/1\u001b[0m \u001b[32m━━━━━━━━━━━━━━━━━━━━\u001b[0m\u001b[37m\u001b[0m \u001b[1m0s\u001b[0m 204ms/step\n"
     ]
    },
    {
     "name": "stderr",
     "output_type": "stream",
     "text": [
      "\r",
      "[*********************100%***********************]  1 of 1 completed"
     ]
    },
    {
     "name": "stdout",
     "output_type": "stream",
     "text": [
      "Predicted stock price for tomorrow: $511.41\n",
      "Baseline Mean Absolute Error (MAE): 0.010054184694112608\n",
      "Baseline Root Mean Squared Error (RMSE): 0.028926680399727574\n",
      "Baseline R-squared (R²): 0.9120569546552786\n",
      "\n",
      "Estimated time left: 23.84 minutes\n",
      "\n",
      "Processing data for CI which is stock # 24 of 103.\n"
     ]
    },
    {
     "name": "stderr",
     "output_type": "stream",
     "text": [
      "\n"
     ]
    },
    {
     "name": "stdout",
     "output_type": "stream",
     "text": [
      "\u001b[1m8/8\u001b[0m \u001b[32m━━━━━━━━━━━━━━━━━━━━\u001b[0m\u001b[37m\u001b[0m \u001b[1m0s\u001b[0m 25ms/step\n",
      "Mean Absolute Error (MAE): 0.034588567228039664\n",
      "Root Mean Squared Error (RMSE): 0.04136309596796824\n",
      "R-squared (R²): 0.6211175770543367\n",
      "\u001b[1m1/1\u001b[0m \u001b[32m━━━━━━━━━━━━━━━━━━━━\u001b[0m\u001b[37m\u001b[0m \u001b[1m0s\u001b[0m 184ms/step\n"
     ]
    },
    {
     "name": "stderr",
     "output_type": "stream",
     "text": [
      "\r",
      "[*********************100%***********************]  1 of 1 completed"
     ]
    },
    {
     "name": "stdout",
     "output_type": "stream",
     "text": [
      "Predicted stock price for tomorrow: $330.39\n",
      "Baseline Mean Absolute Error (MAE): 0.013550071597234578\n",
      "Baseline Root Mean Squared Error (RMSE): 0.02130770910381307\n",
      "Baseline R-squared (R²): 0.8994569857795921\n",
      "\n",
      "Estimated time left: 23.17 minutes\n",
      "\n",
      "Processing data for HIG which is stock # 25 of 103.\n"
     ]
    },
    {
     "name": "stderr",
     "output_type": "stream",
     "text": [
      "\n"
     ]
    },
    {
     "name": "stdout",
     "output_type": "stream",
     "text": [
      "\u001b[1m8/8\u001b[0m \u001b[32m━━━━━━━━━━━━━━━━━━━━\u001b[0m\u001b[37m\u001b[0m \u001b[1m0s\u001b[0m 25ms/step\n",
      "Mean Absolute Error (MAE): 0.11969406054453811\n",
      "Root Mean Squared Error (RMSE): 0.13247805828362724\n",
      "R-squared (R²): -0.5250419466089\n",
      "\u001b[1m1/1\u001b[0m \u001b[32m━━━━━━━━━━━━━━━━━━━━\u001b[0m\u001b[37m\u001b[0m \u001b[1m0s\u001b[0m 188ms/step\n"
     ]
    },
    {
     "name": "stderr",
     "output_type": "stream",
     "text": [
      "\r",
      "[*********************100%***********************]  1 of 1 completed"
     ]
    },
    {
     "name": "stdout",
     "output_type": "stream",
     "text": [
      "Predicted stock price for tomorrow: $102.42\n",
      "Baseline Mean Absolute Error (MAE): 0.011334048729228089\n",
      "Baseline Root Mean Squared Error (RMSE): 0.031668520407300865\n",
      "Baseline R-squared (R²): 0.9128536048192902\n",
      "\n",
      "Estimated time left: 22.76 minutes\n",
      "\n",
      "Processing data for CTAS which is stock # 26 of 103.\n"
     ]
    },
    {
     "name": "stderr",
     "output_type": "stream",
     "text": [
      "\n"
     ]
    },
    {
     "name": "stdout",
     "output_type": "stream",
     "text": [
      "\u001b[1m8/8\u001b[0m \u001b[32m━━━━━━━━━━━━━━━━━━━━\u001b[0m\u001b[37m\u001b[0m \u001b[1m0s\u001b[0m 25ms/step\n",
      "Mean Absolute Error (MAE): 0.03381381619945713\n",
      "Root Mean Squared Error (RMSE): 0.042782020742433306\n",
      "R-squared (R²): 0.8721345379305456\n",
      "\u001b[1m1/1\u001b[0m \u001b[32m━━━━━━━━━━━━━━━━━━━━\u001b[0m\u001b[37m\u001b[0m \u001b[1m0s\u001b[0m 200ms/step\n"
     ]
    },
    {
     "name": "stderr",
     "output_type": "stream",
     "text": [
      "\r",
      "[*********************100%***********************]  1 of 1 completed"
     ]
    },
    {
     "name": "stdout",
     "output_type": "stream",
     "text": [
      "Predicted stock price for tomorrow: $211.54\n",
      "Baseline Mean Absolute Error (MAE): 0.009505503806531318\n",
      "Baseline Root Mean Squared Error (RMSE): 0.030517525112041692\n",
      "Baseline R-squared (R²): 0.9349377188943986\n",
      "\n",
      "Estimated time left: 22.23 minutes\n",
      "\n",
      "Processing data for EXPD which is stock # 27 of 103.\n"
     ]
    },
    {
     "name": "stderr",
     "output_type": "stream",
     "text": [
      "\n"
     ]
    },
    {
     "name": "stdout",
     "output_type": "stream",
     "text": [
      "\u001b[1m8/8\u001b[0m \u001b[32m━━━━━━━━━━━━━━━━━━━━\u001b[0m\u001b[37m\u001b[0m \u001b[1m0s\u001b[0m 25ms/step\n",
      "Mean Absolute Error (MAE): 0.025389537471435943\n",
      "Root Mean Squared Error (RMSE): 0.0316751980486701\n",
      "R-squared (R²): 0.5621130283805832\n",
      "\u001b[1m1/1\u001b[0m \u001b[32m━━━━━━━━━━━━━━━━━━━━\u001b[0m\u001b[37m\u001b[0m \u001b[1m0s\u001b[0m 183ms/step\n"
     ]
    },
    {
     "name": "stderr",
     "output_type": "stream",
     "text": [
      "\r",
      "[*********************100%***********************]  1 of 1 completed"
     ]
    },
    {
     "name": "stdout",
     "output_type": "stream",
     "text": [
      "Predicted stock price for tomorrow: $121.58\n",
      "Baseline Mean Absolute Error (MAE): 0.014444610723421526\n",
      "Baseline Root Mean Squared Error (RMSE): 0.019798132389687823\n",
      "Baseline R-squared (R²): 0.8289308119780094\n",
      "\n",
      "Estimated time left: 21.73 minutes\n",
      "\n",
      "Processing data for AMAT which is stock # 28 of 103.\n"
     ]
    },
    {
     "name": "stderr",
     "output_type": "stream",
     "text": [
      "\n"
     ]
    },
    {
     "name": "stdout",
     "output_type": "stream",
     "text": [
      "\u001b[1m8/8\u001b[0m \u001b[32m━━━━━━━━━━━━━━━━━━━━\u001b[0m\u001b[37m\u001b[0m \u001b[1m0s\u001b[0m 28ms/step\n",
      "Mean Absolute Error (MAE): 0.053055284262167976\n",
      "Root Mean Squared Error (RMSE): 0.06278584348232635\n",
      "R-squared (R²): 0.6154102281081764\n",
      "\u001b[1m1/1\u001b[0m \u001b[32m━━━━━━━━━━━━━━━━━━━━\u001b[0m\u001b[37m\u001b[0m \u001b[1m0s\u001b[0m 186ms/step\n"
     ]
    },
    {
     "name": "stderr",
     "output_type": "stream",
     "text": [
      "\r",
      "[*********************100%***********************]  1 of 1 completed"
     ]
    },
    {
     "name": "stdout",
     "output_type": "stream",
     "text": [
      "Predicted stock price for tomorrow: $170.47\n",
      "Baseline Mean Absolute Error (MAE): 0.018389592953278303\n",
      "Baseline Root Mean Squared Error (RMSE): 0.02626309316863158\n",
      "Baseline R-squared (R²): 0.9327076008019773\n",
      "\n",
      "Estimated time left: 21.63 minutes\n",
      "\n",
      "Processing data for AES which is stock # 29 of 103.\n"
     ]
    },
    {
     "name": "stderr",
     "output_type": "stream",
     "text": [
      "\n"
     ]
    },
    {
     "name": "stdout",
     "output_type": "stream",
     "text": [
      "\u001b[1m8/8\u001b[0m \u001b[32m━━━━━━━━━━━━━━━━━━━━\u001b[0m\u001b[37m\u001b[0m \u001b[1m0s\u001b[0m 25ms/step\n",
      "Mean Absolute Error (MAE): 0.02399968360021181\n",
      "Root Mean Squared Error (RMSE): 0.031165639963396843\n",
      "R-squared (R²): 0.8895744998602576\n",
      "\u001b[1m1/1\u001b[0m \u001b[32m━━━━━━━━━━━━━━━━━━━━\u001b[0m\u001b[37m\u001b[0m \u001b[1m0s\u001b[0m 184ms/step\n"
     ]
    },
    {
     "name": "stderr",
     "output_type": "stream",
     "text": [
      "\r",
      "[*********************100%***********************]  1 of 1 completed"
     ]
    },
    {
     "name": "stdout",
     "output_type": "stream",
     "text": [
      "Predicted stock price for tomorrow: $13.15\n",
      "Baseline Mean Absolute Error (MAE): 0.016601588890451782\n",
      "Baseline Root Mean Squared Error (RMSE): 0.029107533891260282\n",
      "Baseline R-squared (R²): 0.9036774214574902\n",
      "\n",
      "Estimated time left: 21.71 minutes\n",
      "\n",
      "Processing data for GLW which is stock # 30 of 103.\n"
     ]
    },
    {
     "name": "stderr",
     "output_type": "stream",
     "text": [
      "\n"
     ]
    },
    {
     "name": "stdout",
     "output_type": "stream",
     "text": [
      "\u001b[1m8/8\u001b[0m \u001b[32m━━━━━━━━━━━━━━━━━━━━\u001b[0m\u001b[37m\u001b[0m \u001b[1m0s\u001b[0m 24ms/step\n",
      "Mean Absolute Error (MAE): 0.022063050962998425\n",
      "Root Mean Squared Error (RMSE): 0.030557593612938028\n",
      "R-squared (R²): 0.9748297791398768\n",
      "\u001b[1m1/1\u001b[0m \u001b[32m━━━━━━━━━━━━━━━━━━━━\u001b[0m\u001b[37m\u001b[0m \u001b[1m0s\u001b[0m 181ms/step\n"
     ]
    },
    {
     "name": "stderr",
     "output_type": "stream",
     "text": [
      "\r",
      "[*********************100%***********************]  1 of 1 completed"
     ]
    },
    {
     "name": "stdout",
     "output_type": "stream",
     "text": [
      "Predicted stock price for tomorrow: $47.82\n",
      "Baseline Mean Absolute Error (MAE): 0.01680474583905082\n",
      "Baseline Root Mean Squared Error (RMSE): 0.044664974814545164\n",
      "Baseline R-squared (R²): 0.9462246913887806\n",
      "\n",
      "Estimated time left: 21.67 minutes\n",
      "\n",
      "Processing data for ALL which is stock # 31 of 103.\n"
     ]
    },
    {
     "name": "stderr",
     "output_type": "stream",
     "text": [
      "\n"
     ]
    },
    {
     "name": "stdout",
     "output_type": "stream",
     "text": [
      "\u001b[1m8/8\u001b[0m \u001b[32m━━━━━━━━━━━━━━━━━━━━\u001b[0m\u001b[37m\u001b[0m \u001b[1m0s\u001b[0m 25ms/step\n",
      "Mean Absolute Error (MAE): 0.09641020030724394\n",
      "Root Mean Squared Error (RMSE): 0.10717622250043246\n",
      "R-squared (R²): -0.041844050201368166\n",
      "\u001b[1m1/1\u001b[0m \u001b[32m━━━━━━━━━━━━━━━━━━━━\u001b[0m\u001b[37m\u001b[0m \u001b[1m0s\u001b[0m 196ms/step\n"
     ]
    },
    {
     "name": "stderr",
     "output_type": "stream",
     "text": [
      "\r",
      "[*********************100%***********************]  1 of 1 completed"
     ]
    },
    {
     "name": "stdout",
     "output_type": "stream",
     "text": [
      "Predicted stock price for tomorrow: $180.29\n",
      "Baseline Mean Absolute Error (MAE): 0.01459132568735403\n",
      "Baseline Root Mean Squared Error (RMSE): 0.03492876556534086\n",
      "Baseline R-squared (R²): 0.8893446799746525\n",
      "\n",
      "Estimated time left: 21.06 minutes\n",
      "\n",
      "Processing data for BG which is stock # 32 of 103.\n"
     ]
    },
    {
     "name": "stderr",
     "output_type": "stream",
     "text": [
      "\n"
     ]
    },
    {
     "name": "stdout",
     "output_type": "stream",
     "text": [
      "\u001b[1m8/8\u001b[0m \u001b[32m━━━━━━━━━━━━━━━━━━━━\u001b[0m\u001b[37m\u001b[0m \u001b[1m0s\u001b[0m 26ms/step\n",
      "Mean Absolute Error (MAE): 0.022381638583781994\n",
      "Root Mean Squared Error (RMSE): 0.02883194018686327\n",
      "R-squared (R²): 0.8590986749727081\n",
      "\u001b[1m1/1\u001b[0m \u001b[32m━━━━━━━━━━━━━━━━━━━━\u001b[0m\u001b[37m\u001b[0m \u001b[1m0s\u001b[0m 189ms/step\n"
     ]
    },
    {
     "name": "stderr",
     "output_type": "stream",
     "text": [
      "\r",
      "[*********************100%***********************]  1 of 1 completed"
     ]
    },
    {
     "name": "stdout",
     "output_type": "stream",
     "text": [
      "Predicted stock price for tomorrow: $90.39\n",
      "Baseline Mean Absolute Error (MAE): 0.0124015093368835\n",
      "Baseline Root Mean Squared Error (RMSE): 0.017687320606601543\n",
      "Baseline R-squared (R²): 0.9469736863102213\n",
      "\n",
      "Estimated time left: 20.52 minutes\n",
      "\n",
      "Processing data for COST which is stock # 33 of 103.\n"
     ]
    },
    {
     "name": "stderr",
     "output_type": "stream",
     "text": [
      "\n"
     ]
    },
    {
     "name": "stdout",
     "output_type": "stream",
     "text": [
      "\u001b[1m8/8\u001b[0m \u001b[32m━━━━━━━━━━━━━━━━━━━━\u001b[0m\u001b[37m\u001b[0m \u001b[1m0s\u001b[0m 27ms/step\n",
      "Mean Absolute Error (MAE): 0.07602446348341918\n",
      "Root Mean Squared Error (RMSE): 0.08361539298151953\n",
      "R-squared (R²): 0.5077245447534056\n",
      "\u001b[1m1/1\u001b[0m \u001b[32m━━━━━━━━━━━━━━━━━━━━\u001b[0m\u001b[37m\u001b[0m \u001b[1m0s\u001b[0m 192ms/step\n"
     ]
    },
    {
     "name": "stderr",
     "output_type": "stream",
     "text": [
      "\r",
      "[*********************100%***********************]  1 of 1 completed"
     ]
    },
    {
     "name": "stdout",
     "output_type": "stream",
     "text": [
      "Predicted stock price for tomorrow: $886.88\n",
      "Baseline Mean Absolute Error (MAE): 0.012522070384040077\n",
      "Baseline Root Mean Squared Error (RMSE): 0.034342095482145216\n",
      "Baseline R-squared (R²): 0.9169596263354728\n",
      "\n",
      "Estimated time left: 20.03 minutes\n",
      "\n",
      "Processing data for COR which is stock # 34 of 103.\n"
     ]
    },
    {
     "name": "stderr",
     "output_type": "stream",
     "text": [
      "\n"
     ]
    },
    {
     "name": "stdout",
     "output_type": "stream",
     "text": [
      "\u001b[1m8/8\u001b[0m \u001b[32m━━━━━━━━━━━━━━━━━━━━\u001b[0m\u001b[37m\u001b[0m \u001b[1m0s\u001b[0m 24ms/step\n",
      "Mean Absolute Error (MAE): 0.05179601501515388\n",
      "Root Mean Squared Error (RMSE): 0.05760106180010783\n",
      "R-squared (R²): -0.3090194773869508\n",
      "\u001b[1m1/1\u001b[0m \u001b[32m━━━━━━━━━━━━━━━━━━━━\u001b[0m\u001b[37m\u001b[0m \u001b[1m0s\u001b[0m 188ms/step\n"
     ]
    },
    {
     "name": "stderr",
     "output_type": "stream",
     "text": [
      "\r",
      "[*********************100%***********************]  1 of 1 completed"
     ]
    },
    {
     "name": "stdout",
     "output_type": "stream",
     "text": [
      "Predicted stock price for tomorrow: $237.26\n",
      "Baseline Mean Absolute Error (MAE): 0.011268807867876533\n",
      "Baseline Root Mean Squared Error (RMSE): 0.0214585875240868\n",
      "Baseline R-squared (R²): 0.8183282523489431\n",
      "\n",
      "Estimated time left: 19.66 minutes\n",
      "\n",
      "Processing data for GE which is stock # 35 of 103.\n"
     ]
    },
    {
     "name": "stderr",
     "output_type": "stream",
     "text": [
      "\n"
     ]
    },
    {
     "name": "stdout",
     "output_type": "stream",
     "text": [
      "\u001b[1m8/8\u001b[0m \u001b[32m━━━━━━━━━━━━━━━━━━━━\u001b[0m\u001b[37m\u001b[0m \u001b[1m0s\u001b[0m 24ms/step\n",
      "Mean Absolute Error (MAE): 0.04984707076411109\n",
      "Root Mean Squared Error (RMSE): 0.06196521436010199\n",
      "R-squared (R²): 0.8348889582749507\n",
      "\u001b[1m1/1\u001b[0m \u001b[32m━━━━━━━━━━━━━━━━━━━━\u001b[0m\u001b[37m\u001b[0m \u001b[1m0s\u001b[0m 179ms/step\n"
     ]
    },
    {
     "name": "stderr",
     "output_type": "stream",
     "text": [
      "\r",
      "[*********************100%***********************]  1 of 1 completed"
     ]
    },
    {
     "name": "stdout",
     "output_type": "stream",
     "text": [
      "Predicted stock price for tomorrow: $171.86\n",
      "Baseline Mean Absolute Error (MAE): 0.014897735219483281\n",
      "Baseline Root Mean Squared Error (RMSE): 0.03780136101779039\n",
      "Baseline R-squared (R²): 0.9385537932283323\n",
      "\n",
      "Estimated time left: 19.09 minutes\n",
      "\n",
      "Processing data for ACGL which is stock # 36 of 103.\n"
     ]
    },
    {
     "name": "stderr",
     "output_type": "stream",
     "text": [
      "\n"
     ]
    },
    {
     "name": "stdout",
     "output_type": "stream",
     "text": [
      "\u001b[1m8/8\u001b[0m \u001b[32m━━━━━━━━━━━━━━━━━━━━\u001b[0m\u001b[37m\u001b[0m \u001b[1m0s\u001b[0m 26ms/step\n",
      "Mean Absolute Error (MAE): 0.04321552652237012\n",
      "Root Mean Squared Error (RMSE): 0.04992410773026447\n",
      "R-squared (R²): 0.7747730484295422\n",
      "\u001b[1m1/1\u001b[0m \u001b[32m━━━━━━━━━━━━━━━━━━━━\u001b[0m\u001b[37m\u001b[0m \u001b[1m0s\u001b[0m 179ms/step\n"
     ]
    },
    {
     "name": "stderr",
     "output_type": "stream",
     "text": [
      "\r",
      "[*********************100%***********************]  1 of 1 completed"
     ]
    },
    {
     "name": "stdout",
     "output_type": "stream",
     "text": [
      "Predicted stock price for tomorrow: $96.08\n",
      "Baseline Mean Absolute Error (MAE): 0.012294273540478557\n",
      "Baseline Root Mean Squared Error (RMSE): 0.023130573138580978\n",
      "Baseline R-squared (R²): 0.9516526668349236\n",
      "\n",
      "Estimated time left: 18.74 minutes\n",
      "\n",
      "Processing data for EG which is stock # 37 of 103.\n"
     ]
    },
    {
     "name": "stderr",
     "output_type": "stream",
     "text": [
      "\n"
     ]
    },
    {
     "name": "stdout",
     "output_type": "stream",
     "text": [
      "\u001b[1m8/8\u001b[0m \u001b[32m━━━━━━━━━━━━━━━━━━━━\u001b[0m\u001b[37m\u001b[0m \u001b[1m0s\u001b[0m 24ms/step\n",
      "Mean Absolute Error (MAE): 0.02456483845026737\n",
      "Root Mean Squared Error (RMSE): 0.032425303738595375\n",
      "R-squared (R²): 0.43912373737675336\n",
      "\u001b[1m1/1\u001b[0m \u001b[32m━━━━━━━━━━━━━━━━━━━━\u001b[0m\u001b[37m\u001b[0m \u001b[1m0s\u001b[0m 178ms/step\n"
     ]
    },
    {
     "name": "stderr",
     "output_type": "stream",
     "text": [
      "\r",
      "[*********************100%***********************]  1 of 1 completed"
     ]
    },
    {
     "name": "stdout",
     "output_type": "stream",
     "text": [
      "Predicted stock price for tomorrow: $388.51\n",
      "Baseline Mean Absolute Error (MAE): 0.01649309316389991\n",
      "Baseline Root Mean Squared Error (RMSE): 0.02451715522882042\n",
      "Baseline R-squared (R²): 0.6793441940719045\n",
      "\n",
      "Estimated time left: 18.34 minutes\n",
      "\n",
      "Processing data for AJG which is stock # 38 of 103.\n"
     ]
    },
    {
     "name": "stderr",
     "output_type": "stream",
     "text": [
      "\n"
     ]
    },
    {
     "name": "stdout",
     "output_type": "stream",
     "text": [
      "\u001b[1m8/8\u001b[0m \u001b[32m━━━━━━━━━━━━━━━━━━━━\u001b[0m\u001b[37m\u001b[0m \u001b[1m0s\u001b[0m 24ms/step\n",
      "Mean Absolute Error (MAE): 0.027175800463175737\n",
      "Root Mean Squared Error (RMSE): 0.031636634611400365\n",
      "R-squared (R²): 0.8856490922397451\n",
      "\u001b[1m1/1\u001b[0m \u001b[32m━━━━━━━━━━━━━━━━━━━━\u001b[0m\u001b[37m\u001b[0m \u001b[1m0s\u001b[0m 187ms/step\n"
     ]
    },
    {
     "name": "stderr",
     "output_type": "stream",
     "text": [
      "\r",
      "[*********************100%***********************]  1 of 1 completed"
     ]
    },
    {
     "name": "stdout",
     "output_type": "stream",
     "text": [
      "Predicted stock price for tomorrow: $294.49\n",
      "Baseline Mean Absolute Error (MAE): 0.010497327424835024\n",
      "Baseline Root Mean Squared Error (RMSE): 0.026035585163028258\n",
      "Baseline R-squared (R²): 0.9225549355546853\n",
      "\n",
      "Estimated time left: 17.81 minutes\n",
      "\n",
      "Processing data for CAH which is stock # 39 of 103.\n"
     ]
    },
    {
     "name": "stderr",
     "output_type": "stream",
     "text": [
      "\n"
     ]
    },
    {
     "name": "stdout",
     "output_type": "stream",
     "text": [
      "\u001b[1m8/8\u001b[0m \u001b[32m━━━━━━━━━━━━━━━━━━━━\u001b[0m\u001b[37m\u001b[0m \u001b[1m0s\u001b[0m 24ms/step\n",
      "Mean Absolute Error (MAE): 0.024453986476276356\n",
      "Root Mean Squared Error (RMSE): 0.030955614600450876\n",
      "R-squared (R²): 0.862975227643732\n",
      "\u001b[1m1/1\u001b[0m \u001b[32m━━━━━━━━━━━━━━━━━━━━\u001b[0m\u001b[37m\u001b[0m \u001b[1m0s\u001b[0m 185ms/step\n"
     ]
    },
    {
     "name": "stderr",
     "output_type": "stream",
     "text": [
      "\r",
      "[*********************100%***********************]  1 of 1 completed"
     ]
    },
    {
     "name": "stdout",
     "output_type": "stream",
     "text": [
      "Predicted stock price for tomorrow: $118.62\n",
      "Baseline Mean Absolute Error (MAE): 0.013760639521821268\n",
      "Baseline Root Mean Squared Error (RMSE): 0.022401366646824496\n",
      "Baseline R-squared (R²): 0.9282421768026116\n",
      "\n",
      "Estimated time left: 17.71 minutes\n",
      "\n",
      "Processing data for ABNB which is stock # 40 of 103.\n"
     ]
    },
    {
     "name": "stderr",
     "output_type": "stream",
     "text": [
      "\n"
     ]
    },
    {
     "name": "stdout",
     "output_type": "stream",
     "text": [
      "\u001b[1m6/6\u001b[0m \u001b[32m━━━━━━━━━━━━━━━━━━━━\u001b[0m\u001b[37m\u001b[0m \u001b[1m0s\u001b[0m 34ms/step\n",
      "Mean Absolute Error (MAE): 0.019154697747419038\n",
      "Root Mean Squared Error (RMSE): 0.025549741468962498\n",
      "R-squared (R²): 0.9529429714078119\n",
      "\u001b[1m1/1\u001b[0m \u001b[32m━━━━━━━━━━━━━━━━━━━━\u001b[0m\u001b[37m\u001b[0m \u001b[1m0s\u001b[0m 178ms/step\n"
     ]
    },
    {
     "name": "stderr",
     "output_type": "stream",
     "text": [
      "\r",
      "[*********************100%***********************]  1 of 1 completed"
     ]
    },
    {
     "name": "stdout",
     "output_type": "stream",
     "text": [
      "Predicted stock price for tomorrow: $137.13\n",
      "Baseline Mean Absolute Error (MAE): 0.017228460699186557\n",
      "Baseline Root Mean Squared Error (RMSE): 0.0275525695631806\n",
      "Baseline R-squared (R²): 0.9452762695074972\n",
      "\n",
      "Estimated time left: 17.50 minutes\n",
      "\n",
      "Processing data for AXP which is stock # 41 of 103.\n"
     ]
    },
    {
     "name": "stderr",
     "output_type": "stream",
     "text": [
      "\n"
     ]
    },
    {
     "name": "stdout",
     "output_type": "stream",
     "text": [
      "\u001b[1m8/8\u001b[0m \u001b[32m━━━━━━━━━━━━━━━━━━━━\u001b[0m\u001b[37m\u001b[0m \u001b[1m0s\u001b[0m 25ms/step\n",
      "Mean Absolute Error (MAE): 0.05601753356653805\n",
      "Root Mean Squared Error (RMSE): 0.06641912639139666\n",
      "R-squared (R²): 0.6777446162310222\n",
      "\u001b[1m1/1\u001b[0m \u001b[32m━━━━━━━━━━━━━━━━━━━━\u001b[0m\u001b[37m\u001b[0m \u001b[1m0s\u001b[0m 176ms/step\n"
     ]
    },
    {
     "name": "stderr",
     "output_type": "stream",
     "text": [
      "\r",
      "[*********************100%***********************]  1 of 1 completed"
     ]
    },
    {
     "name": "stdout",
     "output_type": "stream",
     "text": [
      "Predicted stock price for tomorrow: $272.69\n",
      "Baseline Mean Absolute Error (MAE): 0.013100990145937384\n",
      "Baseline Root Mean Squared Error (RMSE): 0.03653939452176885\n",
      "Baseline R-squared (R²): 0.9024703744732356\n",
      "\n",
      "Estimated time left: 17.44 minutes\n",
      "\n",
      "Processing data for HON which is stock # 42 of 103.\n"
     ]
    },
    {
     "name": "stderr",
     "output_type": "stream",
     "text": [
      "\n"
     ]
    },
    {
     "name": "stdout",
     "output_type": "stream",
     "text": [
      "\u001b[1m8/8\u001b[0m \u001b[32m━━━━━━━━━━━━━━━━━━━━\u001b[0m\u001b[37m\u001b[0m \u001b[1m0s\u001b[0m 24ms/step\n",
      "Mean Absolute Error (MAE): 0.017055998430187742\n",
      "Root Mean Squared Error (RMSE): 0.022493393767465626\n",
      "R-squared (R²): 0.9002390865837142\n",
      "\u001b[1m1/1\u001b[0m \u001b[32m━━━━━━━━━━━━━━━━━━━━\u001b[0m\u001b[37m\u001b[0m \u001b[1m0s\u001b[0m 185ms/step\n"
     ]
    },
    {
     "name": "stderr",
     "output_type": "stream",
     "text": [
      "\r",
      "[*********************100%***********************]  1 of 1 completed"
     ]
    },
    {
     "name": "stdout",
     "output_type": "stream",
     "text": [
      "Predicted stock price for tomorrow: $230.72\n",
      "Baseline Mean Absolute Error (MAE): 0.013638005285341927\n",
      "Baseline Root Mean Squared Error (RMSE): 0.02268874305595996\n",
      "Baseline R-squared (R²): 0.8984987668489688\n",
      "\n",
      "Estimated time left: 17.36 minutes\n",
      "\n",
      "Processing data for EMN which is stock # 43 of 103.\n"
     ]
    },
    {
     "name": "stderr",
     "output_type": "stream",
     "text": [
      "\n"
     ]
    },
    {
     "name": "stdout",
     "output_type": "stream",
     "text": [
      "\u001b[1m8/8\u001b[0m \u001b[32m━━━━━━━━━━━━━━━━━━━━\u001b[0m\u001b[37m\u001b[0m \u001b[1m0s\u001b[0m 24ms/step\n",
      "Mean Absolute Error (MAE): 0.0161409529084273\n",
      "Root Mean Squared Error (RMSE): 0.020617818691425933\n",
      "R-squared (R²): 0.9338322984702002\n",
      "\u001b[1m1/1\u001b[0m \u001b[32m━━━━━━━━━━━━━━━━━━━━\u001b[0m\u001b[37m\u001b[0m \u001b[1m0s\u001b[0m 177ms/step\n"
     ]
    },
    {
     "name": "stderr",
     "output_type": "stream",
     "text": [
      "\r",
      "[*********************100%***********************]  1 of 1 completed"
     ]
    },
    {
     "name": "stdout",
     "output_type": "stream",
     "text": [
      "Predicted stock price for tomorrow: $105.88\n",
      "Baseline Mean Absolute Error (MAE): 0.012135385853268243\n",
      "Baseline Root Mean Squared Error (RMSE): 0.019248655712583336\n",
      "Baseline R-squared (R²): 0.9423284763119756\n",
      "\n",
      "Estimated time left: 17.13 minutes\n",
      "\n",
      "Processing data for BLDR which is stock # 44 of 103.\n"
     ]
    },
    {
     "name": "stderr",
     "output_type": "stream",
     "text": [
      "\n"
     ]
    },
    {
     "name": "stdout",
     "output_type": "stream",
     "text": [
      "\u001b[1m8/8\u001b[0m \u001b[32m━━━━━━━━━━━━━━━━━━━━\u001b[0m\u001b[37m\u001b[0m \u001b[1m0s\u001b[0m 25ms/step\n",
      "Mean Absolute Error (MAE): 0.029285009407374024\n",
      "Root Mean Squared Error (RMSE): 0.03811631181458674\n",
      "R-squared (R²): 0.8277708818255001\n",
      "\u001b[1m1/1\u001b[0m \u001b[32m━━━━━━━━━━━━━━━━━━━━\u001b[0m\u001b[37m\u001b[0m \u001b[1m0s\u001b[0m 176ms/step\n"
     ]
    },
    {
     "name": "stderr",
     "output_type": "stream",
     "text": [
      "\r",
      "[*********************100%***********************]  1 of 1 completed"
     ]
    },
    {
     "name": "stdout",
     "output_type": "stream",
     "text": [
      "Predicted stock price for tomorrow: $181.52\n",
      "Baseline Mean Absolute Error (MAE): 0.016771456753945757\n",
      "Baseline Root Mean Squared Error (RMSE): 0.025826567719589563\n",
      "Baseline R-squared (R²): 0.9209288194932901\n",
      "\n",
      "Estimated time left: 17.01 minutes\n",
      "\n",
      "Processing data for FDS which is stock # 45 of 103.\n"
     ]
    },
    {
     "name": "stderr",
     "output_type": "stream",
     "text": [
      "\n"
     ]
    },
    {
     "name": "stdout",
     "output_type": "stream",
     "text": [
      "\u001b[1m8/8\u001b[0m \u001b[32m━━━━━━━━━━━━━━━━━━━━\u001b[0m\u001b[37m\u001b[0m \u001b[1m0s\u001b[0m 24ms/step\n",
      "Mean Absolute Error (MAE): 0.025102859636407453\n",
      "Root Mean Squared Error (RMSE): 0.03061930239987511\n",
      "R-squared (R²): 0.8839875653589164\n",
      "\u001b[1m1/1\u001b[0m \u001b[32m━━━━━━━━━━━━━━━━━━━━\u001b[0m\u001b[37m\u001b[0m \u001b[1m0s\u001b[0m 176ms/step\n"
     ]
    },
    {
     "name": "stderr",
     "output_type": "stream",
     "text": [
      "\r",
      "[*********************100%***********************]  1 of 1 completed"
     ]
    },
    {
     "name": "stdout",
     "output_type": "stream",
     "text": [
      "Predicted stock price for tomorrow: $483.27\n",
      "Baseline Mean Absolute Error (MAE): 0.015399938386655763\n",
      "Baseline Root Mean Squared Error (RMSE): 0.02195693533536994\n",
      "Baseline R-squared (R²): 0.9403435504419971\n",
      "\n",
      "Estimated time left: 16.89 minutes\n",
      "\n",
      "Processing data for AFL which is stock # 46 of 103.\n"
     ]
    },
    {
     "name": "stderr",
     "output_type": "stream",
     "text": [
      "\n"
     ]
    },
    {
     "name": "stdout",
     "output_type": "stream",
     "text": [
      "\u001b[1m8/8\u001b[0m \u001b[32m━━━━━━━━━━━━━━━━━━━━\u001b[0m\u001b[37m\u001b[0m \u001b[1m0s\u001b[0m 24ms/step\n",
      "Mean Absolute Error (MAE): 0.059795345817315715\n",
      "Root Mean Squared Error (RMSE): 0.06805133182832912\n",
      "R-squared (R²): 0.747447783278606\n",
      "\u001b[1m1/1\u001b[0m \u001b[32m━━━━━━━━━━━━━━━━━━━━\u001b[0m\u001b[37m\u001b[0m \u001b[1m0s\u001b[0m 180ms/step\n"
     ]
    },
    {
     "name": "stderr",
     "output_type": "stream",
     "text": [
      "\r",
      "[*********************100%***********************]  1 of 1 completed"
     ]
    },
    {
     "name": "stdout",
     "output_type": "stream",
     "text": [
      "Predicted stock price for tomorrow: $104.63\n",
      "Baseline Mean Absolute Error (MAE): 0.010307427305212787\n",
      "Baseline Root Mean Squared Error (RMSE): 0.026278565376654805\n",
      "Baseline R-squared (R²): 0.9623399206523725\n",
      "\n",
      "Estimated time left: 16.38 minutes\n",
      "\n",
      "Processing data for GS which is stock # 47 of 103.\n"
     ]
    },
    {
     "name": "stderr",
     "output_type": "stream",
     "text": [
      "\n"
     ]
    },
    {
     "name": "stdout",
     "output_type": "stream",
     "text": [
      "\u001b[1m8/8\u001b[0m \u001b[32m━━━━━━━━━━━━━━━━━━━━\u001b[0m\u001b[37m\u001b[0m \u001b[1m0s\u001b[0m 24ms/step\n",
      "Mean Absolute Error (MAE): 0.030212131201167804\n",
      "Root Mean Squared Error (RMSE): 0.04370966122933518\n",
      "R-squared (R²): 0.8813366179325245\n",
      "\u001b[1m1/1\u001b[0m \u001b[32m━━━━━━━━━━━━━━━━━━━━\u001b[0m\u001b[37m\u001b[0m \u001b[1m0s\u001b[0m 182ms/step\n"
     ]
    },
    {
     "name": "stderr",
     "output_type": "stream",
     "text": [
      "\r",
      "[*********************100%***********************]  1 of 1 completed"
     ]
    },
    {
     "name": "stdout",
     "output_type": "stream",
     "text": [
      "Predicted stock price for tomorrow: $550.09\n",
      "Baseline Mean Absolute Error (MAE): 0.01290228431471225\n",
      "Baseline Root Mean Squared Error (RMSE): 0.035823263503089675\n",
      "Baseline R-squared (R²): 0.9202937941797247\n",
      "\n",
      "Estimated time left: 16.25 minutes\n",
      "\n",
      "Processing data for MO which is stock # 48 of 103.\n"
     ]
    },
    {
     "name": "stderr",
     "output_type": "stream",
     "text": [
      "\n"
     ]
    },
    {
     "name": "stdout",
     "output_type": "stream",
     "text": [
      "\u001b[1m8/8\u001b[0m \u001b[32m━━━━━━━━━━━━━━━━━━━━\u001b[0m\u001b[37m\u001b[0m \u001b[1m0s\u001b[0m 24ms/step\n",
      "Mean Absolute Error (MAE): 0.024954576862424957\n",
      "Root Mean Squared Error (RMSE): 0.03404930054102135\n",
      "R-squared (R²): 0.9660572680623597\n",
      "\u001b[1m1/1\u001b[0m \u001b[32m━━━━━━━━━━━━━━━━━━━━\u001b[0m\u001b[37m\u001b[0m \u001b[1m0s\u001b[0m 179ms/step\n"
     ]
    },
    {
     "name": "stderr",
     "output_type": "stream",
     "text": [
      "\r",
      "[*********************100%***********************]  1 of 1 completed"
     ]
    },
    {
     "name": "stdout",
     "output_type": "stream",
     "text": [
      "Predicted stock price for tomorrow: $56.79\n",
      "Baseline Mean Absolute Error (MAE): 0.01680741184508878\n",
      "Baseline Root Mean Squared Error (RMSE): 0.04601824818247946\n",
      "Baseline R-squared (R²): 0.9380001600204539\n",
      "\n",
      "Estimated time left: 16.10 minutes\n",
      "\n",
      "Processing data for IT which is stock # 49 of 103.\n"
     ]
    },
    {
     "name": "stderr",
     "output_type": "stream",
     "text": [
      "\n"
     ]
    },
    {
     "name": "stdout",
     "output_type": "stream",
     "text": [
      "\u001b[1m8/8\u001b[0m \u001b[32m━━━━━━━━━━━━━━━━━━━━\u001b[0m\u001b[37m\u001b[0m \u001b[1m0s\u001b[0m 24ms/step\n",
      "Mean Absolute Error (MAE): 0.01481062698584015\n",
      "Root Mean Squared Error (RMSE): 0.019351508964418184\n",
      "R-squared (R²): 0.9167398156703052\n",
      "\u001b[1m1/1\u001b[0m \u001b[32m━━━━━━━━━━━━━━━━━━━━\u001b[0m\u001b[37m\u001b[0m \u001b[1m0s\u001b[0m 179ms/step\n"
     ]
    },
    {
     "name": "stderr",
     "output_type": "stream",
     "text": [
      "\r",
      "[*********************100%***********************]  1 of 1 completed"
     ]
    },
    {
     "name": "stdout",
     "output_type": "stream",
     "text": [
      "Predicted stock price for tomorrow: $520.05\n",
      "Baseline Mean Absolute Error (MAE): 0.010981658216252793\n",
      "Baseline Root Mean Squared Error (RMSE): 0.019041651014434075\n",
      "Baseline R-squared (R²): 0.9193848066719565\n",
      "\n",
      "Estimated time left: 15.89 minutes\n",
      "\n",
      "Processing data for DECK which is stock # 50 of 103.\n"
     ]
    },
    {
     "name": "stderr",
     "output_type": "stream",
     "text": [
      "\n"
     ]
    },
    {
     "name": "stdout",
     "output_type": "stream",
     "text": [
      "\u001b[1m8/8\u001b[0m \u001b[32m━━━━━━━━━━━━━━━━━━━━\u001b[0m\u001b[37m\u001b[0m \u001b[1m0s\u001b[0m 25ms/step\n",
      "Mean Absolute Error (MAE): 0.041429602175925624\n",
      "Root Mean Squared Error (RMSE): 0.05407261138192414\n",
      "R-squared (R²): 0.6215446966378098\n",
      "\u001b[1m1/1\u001b[0m \u001b[32m━━━━━━━━━━━━━━━━━━━━\u001b[0m\u001b[37m\u001b[0m \u001b[1m0s\u001b[0m 186ms/step\n"
     ]
    },
    {
     "name": "stderr",
     "output_type": "stream",
     "text": [
      "\r",
      "[*********************100%***********************]  1 of 1 completed"
     ]
    },
    {
     "name": "stdout",
     "output_type": "stream",
     "text": [
      "Predicted stock price for tomorrow: $175.88\n",
      "Baseline Mean Absolute Error (MAE): 0.01630748705689095\n",
      "Baseline Root Mean Squared Error (RMSE): 0.036749833514798956\n",
      "Baseline R-squared (R²): 0.8251882342359116\n",
      "\n",
      "Estimated time left: 15.49 minutes\n",
      "\n",
      "Processing data for GPN which is stock # 51 of 103.\n"
     ]
    },
    {
     "name": "stderr",
     "output_type": "stream",
     "text": [
      "\n"
     ]
    },
    {
     "name": "stdout",
     "output_type": "stream",
     "text": [
      "\u001b[1m8/8\u001b[0m \u001b[32m━━━━━━━━━━━━━━━━━━━━\u001b[0m\u001b[37m\u001b[0m \u001b[1m0s\u001b[0m 25ms/step\n",
      "Mean Absolute Error (MAE): 0.01643685665442728\n",
      "Root Mean Squared Error (RMSE): 0.022004728958076668\n",
      "R-squared (R²): 0.9596988801913818\n",
      "\u001b[1m1/1\u001b[0m \u001b[32m━━━━━━━━━━━━━━━━━━━━\u001b[0m\u001b[37m\u001b[0m \u001b[1m0s\u001b[0m 176ms/step\n"
     ]
    },
    {
     "name": "stderr",
     "output_type": "stream",
     "text": [
      "\r",
      "[*********************100%***********************]  1 of 1 completed"
     ]
    },
    {
     "name": "stdout",
     "output_type": "stream",
     "text": [
      "Predicted stock price for tomorrow: $120.67\n",
      "Baseline Mean Absolute Error (MAE): 0.011426263387093731\n",
      "Baseline Root Mean Squared Error (RMSE): 0.016693307870767383\n",
      "Baseline R-squared (R²): 0.9768063086946306\n",
      "\n",
      "Estimated time left: 15.29 minutes\n",
      "\n",
      "Processing data for DG which is stock # 52 of 103.\n"
     ]
    },
    {
     "name": "stderr",
     "output_type": "stream",
     "text": [
      "\n"
     ]
    },
    {
     "name": "stdout",
     "output_type": "stream",
     "text": [
      "\u001b[1m8/8\u001b[0m \u001b[32m━━━━━━━━━━━━━━━━━━━━\u001b[0m\u001b[37m\u001b[0m \u001b[1m0s\u001b[0m 25ms/step\n",
      "Mean Absolute Error (MAE): 0.030204103130599305\n",
      "Root Mean Squared Error (RMSE): 0.040037297280647643\n",
      "R-squared (R²): 0.9218007626002724\n",
      "\u001b[1m1/1\u001b[0m \u001b[32m━━━━━━━━━━━━━━━━━━━━\u001b[0m\u001b[37m\u001b[0m \u001b[1m0s\u001b[0m 177ms/step\n"
     ]
    },
    {
     "name": "stderr",
     "output_type": "stream",
     "text": [
      "\r",
      "[*********************100%***********************]  1 of 1 completed"
     ]
    },
    {
     "name": "stdout",
     "output_type": "stream",
     "text": [
      "Predicted stock price for tomorrow: $77.67\n",
      "Baseline Mean Absolute Error (MAE): 0.011568649357778278\n",
      "Baseline Root Mean Squared Error (RMSE): 0.026980137187821124\n",
      "Baseline R-squared (R²): 0.9644891294125527\n",
      "\n",
      "Estimated time left: 14.94 minutes\n",
      "\n",
      "Processing data for FITB which is stock # 53 of 103.\n"
     ]
    },
    {
     "name": "stderr",
     "output_type": "stream",
     "text": [
      "\n"
     ]
    },
    {
     "name": "stdout",
     "output_type": "stream",
     "text": [
      "\u001b[1m8/8\u001b[0m \u001b[32m━━━━━━━━━━━━━━━━━━━━\u001b[0m\u001b[37m\u001b[0m \u001b[1m0s\u001b[0m 24ms/step\n",
      "Mean Absolute Error (MAE): 0.015914313357892992\n",
      "Root Mean Squared Error (RMSE): 0.020900641817459417\n",
      "R-squared (R²): 0.9593048010784763\n",
      "\u001b[1m1/1\u001b[0m \u001b[32m━━━━━━━━━━━━━━━━━━━━\u001b[0m\u001b[37m\u001b[0m \u001b[1m0s\u001b[0m 176ms/step\n"
     ]
    },
    {
     "name": "stderr",
     "output_type": "stream",
     "text": [
      "\r",
      "[*********************100%***********************]  1 of 1 completed"
     ]
    },
    {
     "name": "stdout",
     "output_type": "stream",
     "text": [
      "Predicted stock price for tomorrow: $47.71\n",
      "Baseline Mean Absolute Error (MAE): 0.013146623363747542\n",
      "Baseline Root Mean Squared Error (RMSE): 0.028570796998659\n",
      "Baseline R-squared (R²): 0.9239553542155924\n",
      "\n",
      "Estimated time left: 14.72 minutes\n",
      "\n",
      "Processing data for DLR which is stock # 54 of 103.\n"
     ]
    },
    {
     "name": "stderr",
     "output_type": "stream",
     "text": [
      "\n"
     ]
    },
    {
     "name": "stdout",
     "output_type": "stream",
     "text": [
      "\u001b[1m8/8\u001b[0m \u001b[32m━━━━━━━━━━━━━━━━━━━━\u001b[0m\u001b[37m\u001b[0m \u001b[1m0s\u001b[0m 25ms/step\n",
      "Mean Absolute Error (MAE): 0.027174005909500795\n",
      "Root Mean Squared Error (RMSE): 0.039346058508454566\n",
      "R-squared (R²): 0.9007038444472272\n",
      "\u001b[1m1/1\u001b[0m \u001b[32m━━━━━━━━━━━━━━━━━━━━\u001b[0m\u001b[37m\u001b[0m \u001b[1m0s\u001b[0m 175ms/step\n"
     ]
    },
    {
     "name": "stderr",
     "output_type": "stream",
     "text": [
      "\r",
      "[*********************100%***********************]  1 of 1 completed"
     ]
    },
    {
     "name": "stdout",
     "output_type": "stream",
     "text": [
      "Predicted stock price for tomorrow: $186.12\n",
      "Baseline Mean Absolute Error (MAE): 0.019357383075744222\n",
      "Baseline Root Mean Squared Error (RMSE): 0.044438330943600265\n",
      "Baseline R-squared (R²): 0.8733382613185015\n",
      "\n",
      "Estimated time left: 14.34 minutes\n",
      "\n",
      "Processing data for CBOE which is stock # 55 of 103.\n"
     ]
    },
    {
     "name": "stderr",
     "output_type": "stream",
     "text": [
      "\n"
     ]
    },
    {
     "name": "stdout",
     "output_type": "stream",
     "text": [
      "\u001b[1m8/8\u001b[0m \u001b[32m━━━━━━━━━━━━━━━━━━━━\u001b[0m\u001b[37m\u001b[0m \u001b[1m0s\u001b[0m 25ms/step\n",
      "Mean Absolute Error (MAE): 0.02861329014191712\n",
      "Root Mean Squared Error (RMSE): 0.03570748781613507\n",
      "R-squared (R²): 0.8762353034982833\n",
      "\u001b[1m1/1\u001b[0m \u001b[32m━━━━━━━━━━━━━━━━━━━━\u001b[0m\u001b[37m\u001b[0m \u001b[1m0s\u001b[0m 181ms/step\n"
     ]
    },
    {
     "name": "stderr",
     "output_type": "stream",
     "text": [
      "\r",
      "[*********************100%***********************]  1 of 1 completed"
     ]
    },
    {
     "name": "stdout",
     "output_type": "stream",
     "text": [
      "Predicted stock price for tomorrow: $213.84\n",
      "Baseline Mean Absolute Error (MAE): 0.01510026705953326\n",
      "Baseline Root Mean Squared Error (RMSE): 0.026017580432729275\n",
      "Baseline R-squared (R²): 0.9342929454480767\n",
      "\n",
      "Estimated time left: 13.94 minutes\n",
      "\n",
      "Processing data for AMGN which is stock # 56 of 103.\n"
     ]
    },
    {
     "name": "stderr",
     "output_type": "stream",
     "text": [
      "\n"
     ]
    },
    {
     "name": "stdout",
     "output_type": "stream",
     "text": [
      "\u001b[1m8/8\u001b[0m \u001b[32m━━━━━━━━━━━━━━━━━━━━\u001b[0m\u001b[37m\u001b[0m \u001b[1m0s\u001b[0m 25ms/step\n",
      "Mean Absolute Error (MAE): 0.04475475549398496\n",
      "Root Mean Squared Error (RMSE): 0.05505843485902029\n",
      "R-squared (R²): 0.8322240125960028\n",
      "\u001b[1m1/1\u001b[0m \u001b[32m━━━━━━━━━━━━━━━━━━━━\u001b[0m\u001b[37m\u001b[0m \u001b[1m0s\u001b[0m 174ms/step\n"
     ]
    },
    {
     "name": "stderr",
     "output_type": "stream",
     "text": [
      "\r",
      "[*********************100%***********************]  1 of 1 completed"
     ]
    },
    {
     "name": "stdout",
     "output_type": "stream",
     "text": [
      "Predicted stock price for tomorrow: $287.49\n",
      "Baseline Mean Absolute Error (MAE): 0.02140227109736964\n",
      "Baseline Root Mean Squared Error (RMSE): 0.03315398512897976\n",
      "Baseline R-squared (R²): 0.9391649937602753\n",
      "\n",
      "Estimated time left: 13.72 minutes\n",
      "\n",
      "Processing data for FANG which is stock # 57 of 103.\n"
     ]
    },
    {
     "name": "stderr",
     "output_type": "stream",
     "text": [
      "\n"
     ]
    },
    {
     "name": "stdout",
     "output_type": "stream",
     "text": [
      "\u001b[1m8/8\u001b[0m \u001b[32m━━━━━━━━━━━━━━━━━━━━\u001b[0m\u001b[37m\u001b[0m \u001b[1m0s\u001b[0m 24ms/step\n",
      "Mean Absolute Error (MAE): 0.05442802223566283\n",
      "Root Mean Squared Error (RMSE): 0.06404602108874634\n",
      "R-squared (R²): 0.36916311241014654\n",
      "\u001b[1m1/1\u001b[0m \u001b[32m━━━━━━━━━━━━━━━━━━━━\u001b[0m\u001b[37m\u001b[0m \u001b[1m0s\u001b[0m 176ms/step\n"
     ]
    },
    {
     "name": "stderr",
     "output_type": "stream",
     "text": [
      "\r",
      "[*********************100%***********************]  1 of 1 completed"
     ]
    },
    {
     "name": "stdout",
     "output_type": "stream",
     "text": [
      "Predicted stock price for tomorrow: $175.21\n",
      "Baseline Mean Absolute Error (MAE): 0.01271145461578832\n",
      "Baseline Root Mean Squared Error (RMSE): 0.017775281965648433\n",
      "Baseline R-squared (R²): 0.9514078886827374\n",
      "\n",
      "Estimated time left: 13.36 minutes\n",
      "\n",
      "Processing data for CHRW which is stock # 58 of 103.\n"
     ]
    },
    {
     "name": "stderr",
     "output_type": "stream",
     "text": [
      "\n"
     ]
    },
    {
     "name": "stdout",
     "output_type": "stream",
     "text": [
      "\u001b[1m8/8\u001b[0m \u001b[32m━━━━━━━━━━━━━━━━━━━━\u001b[0m\u001b[37m\u001b[0m \u001b[1m0s\u001b[0m 24ms/step\n",
      "Mean Absolute Error (MAE): 0.031114962703832814\n",
      "Root Mean Squared Error (RMSE): 0.041946356937555995\n",
      "R-squared (R²): 0.965183226480922\n",
      "\u001b[1m1/1\u001b[0m \u001b[32m━━━━━━━━━━━━━━━━━━━━\u001b[0m\u001b[37m\u001b[0m \u001b[1m0s\u001b[0m 184ms/step\n"
     ]
    },
    {
     "name": "stderr",
     "output_type": "stream",
     "text": [
      "\r",
      "[*********************100%***********************]  1 of 1 completed"
     ]
    },
    {
     "name": "stdout",
     "output_type": "stream",
     "text": [
      "Predicted stock price for tomorrow: $103.43\n",
      "Baseline Mean Absolute Error (MAE): 0.019026859360696147\n",
      "Baseline Root Mean Squared Error (RMSE): 0.035579654568940626\n",
      "Baseline R-squared (R²): 0.9749502450959509\n",
      "\n",
      "Estimated time left: 13.16 minutes\n",
      "\n",
      "Processing data for DXCM which is stock # 59 of 103.\n"
     ]
    },
    {
     "name": "stderr",
     "output_type": "stream",
     "text": [
      "\n"
     ]
    },
    {
     "name": "stdout",
     "output_type": "stream",
     "text": [
      "\u001b[1m8/8\u001b[0m \u001b[32m━━━━━━━━━━━━━━━━━━━━\u001b[0m\u001b[37m\u001b[0m \u001b[1m0s\u001b[0m 24ms/step\n",
      "Mean Absolute Error (MAE): 0.02984772094715151\n",
      "Root Mean Squared Error (RMSE): 0.04715751529386357\n",
      "R-squared (R²): 0.9593665066446172\n",
      "\u001b[1m1/1\u001b[0m \u001b[32m━━━━━━━━━━━━━━━━━━━━\u001b[0m\u001b[37m\u001b[0m \u001b[1m0s\u001b[0m 172ms/step\n"
     ]
    },
    {
     "name": "stderr",
     "output_type": "stream",
     "text": [
      "\r",
      "[*********************100%***********************]  1 of 1 completed"
     ]
    },
    {
     "name": "stdout",
     "output_type": "stream",
     "text": [
      "Predicted stock price for tomorrow: $82.97\n",
      "Baseline Mean Absolute Error (MAE): 0.017606756606645492\n",
      "Baseline Root Mean Squared Error (RMSE): 0.04095856358410055\n",
      "Baseline R-squared (R²): 0.9693470859274013\n",
      "\n",
      "Estimated time left: 12.81 minutes\n",
      "\n",
      "Processing data for GL which is stock # 60 of 103.\n"
     ]
    },
    {
     "name": "stderr",
     "output_type": "stream",
     "text": [
      "\n"
     ]
    },
    {
     "name": "stdout",
     "output_type": "stream",
     "text": [
      "\u001b[1m8/8\u001b[0m \u001b[32m━━━━━━━━━━━━━━━━━━━━\u001b[0m\u001b[37m\u001b[0m \u001b[1m0s\u001b[0m 25ms/step\n",
      "Mean Absolute Error (MAE): 0.043920807945920876\n",
      "Root Mean Squared Error (RMSE): 0.09676435705245275\n",
      "R-squared (R²): 0.801608926103019\n",
      "\u001b[1m1/1\u001b[0m \u001b[32m━━━━━━━━━━━━━━━━━━━━\u001b[0m\u001b[37m\u001b[0m \u001b[1m0s\u001b[0m 176ms/step\n"
     ]
    },
    {
     "name": "stderr",
     "output_type": "stream",
     "text": [
      "\r",
      "[*********************100%***********************]  1 of 1 completed"
     ]
    },
    {
     "name": "stdout",
     "output_type": "stream",
     "text": [
      "Predicted stock price for tomorrow: $112.32\n",
      "Baseline Mean Absolute Error (MAE): 0.01990133337502178\n",
      "Baseline Root Mean Squared Error (RMSE): 0.0528138703567248\n",
      "Baseline R-squared (R²): 0.9409000262817613\n",
      "\n",
      "Estimated time left: 12.44 minutes\n",
      "\n",
      "Processing data for FTV which is stock # 61 of 103.\n"
     ]
    },
    {
     "name": "stderr",
     "output_type": "stream",
     "text": [
      "\n"
     ]
    },
    {
     "name": "stdout",
     "output_type": "stream",
     "text": [
      "\u001b[1m8/8\u001b[0m \u001b[32m━━━━━━━━━━━━━━━━━━━━\u001b[0m\u001b[37m\u001b[0m \u001b[1m0s\u001b[0m 24ms/step\n",
      "Mean Absolute Error (MAE): 0.025756187558944085\n",
      "Root Mean Squared Error (RMSE): 0.0323545938883291\n",
      "R-squared (R²): 0.8863217072316355\n",
      "\u001b[1m1/1\u001b[0m \u001b[32m━━━━━━━━━━━━━━━━━━━━\u001b[0m\u001b[37m\u001b[0m \u001b[1m0s\u001b[0m 176ms/step\n"
     ]
    },
    {
     "name": "stderr",
     "output_type": "stream",
     "text": [
      "\r",
      "[*********************100%***********************]  1 of 1 completed"
     ]
    },
    {
     "name": "stdout",
     "output_type": "stream",
     "text": [
      "Predicted stock price for tomorrow: $78.49\n",
      "Baseline Mean Absolute Error (MAE): 0.014942484724847183\n",
      "Baseline Root Mean Squared Error (RMSE): 0.023172745608493996\n",
      "Baseline R-squared (R²): 0.9416876391614288\n",
      "\n",
      "Estimated time left: 12.23 minutes\n",
      "\n",
      "Processing data for AME which is stock # 62 of 103.\n"
     ]
    },
    {
     "name": "stderr",
     "output_type": "stream",
     "text": [
      "\n"
     ]
    },
    {
     "name": "stdout",
     "output_type": "stream",
     "text": [
      "\u001b[1m8/8\u001b[0m \u001b[32m━━━━━━━━━━━━━━━━━━━━\u001b[0m\u001b[37m\u001b[0m \u001b[1m0s\u001b[0m 24ms/step\n",
      "Mean Absolute Error (MAE): 0.026407407378136738\n",
      "Root Mean Squared Error (RMSE): 0.03461001503896996\n",
      "R-squared (R²): 0.7025830236281422\n",
      "\u001b[1m1/1\u001b[0m \u001b[32m━━━━━━━━━━━━━━━━━━━━\u001b[0m\u001b[37m\u001b[0m \u001b[1m0s\u001b[0m 172ms/step\n"
     ]
    },
    {
     "name": "stderr",
     "output_type": "stream",
     "text": [
      "\r",
      "[*********************100%***********************]  1 of 1 completed"
     ]
    },
    {
     "name": "stdout",
     "output_type": "stream",
     "text": [
      "Predicted stock price for tomorrow: $187.18\n",
      "Baseline Mean Absolute Error (MAE): 0.011764156862343366\n",
      "Baseline Root Mean Squared Error (RMSE): 0.023508612679283995\n",
      "Baseline R-squared (R²): 0.8627803903350105\n",
      "\n",
      "Estimated time left: 11.98 minutes\n",
      "\n",
      "Processing data for HES which is stock # 63 of 103.\n"
     ]
    },
    {
     "name": "stderr",
     "output_type": "stream",
     "text": [
      "\n"
     ]
    },
    {
     "name": "stdout",
     "output_type": "stream",
     "text": [
      "\u001b[1m8/8\u001b[0m \u001b[32m━━━━━━━━━━━━━━━━━━━━\u001b[0m\u001b[37m\u001b[0m \u001b[1m0s\u001b[0m 24ms/step\n",
      "Mean Absolute Error (MAE): 0.027231257365413753\n",
      "Root Mean Squared Error (RMSE): 0.033827792413554325\n",
      "R-squared (R²): 0.6698453625962019\n",
      "\u001b[1m1/1\u001b[0m \u001b[32m━━━━━━━━━━━━━━━━━━━━\u001b[0m\u001b[37m\u001b[0m \u001b[1m0s\u001b[0m 176ms/step\n"
     ]
    },
    {
     "name": "stderr",
     "output_type": "stream",
     "text": [
      "\r",
      "[*********************100%***********************]  1 of 1 completed"
     ]
    },
    {
     "name": "stdout",
     "output_type": "stream",
     "text": [
      "Predicted stock price for tomorrow: $147.91\n",
      "Baseline Mean Absolute Error (MAE): 0.010863066807160024\n",
      "Baseline Root Mean Squared Error (RMSE): 0.014923572736859684\n",
      "Baseline R-squared (R²): 0.9357437019228764\n",
      "\n",
      "Estimated time left: 11.61 minutes\n",
      "\n",
      "Processing data for HSY which is stock # 64 of 103.\n"
     ]
    },
    {
     "name": "stderr",
     "output_type": "stream",
     "text": [
      "\n"
     ]
    },
    {
     "name": "stdout",
     "output_type": "stream",
     "text": [
      "\u001b[1m8/8\u001b[0m \u001b[32m━━━━━━━━━━━━━━━━━━━━\u001b[0m\u001b[37m\u001b[0m \u001b[1m0s\u001b[0m 24ms/step\n",
      "Mean Absolute Error (MAE): 0.015783717285150444\n",
      "Root Mean Squared Error (RMSE): 0.02049786212777322\n",
      "R-squared (R²): 0.8095251589538571\n",
      "\u001b[1m1/1\u001b[0m \u001b[32m━━━━━━━━━━━━━━━━━━━━\u001b[0m\u001b[37m\u001b[0m \u001b[1m0s\u001b[0m 176ms/step\n"
     ]
    },
    {
     "name": "stderr",
     "output_type": "stream",
     "text": [
      "\r",
      "[*********************100%***********************]  1 of 1 completed"
     ]
    },
    {
     "name": "stdout",
     "output_type": "stream",
     "text": [
      "Predicted stock price for tomorrow: $175.35\n",
      "Baseline Mean Absolute Error (MAE): 0.012185616318177661\n",
      "Baseline Root Mean Squared Error (RMSE): 0.016508845488902194\n",
      "Baseline R-squared (R²): 0.8764468306677231\n",
      "\n",
      "Estimated time left: 11.32 minutes\n",
      "\n",
      "Processing data for COP which is stock # 65 of 103.\n"
     ]
    },
    {
     "name": "stderr",
     "output_type": "stream",
     "text": [
      "\n"
     ]
    },
    {
     "name": "stdout",
     "output_type": "stream",
     "text": [
      "\u001b[1m8/8\u001b[0m \u001b[32m━━━━━━━━━━━━━━━━━━━━\u001b[0m\u001b[37m\u001b[0m \u001b[1m0s\u001b[0m 24ms/step\n",
      "Mean Absolute Error (MAE): 0.0265752127781223\n",
      "Root Mean Squared Error (RMSE): 0.03251852770434984\n",
      "R-squared (R²): 0.7473919758673382\n",
      "\u001b[1m1/1\u001b[0m \u001b[32m━━━━━━━━━━━━━━━━━━━━\u001b[0m\u001b[37m\u001b[0m \u001b[1m0s\u001b[0m 176ms/step\n"
     ]
    },
    {
     "name": "stderr",
     "output_type": "stream",
     "text": [
      "\r",
      "[*********************100%***********************]  1 of 1 completed"
     ]
    },
    {
     "name": "stdout",
     "output_type": "stream",
     "text": [
      "Predicted stock price for tomorrow: $109.88\n",
      "Baseline Mean Absolute Error (MAE): 0.01103395897958487\n",
      "Baseline Root Mean Squared Error (RMSE): 0.015819300391572002\n",
      "Baseline R-squared (R²): 0.9402194455290461\n",
      "\n",
      "Estimated time left: 10.97 minutes\n",
      "\n",
      "Processing data for APTV which is stock # 66 of 103.\n"
     ]
    },
    {
     "name": "stderr",
     "output_type": "stream",
     "text": [
      "\n"
     ]
    },
    {
     "name": "stdout",
     "output_type": "stream",
     "text": [
      "\u001b[1m8/8\u001b[0m \u001b[32m━━━━━━━━━━━━━━━━━━━━\u001b[0m\u001b[37m\u001b[0m \u001b[1m0s\u001b[0m 24ms/step\n",
      "Mean Absolute Error (MAE): 0.020317682241316158\n",
      "Root Mean Squared Error (RMSE): 0.025805207242034993\n",
      "R-squared (R²): 0.7771748708826419\n",
      "\u001b[1m1/1\u001b[0m \u001b[32m━━━━━━━━━━━━━━━━━━━━\u001b[0m\u001b[37m\u001b[0m \u001b[1m0s\u001b[0m 183ms/step\n"
     ]
    },
    {
     "name": "stderr",
     "output_type": "stream",
     "text": [
      "\r",
      "[*********************100%***********************]  1 of 1 completed"
     ]
    },
    {
     "name": "stdout",
     "output_type": "stream",
     "text": [
      "Predicted stock price for tomorrow: $56.87\n",
      "Baseline Mean Absolute Error (MAE): 0.009449912782325267\n",
      "Baseline Root Mean Squared Error (RMSE): 0.018116182561071562\n",
      "Baseline R-squared (R²): 0.8901796454688045\n",
      "\n",
      "Estimated time left: 10.63 minutes\n",
      "\n",
      "Processing data for AON which is stock # 67 of 103.\n"
     ]
    },
    {
     "name": "stderr",
     "output_type": "stream",
     "text": [
      "\n"
     ]
    },
    {
     "name": "stdout",
     "output_type": "stream",
     "text": [
      "\u001b[1m8/8\u001b[0m \u001b[32m━━━━━━━━━━━━━━━━━━━━\u001b[0m\u001b[37m\u001b[0m \u001b[1m0s\u001b[0m 24ms/step\n",
      "Mean Absolute Error (MAE): 0.017667662249921418\n",
      "Root Mean Squared Error (RMSE): 0.02513432940509267\n",
      "R-squared (R²): 0.9558906268292521\n",
      "\u001b[1m1/1\u001b[0m \u001b[32m━━━━━━━━━━━━━━━━━━━━\u001b[0m\u001b[37m\u001b[0m \u001b[1m0s\u001b[0m 182ms/step\n"
     ]
    },
    {
     "name": "stderr",
     "output_type": "stream",
     "text": [
      "\r",
      "[*********************100%***********************]  1 of 1 completed"
     ]
    },
    {
     "name": "stdout",
     "output_type": "stream",
     "text": [
      "Predicted stock price for tomorrow: $379.25\n",
      "Baseline Mean Absolute Error (MAE): 0.012216648863554988\n",
      "Baseline Root Mean Squared Error (RMSE): 0.03116091912689365\n",
      "Baseline R-squared (R²): 0.9322020129853416\n",
      "\n",
      "Estimated time left: 10.42 minutes\n",
      "\n",
      "Processing data for ADM which is stock # 68 of 103.\n"
     ]
    },
    {
     "name": "stderr",
     "output_type": "stream",
     "text": [
      "\n"
     ]
    },
    {
     "name": "stdout",
     "output_type": "stream",
     "text": [
      "\u001b[1m8/8\u001b[0m \u001b[32m━━━━━━━━━━━━━━━━━━━━\u001b[0m\u001b[37m\u001b[0m \u001b[1m0s\u001b[0m 25ms/step\n",
      "Mean Absolute Error (MAE): 0.018768798374876525\n",
      "Root Mean Squared Error (RMSE): 0.03291366165693259\n",
      "R-squared (R²): 0.7280394734017495\n",
      "\u001b[1m1/1\u001b[0m \u001b[32m━━━━━━━━━━━━━━━━━━━━\u001b[0m\u001b[37m\u001b[0m \u001b[1m0s\u001b[0m 176ms/step\n"
     ]
    },
    {
     "name": "stderr",
     "output_type": "stream",
     "text": [
      "\r",
      "[*********************100%***********************]  1 of 1 completed"
     ]
    },
    {
     "name": "stdout",
     "output_type": "stream",
     "text": [
      "Predicted stock price for tomorrow: $54.64\n",
      "Baseline Mean Absolute Error (MAE): 0.011580320478102164\n",
      "Baseline Root Mean Squared Error (RMSE): 0.02680343736754456\n",
      "Baseline R-squared (R²): 0.8196423953560827\n",
      "\n",
      "Estimated time left: 10.16 minutes\n",
      "\n",
      "Processing data for DELL which is stock # 69 of 103.\n"
     ]
    },
    {
     "name": "stderr",
     "output_type": "stream",
     "text": [
      "\n"
     ]
    },
    {
     "name": "stdout",
     "output_type": "stream",
     "text": [
      "\u001b[1m8/8\u001b[0m \u001b[32m━━━━━━━━━━━━━━━━━━━━\u001b[0m\u001b[37m\u001b[0m \u001b[1m0s\u001b[0m 24ms/step\n",
      "Mean Absolute Error (MAE): 0.06645817747289809\n",
      "Root Mean Squared Error (RMSE): 0.08345146939962059\n",
      "R-squared (R²): 0.5538515383307909\n",
      "\u001b[1m1/1\u001b[0m \u001b[32m━━━━━━━━━━━━━━━━━━━━\u001b[0m\u001b[37m\u001b[0m \u001b[1m0s\u001b[0m 175ms/step\n"
     ]
    },
    {
     "name": "stderr",
     "output_type": "stream",
     "text": [
      "\r",
      "[*********************100%***********************]  1 of 1 completed"
     ]
    },
    {
     "name": "stdout",
     "output_type": "stream",
     "text": [
      "Predicted stock price for tomorrow: $126.60\n",
      "Baseline Mean Absolute Error (MAE): 0.020005908314591342\n",
      "Baseline Root Mean Squared Error (RMSE): 0.03524962446610918\n",
      "Baseline R-squared (R²): 0.9203986537297953\n",
      "\n",
      "Estimated time left: 9.87 minutes\n",
      "\n",
      "Processing data for DVN which is stock # 70 of 103.\n"
     ]
    },
    {
     "name": "stderr",
     "output_type": "stream",
     "text": [
      "\n"
     ]
    },
    {
     "name": "stdout",
     "output_type": "stream",
     "text": [
      "\u001b[1m8/8\u001b[0m \u001b[32m━━━━━━━━━━━━━━━━━━━━\u001b[0m\u001b[37m\u001b[0m \u001b[1m0s\u001b[0m 25ms/step\n",
      "Mean Absolute Error (MAE): 0.013771215839987794\n",
      "Root Mean Squared Error (RMSE): 0.017235459725783803\n",
      "R-squared (R²): 0.9125615945002535\n",
      "\u001b[1m1/1\u001b[0m \u001b[32m━━━━━━━━━━━━━━━━━━━━\u001b[0m\u001b[37m\u001b[0m \u001b[1m0s\u001b[0m 174ms/step\n"
     ]
    },
    {
     "name": "stderr",
     "output_type": "stream",
     "text": [
      "\r",
      "[*********************100%***********************]  1 of 1 completed"
     ]
    },
    {
     "name": "stdout",
     "output_type": "stream",
     "text": [
      "Predicted stock price for tomorrow: $38.30\n",
      "Baseline Mean Absolute Error (MAE): 0.007762990231003206\n",
      "Baseline Root Mean Squared Error (RMSE): 0.012449617534663173\n",
      "Baseline R-squared (R²): 0.9543786108959919\n",
      "\n",
      "Estimated time left: 9.53 minutes\n",
      "\n",
      "Processing data for CVX which is stock # 71 of 103.\n"
     ]
    },
    {
     "name": "stderr",
     "output_type": "stream",
     "text": [
      "\n"
     ]
    },
    {
     "name": "stdout",
     "output_type": "stream",
     "text": [
      "\u001b[1m8/8\u001b[0m \u001b[32m━━━━━━━━━━━━━━━━━━━━\u001b[0m\u001b[37m\u001b[0m \u001b[1m0s\u001b[0m 25ms/step\n",
      "Mean Absolute Error (MAE): 0.020491694916733777\n",
      "Root Mean Squared Error (RMSE): 0.025494490848274046\n",
      "R-squared (R²): 0.7216160069092519\n",
      "\u001b[1m1/1\u001b[0m \u001b[32m━━━━━━━━━━━━━━━━━━━━\u001b[0m\u001b[37m\u001b[0m \u001b[1m0s\u001b[0m 175ms/step\n"
     ]
    },
    {
     "name": "stderr",
     "output_type": "stream",
     "text": [
      "\r",
      "[*********************100%***********************]  1 of 1 completed"
     ]
    },
    {
     "name": "stdout",
     "output_type": "stream",
     "text": [
      "Predicted stock price for tomorrow: $164.57\n",
      "Baseline Mean Absolute Error (MAE): 0.010396054178696672\n",
      "Baseline Root Mean Squared Error (RMSE): 0.014311544227018575\n",
      "Baseline R-squared (R²): 0.912274759430207\n",
      "\n",
      "Estimated time left: 9.18 minutes\n",
      "\n",
      "Processing data for EPAM which is stock # 72 of 103.\n"
     ]
    },
    {
     "name": "stderr",
     "output_type": "stream",
     "text": [
      "\n"
     ]
    },
    {
     "name": "stdout",
     "output_type": "stream",
     "text": [
      "\u001b[1m8/8\u001b[0m \u001b[32m━━━━━━━━━━━━━━━━━━━━\u001b[0m\u001b[37m\u001b[0m \u001b[1m0s\u001b[0m 24ms/step\n",
      "Mean Absolute Error (MAE): 0.014997846952431417\n",
      "Root Mean Squared Error (RMSE): 0.020269498182396203\n",
      "R-squared (R²): 0.9353304761826658\n",
      "\u001b[1m1/1\u001b[0m \u001b[32m━━━━━━━━━━━━━━━━━━━━\u001b[0m\u001b[37m\u001b[0m \u001b[1m0s\u001b[0m 177ms/step\n"
     ]
    },
    {
     "name": "stderr",
     "output_type": "stream",
     "text": [
      "\r",
      "[*********************100%***********************]  1 of 1 completed"
     ]
    },
    {
     "name": "stdout",
     "output_type": "stream",
     "text": [
      "Predicted stock price for tomorrow: $246.95\n",
      "Baseline Mean Absolute Error (MAE): 0.007089636753661762\n",
      "Baseline Root Mean Squared Error (RMSE): 0.012960440795831592\n",
      "Baseline R-squared (R²): 0.9735605014316155\n",
      "\n",
      "Estimated time left: 8.90 minutes\n",
      "\n",
      "Processing data for ABT which is stock # 73 of 103.\n"
     ]
    },
    {
     "name": "stderr",
     "output_type": "stream",
     "text": [
      "\n"
     ]
    },
    {
     "name": "stdout",
     "output_type": "stream",
     "text": [
      "\u001b[1m8/8\u001b[0m \u001b[32m━━━━━━━━━━━━━━━━━━━━\u001b[0m\u001b[37m\u001b[0m \u001b[1m0s\u001b[0m 24ms/step\n",
      "Mean Absolute Error (MAE): 0.017008465967121068\n",
      "Root Mean Squared Error (RMSE): 0.022406903477496617\n",
      "R-squared (R²): 0.8888745807098561\n",
      "\u001b[1m1/1\u001b[0m \u001b[32m━━━━━━━━━━━━━━━━━━━━\u001b[0m\u001b[37m\u001b[0m \u001b[1m0s\u001b[0m 176ms/step\n"
     ]
    },
    {
     "name": "stderr",
     "output_type": "stream",
     "text": [
      "\r",
      "[*********************100%***********************]  1 of 1 completed"
     ]
    },
    {
     "name": "stdout",
     "output_type": "stream",
     "text": [
      "Predicted stock price for tomorrow: $119.53\n",
      "Baseline Mean Absolute Error (MAE): 0.012692951414383173\n",
      "Baseline Root Mean Squared Error (RMSE): 0.018054184678432745\n",
      "Baseline R-squared (R²): 0.9278551246927123\n",
      "\n",
      "Estimated time left: 8.59 minutes\n",
      "\n",
      "Processing data for GPC which is stock # 74 of 103.\n"
     ]
    },
    {
     "name": "stderr",
     "output_type": "stream",
     "text": [
      "\n"
     ]
    },
    {
     "name": "stdout",
     "output_type": "stream",
     "text": [
      "\u001b[1m8/8\u001b[0m \u001b[32m━━━━━━━━━━━━━━━━━━━━\u001b[0m\u001b[37m\u001b[0m \u001b[1m0s\u001b[0m 24ms/step\n",
      "Mean Absolute Error (MAE): 0.021916268548839345\n",
      "Root Mean Squared Error (RMSE): 0.03515274130528052\n",
      "R-squared (R²): 0.7866609259283075\n",
      "\u001b[1m1/1\u001b[0m \u001b[32m━━━━━━━━━━━━━━━━━━━━\u001b[0m\u001b[37m\u001b[0m \u001b[1m0s\u001b[0m 180ms/step\n"
     ]
    },
    {
     "name": "stderr",
     "output_type": "stream",
     "text": [
      "\r",
      "[*********************100%***********************]  1 of 1 completed"
     ]
    },
    {
     "name": "stdout",
     "output_type": "stream",
     "text": [
      "Predicted stock price for tomorrow: $126.08\n",
      "Baseline Mean Absolute Error (MAE): 0.01195453743111018\n",
      "Baseline Root Mean Squared Error (RMSE): 0.021610907738011064\n",
      "Baseline R-squared (R²): 0.9193697459699084\n",
      "\n",
      "Estimated time left: 8.27 minutes\n",
      "\n",
      "Processing data for AIG which is stock # 75 of 103.\n"
     ]
    },
    {
     "name": "stderr",
     "output_type": "stream",
     "text": [
      "\n"
     ]
    },
    {
     "name": "stdout",
     "output_type": "stream",
     "text": [
      "\u001b[1m8/8\u001b[0m \u001b[32m━━━━━━━━━━━━━━━━━━━━\u001b[0m\u001b[37m\u001b[0m \u001b[1m0s\u001b[0m 24ms/step\n",
      "Mean Absolute Error (MAE): 0.02943641542935718\n",
      "Root Mean Squared Error (RMSE): 0.0339511544867648\n",
      "R-squared (R²): 0.5539864527291511\n",
      "\u001b[1m1/1\u001b[0m \u001b[32m━━━━━━━━━━━━━━━━━━━━\u001b[0m\u001b[37m\u001b[0m \u001b[1m0s\u001b[0m 174ms/step\n"
     ]
    },
    {
     "name": "stderr",
     "output_type": "stream",
     "text": [
      "\r",
      "[*********************100%***********************]  1 of 1 completed"
     ]
    },
    {
     "name": "stdout",
     "output_type": "stream",
     "text": [
      "Predicted stock price for tomorrow: $75.57\n",
      "Baseline Mean Absolute Error (MAE): 0.012177572357772603\n",
      "Baseline Root Mean Squared Error (RMSE): 0.018037701211948597\n",
      "Baseline R-squared (R²): 0.8741070720854919\n",
      "\n",
      "Estimated time left: 8.03 minutes\n",
      "\n",
      "Processing data for ADI which is stock # 76 of 103.\n"
     ]
    },
    {
     "name": "stderr",
     "output_type": "stream",
     "text": [
      "\n"
     ]
    },
    {
     "name": "stdout",
     "output_type": "stream",
     "text": [
      "\u001b[1m8/8\u001b[0m \u001b[32m━━━━━━━━━━━━━━━━━━━━\u001b[0m\u001b[37m\u001b[0m \u001b[1m0s\u001b[0m 24ms/step\n",
      "Mean Absolute Error (MAE): 0.04145281464024177\n",
      "Root Mean Squared Error (RMSE): 0.051016472979931504\n",
      "R-squared (R²): 0.7726723269080857\n",
      "\u001b[1m1/1\u001b[0m \u001b[32m━━━━━━━━━━━━━━━━━━━━\u001b[0m\u001b[37m\u001b[0m \u001b[1m0s\u001b[0m 178ms/step\n"
     ]
    },
    {
     "name": "stderr",
     "output_type": "stream",
     "text": [
      "\r",
      "[*********************100%***********************]  1 of 1 completed"
     ]
    },
    {
     "name": "stdout",
     "output_type": "stream",
     "text": [
      "Predicted stock price for tomorrow: $215.68\n",
      "Baseline Mean Absolute Error (MAE): 0.02130515968855374\n",
      "Baseline Root Mean Squared Error (RMSE): 0.029858826466611574\n",
      "Baseline R-squared (R²): 0.9221287913854861\n",
      "\n",
      "Estimated time left: 7.71 minutes\n",
      "\n",
      "Processing data for A which is stock # 77 of 103.\n"
     ]
    },
    {
     "name": "stderr",
     "output_type": "stream",
     "text": [
      "\n"
     ]
    },
    {
     "name": "stdout",
     "output_type": "stream",
     "text": [
      "\u001b[1m8/8\u001b[0m \u001b[32m━━━━━━━━━━━━━━━━━━━━\u001b[0m\u001b[37m\u001b[0m \u001b[1m0s\u001b[0m 24ms/step\n",
      "Mean Absolute Error (MAE): 0.01876452777156918\n",
      "Root Mean Squared Error (RMSE): 0.025287137083463432\n",
      "R-squared (R²): 0.8028134186019436\n",
      "\u001b[1m1/1\u001b[0m \u001b[32m━━━━━━━━━━━━━━━━━━━━\u001b[0m\u001b[37m\u001b[0m \u001b[1m0s\u001b[0m 184ms/step\n"
     ]
    },
    {
     "name": "stderr",
     "output_type": "stream",
     "text": [
      "\r",
      "[*********************100%***********************]  1 of 1 completed"
     ]
    },
    {
     "name": "stdout",
     "output_type": "stream",
     "text": [
      "Predicted stock price for tomorrow: $139.63\n",
      "Baseline Mean Absolute Error (MAE): 0.014526260403742107\n",
      "Baseline Root Mean Squared Error (RMSE): 0.019835039616078496\n",
      "Baseline R-squared (R²): 0.8786767106875714\n",
      "\n",
      "Estimated time left: 7.46 minutes\n",
      "\n",
      "Processing data for HSIC which is stock # 78 of 103.\n"
     ]
    },
    {
     "name": "stderr",
     "output_type": "stream",
     "text": [
      "\n"
     ]
    },
    {
     "name": "stdout",
     "output_type": "stream",
     "text": [
      "\u001b[1m8/8\u001b[0m \u001b[32m━━━━━━━━━━━━━━━━━━━━\u001b[0m\u001b[37m\u001b[0m \u001b[1m0s\u001b[0m 24ms/step\n",
      "Mean Absolute Error (MAE): 0.024819943793240085\n",
      "Root Mean Squared Error (RMSE): 0.03269637452346322\n",
      "R-squared (R²): 0.7596540669325798\n",
      "\u001b[1m1/1\u001b[0m \u001b[32m━━━━━━━━━━━━━━━━━━━━\u001b[0m\u001b[37m\u001b[0m \u001b[1m0s\u001b[0m 178ms/step\n"
     ]
    },
    {
     "name": "stderr",
     "output_type": "stream",
     "text": [
      "\r",
      "[*********************100%***********************]  1 of 1 completed"
     ]
    },
    {
     "name": "stdout",
     "output_type": "stream",
     "text": [
      "Predicted stock price for tomorrow: $77.01\n",
      "Baseline Mean Absolute Error (MAE): 0.01732890724986032\n",
      "Baseline Root Mean Squared Error (RMSE): 0.023912452393049236\n",
      "Baseline R-squared (R²): 0.8714459344717933\n",
      "\n",
      "Estimated time left: 7.17 minutes\n",
      "\n",
      "Processing data for ANSS which is stock # 79 of 103.\n"
     ]
    },
    {
     "name": "stderr",
     "output_type": "stream",
     "text": [
      "\n"
     ]
    },
    {
     "name": "stdout",
     "output_type": "stream",
     "text": [
      "\u001b[1m8/8\u001b[0m \u001b[32m━━━━━━━━━━━━━━━━━━━━\u001b[0m\u001b[37m\u001b[0m \u001b[1m0s\u001b[0m 33ms/step\n",
      "Mean Absolute Error (MAE): 0.01925601408287902\n",
      "Root Mean Squared Error (RMSE): 0.02526479645994638\n",
      "R-squared (R²): 0.7876988123173827\n",
      "\u001b[1m1/1\u001b[0m \u001b[32m━━━━━━━━━━━━━━━━━━━━\u001b[0m\u001b[37m\u001b[0m \u001b[1m0s\u001b[0m 210ms/step\n"
     ]
    },
    {
     "name": "stderr",
     "output_type": "stream",
     "text": [
      "\r",
      "[*********************100%***********************]  1 of 1 completed"
     ]
    },
    {
     "name": "stdout",
     "output_type": "stream",
     "text": [
      "Predicted stock price for tomorrow: $352.21\n",
      "Baseline Mean Absolute Error (MAE): 0.01648748014508765\n",
      "Baseline Root Mean Squared Error (RMSE): 0.02239890541114659\n",
      "Baseline R-squared (R²): 0.8331314824546447\n",
      "\n",
      "Estimated time left: 6.92 minutes\n",
      "\n",
      "Processing data for BRO which is stock # 80 of 103.\n"
     ]
    },
    {
     "name": "stderr",
     "output_type": "stream",
     "text": [
      "\n"
     ]
    },
    {
     "name": "stdout",
     "output_type": "stream",
     "text": [
      "\u001b[1m8/8\u001b[0m \u001b[32m━━━━━━━━━━━━━━━━━━━━\u001b[0m\u001b[37m\u001b[0m \u001b[1m0s\u001b[0m 30ms/step\n",
      "Mean Absolute Error (MAE): 0.03776623690189592\n",
      "Root Mean Squared Error (RMSE): 0.0457567303313823\n",
      "R-squared (R²): 0.8842864427254142\n",
      "\u001b[1m1/1\u001b[0m \u001b[32m━━━━━━━━━━━━━━━━━━━━\u001b[0m\u001b[37m\u001b[0m \u001b[1m0s\u001b[0m 189ms/step\n"
     ]
    },
    {
     "name": "stderr",
     "output_type": "stream",
     "text": [
      "\r",
      "[*********************100%***********************]  1 of 1 completed"
     ]
    },
    {
     "name": "stdout",
     "output_type": "stream",
     "text": [
      "Predicted stock price for tomorrow: $106.35\n",
      "Baseline Mean Absolute Error (MAE): 0.011739559864120203\n",
      "Baseline Root Mean Squared Error (RMSE): 0.03745357839028073\n",
      "Baseline R-squared (R²): 0.9224715835849489\n",
      "\n",
      "Estimated time left: 6.66 minutes\n",
      "\n",
      "Processing data for CL which is stock # 81 of 103.\n"
     ]
    },
    {
     "name": "stderr",
     "output_type": "stream",
     "text": [
      "\n"
     ]
    },
    {
     "name": "stdout",
     "output_type": "stream",
     "text": [
      "\u001b[1m8/8\u001b[0m \u001b[32m━━━━━━━━━━━━━━━━━━━━\u001b[0m\u001b[37m\u001b[0m \u001b[1m0s\u001b[0m 26ms/step\n",
      "Mean Absolute Error (MAE): 0.054925949037820436\n",
      "Root Mean Squared Error (RMSE): 0.06499704443765561\n",
      "R-squared (R²): 0.8116909460852911\n",
      "\u001b[1m1/1\u001b[0m \u001b[32m━━━━━━━━━━━━━━━━━━━━\u001b[0m\u001b[37m\u001b[0m \u001b[1m0s\u001b[0m 190ms/step\n"
     ]
    },
    {
     "name": "stderr",
     "output_type": "stream",
     "text": [
      "\r",
      "[*********************100%***********************]  1 of 1 completed"
     ]
    },
    {
     "name": "stdout",
     "output_type": "stream",
     "text": [
      "Predicted stock price for tomorrow: $93.56\n",
      "Baseline Mean Absolute Error (MAE): 0.015023480117185552\n",
      "Baseline Root Mean Squared Error (RMSE): 0.02921264596992285\n",
      "Baseline R-squared (R²): 0.9619612904757329\n",
      "\n",
      "Estimated time left: 6.41 minutes\n",
      "\n",
      "Processing data for SCHW which is stock # 82 of 103.\n"
     ]
    },
    {
     "name": "stderr",
     "output_type": "stream",
     "text": [
      "\n"
     ]
    },
    {
     "name": "stdout",
     "output_type": "stream",
     "text": [
      "\u001b[1m8/8\u001b[0m \u001b[32m━━━━━━━━━━━━━━━━━━━━\u001b[0m\u001b[37m\u001b[0m \u001b[1m0s\u001b[0m 25ms/step\n",
      "Mean Absolute Error (MAE): 0.01974549508904037\n",
      "Root Mean Squared Error (RMSE): 0.02791704341520849\n",
      "R-squared (R²): 0.8807133209478463\n",
      "\u001b[1m1/1\u001b[0m \u001b[32m━━━━━━━━━━━━━━━━━━━━\u001b[0m\u001b[37m\u001b[0m \u001b[1m0s\u001b[0m 203ms/step\n"
     ]
    },
    {
     "name": "stderr",
     "output_type": "stream",
     "text": [
      "\r",
      "[*********************100%***********************]  1 of 1 completed"
     ]
    },
    {
     "name": "stdout",
     "output_type": "stream",
     "text": [
      "Predicted stock price for tomorrow: $83.48\n",
      "Baseline Mean Absolute Error (MAE): 0.012065053994318356\n",
      "Baseline Root Mean Squared Error (RMSE): 0.023003373931064337\n",
      "Baseline R-squared (R²): 0.9190091079563578\n",
      "\n",
      "Estimated time left: 6.10 minutes\n",
      "\n",
      "Processing data for CFG which is stock # 83 of 103.\n"
     ]
    },
    {
     "name": "stderr",
     "output_type": "stream",
     "text": [
      "\n"
     ]
    },
    {
     "name": "stdout",
     "output_type": "stream",
     "text": [
      "\u001b[1m8/8\u001b[0m \u001b[32m━━━━━━━━━━━━━━━━━━━━\u001b[0m\u001b[37m\u001b[0m \u001b[1m0s\u001b[0m 25ms/step\n",
      "Mean Absolute Error (MAE): 0.016091445220749834\n",
      "Root Mean Squared Error (RMSE): 0.02255491592319054\n",
      "R-squared (R²): 0.9589125009257015\n",
      "\u001b[1m1/1\u001b[0m \u001b[32m━━━━━━━━━━━━━━━━━━━━\u001b[0m\u001b[37m\u001b[0m \u001b[1m0s\u001b[0m 224ms/step\n"
     ]
    },
    {
     "name": "stderr",
     "output_type": "stream",
     "text": [
      "\r",
      "[*********************100%***********************]  1 of 1 completed"
     ]
    },
    {
     "name": "stdout",
     "output_type": "stream",
     "text": [
      "Predicted stock price for tomorrow: $48.33\n",
      "Baseline Mean Absolute Error (MAE): 0.014193217678341438\n",
      "Baseline Root Mean Squared Error (RMSE): 0.03164282825903302\n",
      "Baseline R-squared (R²): 0.9191317825038978\n",
      "\n",
      "Estimated time left: 5.85 minutes\n",
      "\n",
      "Processing data for BLK which is stock # 84 of 103.\n"
     ]
    },
    {
     "name": "stderr",
     "output_type": "stream",
     "text": [
      "\n"
     ]
    },
    {
     "name": "stdout",
     "output_type": "stream",
     "text": [
      "\u001b[1m8/8\u001b[0m \u001b[32m━━━━━━━━━━━━━━━━━━━━\u001b[0m\u001b[37m\u001b[0m \u001b[1m0s\u001b[0m 25ms/step\n",
      "Mean Absolute Error (MAE): 0.015964938783399038\n",
      "Root Mean Squared Error (RMSE): 0.02025767813462275\n",
      "R-squared (R²): 0.9695479785343142\n",
      "\u001b[1m1/1\u001b[0m \u001b[32m━━━━━━━━━━━━━━━━━━━━\u001b[0m\u001b[37m\u001b[0m \u001b[1m0s\u001b[0m 183ms/step\n"
     ]
    },
    {
     "name": "stderr",
     "output_type": "stream",
     "text": [
      "\r",
      "[*********************100%***********************]  1 of 1 completed"
     ]
    },
    {
     "name": "stdout",
     "output_type": "stream",
     "text": [
      "Predicted stock price for tomorrow: $999.35\n",
      "Baseline Mean Absolute Error (MAE): 0.011823554815269376\n",
      "Baseline Root Mean Squared Error (RMSE): 0.025365275825191838\n",
      "Baseline R-squared (R²): 0.952256310978872\n",
      "\n",
      "Estimated time left: 5.57 minutes\n",
      "\n",
      "Processing data for BBY which is stock # 85 of 103.\n"
     ]
    },
    {
     "name": "stderr",
     "output_type": "stream",
     "text": [
      "\n"
     ]
    },
    {
     "name": "stdout",
     "output_type": "stream",
     "text": [
      "\u001b[1m8/8\u001b[0m \u001b[32m━━━━━━━━━━━━━━━━━━━━\u001b[0m\u001b[37m\u001b[0m \u001b[1m0s\u001b[0m 26ms/step\n",
      "Mean Absolute Error (MAE): 0.018210118665568563\n",
      "Root Mean Squared Error (RMSE): 0.025602588615035126\n",
      "R-squared (R²): 0.9356685661430826\n",
      "\u001b[1m1/1\u001b[0m \u001b[32m━━━━━━━━━━━━━━━━━━━━\u001b[0m\u001b[37m\u001b[0m \u001b[1m0s\u001b[0m 185ms/step\n"
     ]
    },
    {
     "name": "stderr",
     "output_type": "stream",
     "text": [
      "\r",
      "[*********************100%***********************]  1 of 1 completed"
     ]
    },
    {
     "name": "stdout",
     "output_type": "stream",
     "text": [
      "Predicted stock price for tomorrow: $90.99\n",
      "Baseline Mean Absolute Error (MAE): 0.013901492684616719\n",
      "Baseline Root Mean Squared Error (RMSE): 0.02263255846362465\n",
      "Baseline R-squared (R²): 0.9497283919711733\n",
      "\n",
      "Estimated time left: 5.31 minutes\n",
      "\n",
      "Processing data for ADBE which is stock # 86 of 103.\n"
     ]
    },
    {
     "name": "stderr",
     "output_type": "stream",
     "text": [
      "\n"
     ]
    },
    {
     "name": "stdout",
     "output_type": "stream",
     "text": [
      "\u001b[1m8/8\u001b[0m \u001b[32m━━━━━━━━━━━━━━━━━━━━\u001b[0m\u001b[37m\u001b[0m \u001b[1m0s\u001b[0m 26ms/step\n",
      "Mean Absolute Error (MAE): 0.020728977304461698\n",
      "Root Mean Squared Error (RMSE): 0.030126120083184743\n",
      "R-squared (R²): 0.923844108429609\n",
      "\u001b[1m1/1\u001b[0m \u001b[32m━━━━━━━━━━━━━━━━━━━━\u001b[0m\u001b[37m\u001b[0m \u001b[1m0s\u001b[0m 208ms/step\n"
     ]
    },
    {
     "name": "stderr",
     "output_type": "stream",
     "text": [
      "\r",
      "[*********************100%***********************]  1 of 1 completed"
     ]
    },
    {
     "name": "stdout",
     "output_type": "stream",
     "text": [
      "Predicted stock price for tomorrow: $517.27\n",
      "Baseline Mean Absolute Error (MAE): 0.018423198163293828\n",
      "Baseline Root Mean Squared Error (RMSE): 0.029459929773770578\n",
      "Baseline R-squared (R²): 0.9271749962599856\n",
      "\n",
      "Estimated time left: 5.04 minutes\n",
      "\n",
      "Processing data for AKAM which is stock # 87 of 103.\n"
     ]
    },
    {
     "name": "stderr",
     "output_type": "stream",
     "text": [
      "\n"
     ]
    },
    {
     "name": "stdout",
     "output_type": "stream",
     "text": [
      "\u001b[1m8/8\u001b[0m \u001b[32m━━━━━━━━━━━━━━━━━━━━\u001b[0m\u001b[37m\u001b[0m \u001b[1m0s\u001b[0m 25ms/step\n",
      "Mean Absolute Error (MAE): 0.022123695730642483\n",
      "Root Mean Squared Error (RMSE): 0.035827941767028006\n",
      "R-squared (R²): 0.9554105941760594\n",
      "\u001b[1m1/1\u001b[0m \u001b[32m━━━━━━━━━━━━━━━━━━━━\u001b[0m\u001b[37m\u001b[0m \u001b[1m0s\u001b[0m 222ms/step\n"
     ]
    },
    {
     "name": "stderr",
     "output_type": "stream",
     "text": [
      "\r",
      "[*********************100%***********************]  1 of 1 completed"
     ]
    },
    {
     "name": "stdout",
     "output_type": "stream",
     "text": [
      "Predicted stock price for tomorrow: $93.79\n",
      "Baseline Mean Absolute Error (MAE): 0.021575243471521736\n",
      "Baseline Root Mean Squared Error (RMSE): 0.04267357322759383\n",
      "Baseline R-squared (R²): 0.9367433796276153\n",
      "\n",
      "Estimated time left: 4.77 minutes\n",
      "\n",
      "Processing data for COF which is stock # 88 of 103.\n"
     ]
    },
    {
     "name": "stderr",
     "output_type": "stream",
     "text": [
      "\n"
     ]
    },
    {
     "name": "stdout",
     "output_type": "stream",
     "text": [
      "\u001b[1m8/8\u001b[0m \u001b[32m━━━━━━━━━━━━━━━━━━━━\u001b[0m\u001b[37m\u001b[0m \u001b[1m0s\u001b[0m 28ms/step\n",
      "Mean Absolute Error (MAE): 0.02204109475390988\n",
      "Root Mean Squared Error (RMSE): 0.034877505491730736\n",
      "R-squared (R²): 0.8625347670414616\n",
      "\u001b[1m1/1\u001b[0m \u001b[32m━━━━━━━━━━━━━━━━━━━━\u001b[0m\u001b[37m\u001b[0m \u001b[1m0s\u001b[0m 182ms/step\n"
     ]
    },
    {
     "name": "stderr",
     "output_type": "stream",
     "text": [
      "\r",
      "[*********************100%***********************]  1 of 1 completed"
     ]
    },
    {
     "name": "stdout",
     "output_type": "stream",
     "text": [
      "Predicted stock price for tomorrow: $179.91\n",
      "Baseline Mean Absolute Error (MAE): 0.014666580163773027\n",
      "Baseline Root Mean Squared Error (RMSE): 0.033404733228829815\n",
      "Baseline R-squared (R²): 0.8738991376650016\n",
      "\n",
      "Estimated time left: 4.49 minutes\n",
      "\n",
      "Processing data for GD which is stock # 89 of 103.\n"
     ]
    },
    {
     "name": "stderr",
     "output_type": "stream",
     "text": [
      "\n"
     ]
    },
    {
     "name": "stdout",
     "output_type": "stream",
     "text": [
      "\u001b[1m8/8\u001b[0m \u001b[32m━━━━━━━━━━━━━━━━━━━━\u001b[0m\u001b[37m\u001b[0m \u001b[1m0s\u001b[0m 25ms/step\n",
      "Mean Absolute Error (MAE): 0.049306216772207465\n",
      "Root Mean Squared Error (RMSE): 0.055231809696707795\n",
      "R-squared (R²): 0.36370295319216217\n",
      "\u001b[1m1/1\u001b[0m \u001b[32m━━━━━━━━━━━━━━━━━━━━\u001b[0m\u001b[37m\u001b[0m \u001b[1m0s\u001b[0m 181ms/step\n"
     ]
    },
    {
     "name": "stderr",
     "output_type": "stream",
     "text": [
      "\r",
      "[*********************100%***********************]  1 of 1 completed"
     ]
    },
    {
     "name": "stdout",
     "output_type": "stream",
     "text": [
      "Predicted stock price for tomorrow: $280.71\n",
      "Baseline Mean Absolute Error (MAE): 0.011398291649468756\n",
      "Baseline Root Mean Squared Error (RMSE): 0.018074019830432192\n",
      "Baseline R-squared (R²): 0.9318617665569646\n",
      "\n",
      "Estimated time left: 4.17 minutes\n",
      "\n",
      "Processing data for AZO which is stock # 90 of 103.\n"
     ]
    },
    {
     "name": "stderr",
     "output_type": "stream",
     "text": [
      "\n"
     ]
    },
    {
     "name": "stdout",
     "output_type": "stream",
     "text": [
      "\u001b[1m8/8\u001b[0m \u001b[32m━━━━━━━━━━━━━━━━━━━━\u001b[0m\u001b[37m\u001b[0m \u001b[1m0s\u001b[0m 25ms/step\n",
      "Mean Absolute Error (MAE): 0.06179711481924932\n",
      "Root Mean Squared Error (RMSE): 0.06994222795213738\n",
      "R-squared (R²): -0.06121258616995595\n",
      "\u001b[1m1/1\u001b[0m \u001b[32m━━━━━━━━━━━━━━━━━━━━\u001b[0m\u001b[37m\u001b[0m \u001b[1m0s\u001b[0m 181ms/step\n"
     ]
    },
    {
     "name": "stderr",
     "output_type": "stream",
     "text": [
      "\r",
      "[*********************100%***********************]  1 of 1 completed"
     ]
    },
    {
     "name": "stdout",
     "output_type": "stream",
     "text": [
      "Predicted stock price for tomorrow: $2971.77\n",
      "Baseline Mean Absolute Error (MAE): 0.012993127420347193\n",
      "Baseline Root Mean Squared Error (RMSE): 0.022135917974412965\n",
      "Baseline R-squared (R²): 0.8937036036766969\n",
      "\n",
      "Estimated time left: 3.85 minutes\n",
      "\n",
      "Processing data for CPB which is stock # 91 of 103.\n"
     ]
    },
    {
     "name": "stderr",
     "output_type": "stream",
     "text": [
      "\n"
     ]
    },
    {
     "name": "stdout",
     "output_type": "stream",
     "text": [
      "\u001b[1m8/8\u001b[0m \u001b[32m━━━━━━━━━━━━━━━━━━━━\u001b[0m\u001b[37m\u001b[0m \u001b[1m0s\u001b[0m 25ms/step\n",
      "Mean Absolute Error (MAE): 0.026745384541966073\n",
      "Root Mean Squared Error (RMSE): 0.033635830544342646\n",
      "R-squared (R²): 0.935753364136131\n",
      "\u001b[1m1/1\u001b[0m \u001b[32m━━━━━━━━━━━━━━━━━━━━\u001b[0m\u001b[37m\u001b[0m \u001b[1m0s\u001b[0m 201ms/step\n"
     ]
    },
    {
     "name": "stderr",
     "output_type": "stream",
     "text": [
      "\r",
      "[*********************100%***********************]  1 of 1 completed"
     ]
    },
    {
     "name": "stdout",
     "output_type": "stream",
     "text": [
      "Predicted stock price for tomorrow: $46.38\n",
      "Baseline Mean Absolute Error (MAE): 0.024373704794530437\n",
      "Baseline Root Mean Squared Error (RMSE): 0.030946924058970537\n",
      "Baseline R-squared (R²): 0.9456147588738419\n",
      "\n",
      "Estimated time left: 3.56 minutes\n",
      "\n",
      "Processing data for CMG which is stock # 92 of 103.\n"
     ]
    },
    {
     "name": "stderr",
     "output_type": "stream",
     "text": [
      "\n"
     ]
    },
    {
     "name": "stdout",
     "output_type": "stream",
     "text": [
      "\u001b[1m8/8\u001b[0m \u001b[32m━━━━━━━━━━━━━━━━━━━━\u001b[0m\u001b[37m\u001b[0m \u001b[1m0s\u001b[0m 24ms/step\n",
      "Mean Absolute Error (MAE): 0.04344820783015621\n",
      "Root Mean Squared Error (RMSE): 0.050148143756153236\n",
      "R-squared (R²): 0.6705193508802259\n",
      "\u001b[1m1/1\u001b[0m \u001b[32m━━━━━━━━━━━━━━━━━━━━\u001b[0m\u001b[37m\u001b[0m \u001b[1m0s\u001b[0m 180ms/step\n"
     ]
    },
    {
     "name": "stderr",
     "output_type": "stream",
     "text": [
      "\r",
      "[*********************100%***********************]  1 of 1 completed"
     ]
    },
    {
     "name": "stdout",
     "output_type": "stream",
     "text": [
      "Predicted stock price for tomorrow: $58.29\n",
      "Baseline Mean Absolute Error (MAE): 0.013797655369572724\n",
      "Baseline Root Mean Squared Error (RMSE): 0.026186831482320157\n",
      "Baseline R-squared (R²): 0.9101566172383945\n",
      "\n",
      "Estimated time left: 3.25 minutes\n",
      "\n",
      "Processing data for BMY which is stock # 93 of 103.\n"
     ]
    },
    {
     "name": "stderr",
     "output_type": "stream",
     "text": [
      "\n"
     ]
    },
    {
     "name": "stdout",
     "output_type": "stream",
     "text": [
      "\u001b[1m8/8\u001b[0m \u001b[32m━━━━━━━━━━━━━━━━━━━━\u001b[0m\u001b[37m\u001b[0m \u001b[1m0s\u001b[0m 25ms/step\n",
      "Mean Absolute Error (MAE): 0.025796785778589043\n",
      "Root Mean Squared Error (RMSE): 0.03369477232745437\n",
      "R-squared (R²): 0.9150395244601632\n",
      "\u001b[1m1/1\u001b[0m \u001b[32m━━━━━━━━━━━━━━━━━━━━\u001b[0m\u001b[37m\u001b[0m \u001b[1m0s\u001b[0m 189ms/step\n"
     ]
    },
    {
     "name": "stderr",
     "output_type": "stream",
     "text": [
      "\r",
      "[*********************100%***********************]  1 of 1 completed"
     ]
    },
    {
     "name": "stdout",
     "output_type": "stream",
     "text": [
      "Predicted stock price for tomorrow: $58.72\n",
      "Baseline Mean Absolute Error (MAE): 0.014766045691110178\n",
      "Baseline Root Mean Squared Error (RMSE): 0.02422121323788253\n",
      "Baseline R-squared (R²): 0.9560980644005268\n",
      "\n",
      "Estimated time left: 2.97 minutes\n",
      "\n",
      "Processing data for FE which is stock # 94 of 103.\n"
     ]
    },
    {
     "name": "stderr",
     "output_type": "stream",
     "text": [
      "\n"
     ]
    },
    {
     "name": "stdout",
     "output_type": "stream",
     "text": [
      "\u001b[1m8/8\u001b[0m \u001b[32m━━━━━━━━━━━━━━━━━━━━\u001b[0m\u001b[37m\u001b[0m \u001b[1m0s\u001b[0m 25ms/step\n",
      "Mean Absolute Error (MAE): 0.013581756797020153\n",
      "Root Mean Squared Error (RMSE): 0.017815090327487203\n",
      "R-squared (R²): 0.9664526872584961\n",
      "\u001b[1m1/1\u001b[0m \u001b[32m━━━━━━━━━━━━━━━━━━━━\u001b[0m\u001b[37m\u001b[0m \u001b[1m0s\u001b[0m 200ms/step\n"
     ]
    },
    {
     "name": "stderr",
     "output_type": "stream",
     "text": [
      "\r",
      "[*********************100%***********************]  1 of 1 completed"
     ]
    },
    {
     "name": "stdout",
     "output_type": "stream",
     "text": [
      "Predicted stock price for tomorrow: $42.61\n",
      "Baseline Mean Absolute Error (MAE): 0.012111680446396916\n",
      "Baseline Root Mean Squared Error (RMSE): 0.019086111629239795\n",
      "Baseline R-squared (R²): 0.9614950468663211\n",
      "\n",
      "Estimated time left: 2.67 minutes\n",
      "\n",
      "Processing data for CNC which is stock # 95 of 103.\n"
     ]
    },
    {
     "name": "stderr",
     "output_type": "stream",
     "text": [
      "\n"
     ]
    },
    {
     "name": "stdout",
     "output_type": "stream",
     "text": [
      "\u001b[1m8/8\u001b[0m \u001b[32m━━━━━━━━━━━━━━━━━━━━\u001b[0m\u001b[37m\u001b[0m \u001b[1m0s\u001b[0m 25ms/step\n",
      "Mean Absolute Error (MAE): 0.024060737176054798\n",
      "Root Mean Squared Error (RMSE): 0.03394129928710037\n",
      "R-squared (R²): 0.9119519090869284\n",
      "\u001b[1m1/1\u001b[0m \u001b[32m━━━━━━━━━━━━━━━━━━━━\u001b[0m\u001b[37m\u001b[0m \u001b[1m0s\u001b[0m 184ms/step\n"
     ]
    },
    {
     "name": "stderr",
     "output_type": "stream",
     "text": [
      "\r",
      "[*********************100%***********************]  1 of 1 completed"
     ]
    },
    {
     "name": "stdout",
     "output_type": "stream",
     "text": [
      "Predicted stock price for tomorrow: $60.95\n",
      "Baseline Mean Absolute Error (MAE): 0.019425959488161185\n",
      "Baseline Root Mean Squared Error (RMSE): 0.033837101658911906\n",
      "Baseline R-squared (R²): 0.9124916833452296\n",
      "\n",
      "Estimated time left: 2.37 minutes\n",
      "\n",
      "Processing data for DOW which is stock # 96 of 103.\n"
     ]
    },
    {
     "name": "stderr",
     "output_type": "stream",
     "text": [
      "\n"
     ]
    },
    {
     "name": "stdout",
     "output_type": "stream",
     "text": [
      "\u001b[1m8/8\u001b[0m \u001b[32m━━━━━━━━━━━━━━━━━━━━\u001b[0m\u001b[37m\u001b[0m \u001b[1m0s\u001b[0m 27ms/step\n",
      "Mean Absolute Error (MAE): 0.019539788440426472\n",
      "Root Mean Squared Error (RMSE): 0.02390239677760381\n",
      "R-squared (R²): 0.8891505953647763\n",
      "\u001b[1m1/1\u001b[0m \u001b[32m━━━━━━━━━━━━━━━━━━━━\u001b[0m\u001b[37m\u001b[0m \u001b[1m0s\u001b[0m 181ms/step\n"
     ]
    },
    {
     "name": "stderr",
     "output_type": "stream",
     "text": [
      "\r",
      "[*********************100%***********************]  1 of 1 completed"
     ]
    },
    {
     "name": "stdout",
     "output_type": "stream",
     "text": [
      "Predicted stock price for tomorrow: $45.42\n",
      "Baseline Mean Absolute Error (MAE): 0.01163983200019294\n",
      "Baseline Root Mean Squared Error (RMSE): 0.019758968072326324\n",
      "Baseline R-squared (R²): 0.9242506376939349\n",
      "\n",
      "Estimated time left: 2.08 minutes\n",
      "\n",
      "Processing data for CTSH which is stock # 97 of 103.\n"
     ]
    },
    {
     "name": "stderr",
     "output_type": "stream",
     "text": [
      "\n"
     ]
    },
    {
     "name": "stdout",
     "output_type": "stream",
     "text": [
      "\u001b[1m8/8\u001b[0m \u001b[32m━━━━━━━━━━━━━━━━━━━━\u001b[0m\u001b[37m\u001b[0m \u001b[1m0s\u001b[0m 25ms/step\n",
      "Mean Absolute Error (MAE): 0.018577584057963645\n",
      "Root Mean Squared Error (RMSE): 0.0238661501673434\n",
      "R-squared (R²): 0.9232755548411766\n",
      "\u001b[1m1/1\u001b[0m \u001b[32m━━━━━━━━━━━━━━━━━━━━\u001b[0m\u001b[37m\u001b[0m \u001b[1m0s\u001b[0m 182ms/step\n"
     ]
    },
    {
     "name": "stderr",
     "output_type": "stream",
     "text": [
      "\r",
      "[*********************100%***********************]  1 of 1 completed"
     ]
    },
    {
     "name": "stdout",
     "output_type": "stream",
     "text": [
      "Predicted stock price for tomorrow: $81.08\n",
      "Baseline Mean Absolute Error (MAE): 0.014943490623304958\n",
      "Baseline Root Mean Squared Error (RMSE): 0.02069286316000124\n",
      "Baseline R-squared (R²): 0.9423220003209096\n",
      "\n",
      "Estimated time left: 1.78 minutes\n",
      "\n",
      "Processing data for CMS which is stock # 98 of 103.\n"
     ]
    },
    {
     "name": "stderr",
     "output_type": "stream",
     "text": [
      "\n"
     ]
    },
    {
     "name": "stdout",
     "output_type": "stream",
     "text": [
      "\u001b[1m8/8\u001b[0m \u001b[32m━━━━━━━━━━━━━━━━━━━━\u001b[0m\u001b[37m\u001b[0m \u001b[1m0s\u001b[0m 25ms/step\n",
      "Mean Absolute Error (MAE): 0.03315008124203976\n",
      "Root Mean Squared Error (RMSE): 0.0408630390155871\n",
      "R-squared (R²): 0.9561105245572878\n",
      "\u001b[1m1/1\u001b[0m \u001b[32m━━━━━━━━━━━━━━━━━━━━\u001b[0m\u001b[37m\u001b[0m \u001b[1m0s\u001b[0m 178ms/step\n"
     ]
    },
    {
     "name": "stderr",
     "output_type": "stream",
     "text": [
      "\r",
      "[*********************100%***********************]  1 of 1 completed"
     ]
    },
    {
     "name": "stdout",
     "output_type": "stream",
     "text": [
      "Predicted stock price for tomorrow: $68.86\n",
      "Baseline Mean Absolute Error (MAE): 0.021796408167283312\n",
      "Baseline Root Mean Squared Error (RMSE): 0.03766687824322131\n",
      "Baseline R-squared (R²): 0.9627077727447304\n",
      "\n",
      "Estimated time left: 1.49 minutes\n",
      "\n",
      "Processing data for CHD which is stock # 99 of 103.\n"
     ]
    },
    {
     "name": "stderr",
     "output_type": "stream",
     "text": [
      "\n"
     ]
    },
    {
     "name": "stdout",
     "output_type": "stream",
     "text": [
      "\u001b[1m8/8\u001b[0m \u001b[32m━━━━━━━━━━━━━━━━━━━━\u001b[0m\u001b[37m\u001b[0m \u001b[1m0s\u001b[0m 25ms/step\n",
      "Mean Absolute Error (MAE): 0.029681489633758225\n",
      "Root Mean Squared Error (RMSE): 0.03538387411673723\n",
      "R-squared (R²): 0.7316063764825267\n",
      "\u001b[1m1/1\u001b[0m \u001b[32m━━━━━━━━━━━━━━━━━━━━\u001b[0m\u001b[37m\u001b[0m \u001b[1m0s\u001b[0m 195ms/step\n"
     ]
    },
    {
     "name": "stderr",
     "output_type": "stream",
     "text": [
      "\r",
      "[*********************100%***********************]  1 of 1 completed"
     ]
    },
    {
     "name": "stdout",
     "output_type": "stream",
     "text": [
      "Predicted stock price for tomorrow: $108.64\n",
      "Baseline Mean Absolute Error (MAE): 0.017071598337187254\n",
      "Baseline Root Mean Squared Error (RMSE): 0.029098377787692146\n",
      "Baseline R-squared (R²): 0.8184906559831121\n",
      "\n",
      "Estimated time left: 1.19 minutes\n",
      "\n",
      "Processing data for FAST which is stock # 100 of 103.\n"
     ]
    },
    {
     "name": "stderr",
     "output_type": "stream",
     "text": [
      "\n"
     ]
    },
    {
     "name": "stdout",
     "output_type": "stream",
     "text": [
      "\u001b[1m8/8\u001b[0m \u001b[32m━━━━━━━━━━━━━━━━━━━━\u001b[0m\u001b[37m\u001b[0m \u001b[1m0s\u001b[0m 25ms/step\n",
      "Mean Absolute Error (MAE): 0.06608486356889366\n",
      "Root Mean Squared Error (RMSE): 0.07473364165579967\n",
      "R-squared (R²): 0.43298141570442983\n",
      "\u001b[1m1/1\u001b[0m \u001b[32m━━━━━━━━━━━━━━━━━━━━\u001b[0m\u001b[37m\u001b[0m \u001b[1m0s\u001b[0m 179ms/step\n"
     ]
    },
    {
     "name": "stderr",
     "output_type": "stream",
     "text": [
      "\r",
      "[*********************100%***********************]  1 of 1 completed"
     ]
    },
    {
     "name": "stdout",
     "output_type": "stream",
     "text": [
      "Predicted stock price for tomorrow: $77.55\n",
      "Baseline Mean Absolute Error (MAE): 0.01344056336446489\n",
      "Baseline Root Mean Squared Error (RMSE): 0.03136184292928972\n",
      "Baseline R-squared (R²): 0.9001453822363403\n",
      "\n",
      "Estimated time left: 0.89 minutes\n",
      "\n",
      "Processing data for BAX which is stock # 101 of 103.\n"
     ]
    },
    {
     "name": "stderr",
     "output_type": "stream",
     "text": [
      "\n"
     ]
    },
    {
     "name": "stdout",
     "output_type": "stream",
     "text": [
      "\u001b[1m8/8\u001b[0m \u001b[32m━━━━━━━━━━━━━━━━━━━━\u001b[0m\u001b[37m\u001b[0m \u001b[1m0s\u001b[0m 24ms/step\n",
      "Mean Absolute Error (MAE): 0.01359289961226621\n",
      "Root Mean Squared Error (RMSE): 0.01728251151128709\n",
      "R-squared (R²): 0.8760241559794617\n",
      "\u001b[1m1/1\u001b[0m \u001b[32m━━━━━━━━━━━━━━━━━━━━\u001b[0m\u001b[37m\u001b[0m \u001b[1m0s\u001b[0m 180ms/step\n"
     ]
    },
    {
     "name": "stderr",
     "output_type": "stream",
     "text": [
      "\r",
      "[*********************100%***********************]  1 of 1 completed"
     ]
    },
    {
     "name": "stdout",
     "output_type": "stream",
     "text": [
      "Predicted stock price for tomorrow: $34.96\n",
      "Baseline Mean Absolute Error (MAE): 0.007362893416330218\n",
      "Baseline Root Mean Squared Error (RMSE): 0.011159235282821426\n",
      "Baseline R-squared (R²): 0.9483117018937148\n",
      "\n",
      "Estimated time left: 0.60 minutes\n",
      "\n",
      "Processing data for APA which is stock # 102 of 103.\n"
     ]
    },
    {
     "name": "stderr",
     "output_type": "stream",
     "text": [
      "\n"
     ]
    },
    {
     "name": "stdout",
     "output_type": "stream",
     "text": [
      "\u001b[1m8/8\u001b[0m \u001b[32m━━━━━━━━━━━━━━━━━━━━\u001b[0m\u001b[37m\u001b[0m \u001b[1m0s\u001b[0m 24ms/step\n",
      "Mean Absolute Error (MAE): 0.01497120780898845\n",
      "Root Mean Squared Error (RMSE): 0.019504363016581632\n",
      "R-squared (R²): 0.9279868193354661\n",
      "\u001b[1m1/1\u001b[0m \u001b[32m━━━━━━━━━━━━━━━━━━━━\u001b[0m\u001b[37m\u001b[0m \u001b[1m0s\u001b[0m 187ms/step\n"
     ]
    },
    {
     "name": "stderr",
     "output_type": "stream",
     "text": [
      "\r",
      "[*********************100%***********************]  1 of 1 completed"
     ]
    },
    {
     "name": "stdout",
     "output_type": "stream",
     "text": [
      "Predicted stock price for tomorrow: $22.79\n",
      "Baseline Mean Absolute Error (MAE): 0.011318850921809929\n",
      "Baseline Root Mean Squared Error (RMSE): 0.024021849041954056\n",
      "Baseline R-squared (R²): 0.8907651247231062\n",
      "\n",
      "Estimated time left: 0.30 minutes\n",
      "\n",
      "Processing data for EXPE which is stock # 103 of 103.\n"
     ]
    },
    {
     "name": "stderr",
     "output_type": "stream",
     "text": [
      "\n"
     ]
    },
    {
     "name": "stdout",
     "output_type": "stream",
     "text": [
      "\u001b[1m8/8\u001b[0m \u001b[32m━━━━━━━━━━━━━━━━━━━━\u001b[0m\u001b[37m\u001b[0m \u001b[1m0s\u001b[0m 25ms/step\n",
      "Mean Absolute Error (MAE): 0.018534765265287686\n",
      "Root Mean Squared Error (RMSE): 0.026403343867957365\n",
      "R-squared (R²): 0.9351001502236297\n",
      "\u001b[1m1/1\u001b[0m \u001b[32m━━━━━━━━━━━━━━━━━━━━\u001b[0m\u001b[37m\u001b[0m \u001b[1m0s\u001b[0m 178ms/step\n",
      "Predicted stock price for tomorrow: $183.47\n",
      "Baseline Mean Absolute Error (MAE): 0.013450722749328188\n",
      "Baseline Root Mean Squared Error (RMSE): 0.025491665587204122\n",
      "Baseline R-squared (R²): 0.9395046138910287\n",
      "sorted_output3.csv has been created with the appended results.\n"
     ]
    }
   ],
   "source": [
    "\n",
    "timeFrame = 5 #in Years\n",
    "SEQ_LENGTH = 300  # this is the window size\n",
    "number_of_tickers = len(tickers)\n",
    "#################################################################################\n",
    "stock_number = 1\n",
    "url = \"https://en.wikipedia.org/wiki/List_of_S%26P_500_companies\"\n",
    "\n",
    "from keras.callbacks import EarlyStopping, ModelCheckpoint\n",
    "\n",
    "results = []\n",
    "\n",
    "current_date_obj = datetime.strptime(currentDate, '%Y-%m-%d')\n",
    "start_date_obj = current_date_obj - timedelta(days=timeFrame*365)\n",
    "start_date = start_date_obj.strftime('%Y-%m-%d')\n",
    "\n",
    "start_time = time.time()\n",
    "\n",
    "for ticker in tickers:\n",
    "\n",
    "  try:\n",
    "\n",
    "    if stock_number != 1:\n",
    "      avg_time_per_iteration = elapsed_time / (stock_number - 1)  # average time per iteration so far\n",
    "      remaining_iterations = number_of_tickers - (stock_number - 1)\n",
    "      estimated_time_left = avg_time_per_iteration * remaining_iterations\n",
    "\n",
    "      # Format estimated time left in seconds, minutes, and hours\n",
    "      estimated_minutes = estimated_time_left / 60\n",
    "      estimated_seconds = estimated_time_left % 60\n",
    "      print(f\"\\nEstimated time left: {estimated_minutes:.2f} minutes\")\n",
    "\n",
    "\n",
    "    stock_data = yf.download(ticker, start=start_date, end=currentDate)\n",
    "    # Select the first level of the MultiIndex (i.e., 'Adj Close', 'Close', etc.)\n",
    "    stock_data_cleaned = stock_data.xs(key=ticker, axis=1, level=1)\n",
    "    stock_data = stock_data_cleaned.copy()  # Create a copy of the cleaned data\n",
    "\n",
    "    if stock_data.empty:\n",
    "          print(f\"No data found for {ticker} which is stock # {stock_number} of {number_of_tickers}.\")\n",
    "          stock_number +=1\n",
    "          continue  # Skip the rest of the loop for this ticker\n",
    "\n",
    "    # Rest of the processing for the current ticker\n",
    "    print(f\"\\nProcessing data for {ticker} which is stock # {stock_number} of {number_of_tickers}.\")\n",
    "    stock_number +=1\n",
    "\n",
    "    # Assuming stock_data has a 'Date' index\n",
    "    stock_data['Day_of_Week'] = stock_data.index.dayofweek  # 0=Monday, 6=Sunday\n",
    "    stock_data['Month'] = stock_data.index.month  # 1 to 12\n",
    "\n",
    "    # Day of the Week encoding (7 days)\n",
    "    stock_data['sin_day_of_week'] = np.sin(2 * np.pi * stock_data['Day_of_Week'] / 7)\n",
    "    stock_data['cos_day_of_week'] = np.cos(2 * np.pi * stock_data['Day_of_Week'] / 7)\n",
    "\n",
    "    # Month encoding (12 months)\n",
    "    stock_data['sin_month'] = np.sin(2 * np.pi * stock_data['Month'] / 12)\n",
    "    stock_data['cos_month'] = np.cos(2 * np.pi * stock_data['Month'] / 12)\n",
    "\n",
    "    # Time of the Year (Quarter encoding)\n",
    "    stock_data['Quarter'] = stock_data.index.quarter  # 1 to 4 (Q1, Q2, Q3, Q4)\n",
    "    stock_data['sin_quarter'] = np.sin(2 * np.pi * stock_data['Quarter'] / 4)\n",
    "    stock_data['cos_quarter'] = np.cos(2 * np.pi * stock_data['Quarter'] / 4)\n",
    "\n",
    "    # Drop the original Day_of_Week, Month, and Quarter columns if not needed\n",
    "    stock_data = stock_data.drop(['Day_of_Week', 'Month', 'Quarter'], axis=1)\n",
    "    # Feature Engineering: Calculate Technical Indicators\n",
    "    # Moving Averages\n",
    "    stock_data['SMA_10'] = stock_data['Close'].rolling(window=10).mean()\n",
    "    stock_data['SMA_50'] = stock_data['Close'].rolling(window=50).mean()\n",
    "\n",
    "    # Exponential Moving Averages (EMA)\n",
    "    stock_data['EMA_10'] = stock_data['Close'].ewm(span=10, adjust=False).mean()\n",
    "    stock_data['EMA_50'] = stock_data['Close'].ewm(span=50, adjust=False).mean()\n",
    "\n",
    "    # Bollinger Bands\n",
    "    stock_data['BB_high'] = stock_data['Close'].rolling(window=20).mean() + 2 * stock_data['Close'].rolling(window=20).std() #SMA with high and low bands based on Standard Diviation\n",
    "    stock_data['BB_low'] = stock_data['Close'].rolling(window=20).mean() - 2 * stock_data['Close'].rolling(window=20).std()\n",
    "\n",
    "    # Relative Strength Index (RSI) for overbought or oversold\n",
    "    stock_data['RSI_14'] = ta.momentum.RSIIndicator(stock_data['Close'].squeeze(), window=14).rsi() #momentum oscilator for speed and change of price movements\n",
    "\n",
    "    # Moving Average Convergence Divergence (MACD) to find buy and sell signals\n",
    "    macd_indicator = ta.trend.MACD(stock_data['Close'].squeeze())  # Ensure it's a 1D Series\n",
    "    stock_data['MACD'] = macd_indicator.macd()\n",
    "    stock_data['MACD_signal'] = macd_indicator.macd_signal()\n",
    "    # Create Lag Features (previous 5 days close prices)\n",
    "    for lag in range(1, 6):\n",
    "        stock_data[f'Close_lag_{lag}'] = stock_data['Close'].shift(lag)\n",
    "    # Step 5: Add daily low and high prices\n",
    "    stock_data['Low'] = stock_data['Low']  # Already included in the data fetched from Yahoo Finance\n",
    "    stock_data['High'] = stock_data['High']  # Already included in the data fetched from Yahoo Finance\n",
    "\n",
    "    # Drop NaN values created by the .diff() method\n",
    "    stock_data = stock_data.dropna()\n",
    "\n",
    "    # Normalize the new features\n",
    "    scaler = MinMaxScaler()\n",
    "    try:\n",
    "      scaled_data = scaler.fit_transform(stock_data)\n",
    "    except ValueError as e:\n",
    "      print(f\"Scaling failed for {ticker}: {e}\")\n",
    "      continue  # Skip to the next ticker\n",
    "\n",
    "    scaled_data = scaler.fit_transform(stock_data[['Close', 'RSI_14', 'MACD', 'MACD_signal', 'SMA_10', 'SMA_50', 'EMA_10', 'EMA_50',\n",
    "                                               'BB_high', 'BB_low','Low', 'High', 'Close_lag_1', 'Close_lag_2', 'Close_lag_3', 'Close_lag_4', 'Close_lag_5',\n",
    "                                               'sin_day_of_week', 'cos_day_of_week', 'sin_month', 'cos_month', 'sin_quarter', 'cos_quarter']])\n",
    "\n",
    "    # Convert the scaled data back to DataFrame\n",
    "    scaled_df = pd.DataFrame(scaled_data, columns=['Close', 'RSI_14', 'MACD', 'MACD_signal', 'SMA_10', 'SMA_50', 'EMA_10', 'EMA_50',\n",
    "                                               'BB_high', 'BB_low','Low', 'High', 'Close_lag_1', 'Close_lag_2', 'Close_lag_3', 'Close_lag_4', 'Close_lag_5',\n",
    "                                               'sin_day_of_week', 'cos_day_of_week', 'sin_month', 'cos_month', 'sin_quarter', 'cos_quarter'])\n",
    "\n",
    "\n",
    "    # Step 7: Create Sequences for LSTM\n",
    "    def create_sequences(data, time_steps=60):\n",
    "      X, y = [], []\n",
    "      for i in range(time_steps, len(data)):\n",
    "            X.append(data[i-time_steps:i, :-1])  # Features: all columns except 'Close'\n",
    "            y.append(data[i, 0])  # Target: 'Close' price\n",
    "      return np.array(X), np.array(y)\n",
    "\n",
    "    X, y = create_sequences(scaled_df.values)\n",
    "\n",
    "    # Step 8: Split Data into Train and Test Sets\n",
    "    X_train, X_test, y_train, y_test = train_test_split(X, y, test_size=0.2, shuffle=False)\n",
    "    X_train, X_val, y_train, y_val = train_test_split(X_train, y_train, test_size=0.2, random_state=42)\n",
    "\n",
    "    # Step 9: Define the LSTM Model\n",
    "    model = Sequential()\n",
    "    model.add(Input(shape=(X_train.shape[1], X_train.shape[2])))  # (timesteps, features)\n",
    "    model.add(LSTM(units=100, return_sequences=True))\n",
    "    model.add(Dropout(0.2))\n",
    "    model.add(LSTM(units=100, return_sequences=False))\n",
    "    model.add(Dropout(0.2))\n",
    "    model.add(Dense(units=1))  # Output layer for regression\n",
    "\n",
    "    model.compile(optimizer=Adam(learning_rate=0.001), loss='mean_squared_error')\n",
    "\n",
    "    # Define the callbacks\n",
    "    early_stopping = EarlyStopping(monitor='val_loss', patience=10, restore_best_weights=True)\n",
    "    model_checkpoint = ModelCheckpoint('best_model.keras', monitor='val_loss', save_best_only=True, save_weights_only=False, mode='min')\n",
    "\n",
    "    # Step 10: Train the model with more epochs and callbacks\n",
    "    history = model.fit(\n",
    "       X_train, y_train,\n",
    "       epochs=100,  # Increase the number of epochs as needed\n",
    "       batch_size=32,\n",
    "       validation_data=(X_val, y_val),\n",
    "       callbacks=[early_stopping, model_checkpoint],\n",
    "       verbose=0\n",
    "    )\n",
    "\n",
    "    from sklearn.metrics import mean_absolute_error, mean_squared_error, r2_score\n",
    "    import numpy as np\n",
    "\n",
    "    # Get predictions on the test data\n",
    "    y_pred = model.predict(X_test)\n",
    "\n",
    "    # Calculate MAE\n",
    "    mae = mean_absolute_error(y_test, y_pred)\n",
    "    print(f'Mean Absolute Error (MAE): {mae}')\n",
    "\n",
    "    # Calculate RMSE\n",
    "    rmse = np.sqrt(mean_squared_error(y_test, y_pred))\n",
    "    print(f'Root Mean Squared Error (RMSE): {rmse}')\n",
    "\n",
    "    # Calculate R² score\n",
    "    r2 = r2_score(y_test, y_pred)\n",
    "    print(f'R-squared (R²): {r2}')\n",
    "\n",
    "    # Step 1: Prepare the last available sequence from the test set (or validation set)\n",
    "    last_sequence = scaled_df[-SEQ_LENGTH:].values[:, :22]  # Get the last SEQ_LENGTH data points and select the first 22 features\n",
    "\n",
    "    # Step 2: Make the prediction for the next day\n",
    "    predicted_stock_price_scaled = model.predict(np.expand_dims(last_sequence, axis=0))  # Expand dims to match input shape\n",
    "\n",
    "    # Step 3: Inverse scale the prediction\n",
    "    predicted_stock_price = scaler.inverse_transform(np.column_stack((predicted_stock_price_scaled, np.zeros((predicted_stock_price_scaled.shape[0], scaled_df.shape[1]-1)))))\n",
    "\n",
    "    # Step 4: Output the predicted price\n",
    "    predicted_price = predicted_stock_price[0][0]\n",
    "    print(f\"Predicted stock price for tomorrow: ${predicted_price:.2f}\")\n",
    "\n",
    "    # Step 1: Create a baseline prediction (previous day's close)\n",
    "    y_baseline = np.roll(y_test, shift=1)  # Shift the actual prices by 1 (previous day's close)\n",
    "\n",
    "    # Step 2: Calculate the baseline error (MAE, RMSE)\n",
    "    baseline_mae = np.mean(np.abs(y_test - y_baseline))\n",
    "    baseline_rmse = np.sqrt(np.mean((y_test - y_baseline) ** 2))\n",
    "\n",
    "    # Step 3: Print Baseline Metrics\n",
    "    print(f'Baseline Mean Absolute Error (MAE): {baseline_mae}')\n",
    "    print(f'Baseline Root Mean Squared Error (RMSE): {baseline_rmse}')\n",
    "\n",
    "    # Optional: R-squared for baseline\n",
    "    baseline_ss_total = np.sum((y_test - np.mean(y_test)) ** 2)\n",
    "    baseline_ss_residual = np.sum((y_test - y_baseline) ** 2)\n",
    "    baseline_r_squared = 1 - (baseline_ss_residual / baseline_ss_total)\n",
    "    print(f'Baseline R-squared (R²): {baseline_r_squared}')\n",
    "\n",
    "    results.append({\n",
    "        \"MAE\": mae,\n",
    "        \"BaseMAE\": baseline_mae,\n",
    "        \"RMSE\": rmse,\n",
    "        \"BaseRMSE\": baseline_rmse,\n",
    "        \"R2\": r2,\n",
    "        \"BaseR2\": baseline_r_squared,\n",
    "        \"Ticker\": ticker,\n",
    "        \"Predicted Price\": predicted_price\n",
    "    })\n",
    "    elapsed_time = time.time() - start_time\n",
    "\n",
    "  except Exception as e:\n",
    "        # Catch any exception and print the error\n",
    "        print(f\"An error occurred with {ticker}: {e}\")\n",
    "        elapsed_time = time.time() - start_time\n",
    "        continue  # Move to the next iteration\n",
    "\n",
    "df2 = pd.DataFrame(results)\n",
    "# Clean the 'Price' column to extract the numeric value\n",
    "df2['MAE'] = df2['MAE'].astype(float)\n",
    "df2['BaseMAE'] = df2['BaseMAE'].astype(float)\n",
    "df2['RMSE'] = df2['RMSE'].astype(float)\n",
    "df2['BaseRMSE'] = df2['BaseRMSE'].astype(float)\n",
    "df2['R2'] = df2['R2'].astype(float)\n",
    "df2['BaseR2'] = df2['BaseR2'].astype(float)\n",
    "df2['Ticker'] = df2['Ticker'].astype(str)\n",
    "df2['Predicted Price'] = df2['Predicted Price'].astype(float)\n",
    "\n",
    "final_df = pd.merge(df, df2, on='Ticker', how='left')\n",
    "# Step 4: Save the final DataFrame to sorted_output3.csv\n",
    "final_df.to_csv('sorted_output3.csv', index=False)\n",
    "\n",
    "print(\"sorted_output3.csv has been created with the appended results.\")\n",
    "\n"
   ]
  },
  {
   "cell_type": "markdown",
   "metadata": {
    "id": "1T6wXBDZWjKc"
   },
   "source": [
    "In **sorted_output3.csv**, we have taken the top 52%+ confidence stocks and added in columns for MAE, RMSE, R2, and **PREDICTED PRICE** from the second LSTM model, as well as the baseline prediction."
   ]
  },
  {
   "cell_type": "code",
   "execution_count": null,
   "metadata": {
    "colab": {
     "base_uri": "https://localhost:8080/"
    },
    "id": "SIMTO3ALmoq9",
    "outputId": "d7612076-966f-45e2-e3d4-8af314c87028"
   },
   "outputs": [
    {
     "name": "stdout",
     "output_type": "stream",
     "text": [
      "sorted_output4.csv has been created with the filtered rows.\n"
     ]
    }
   ],
   "source": [
    "# Filter rows where 'Predicted Price' is greater than or equal to 'Price'\n",
    "filtered_df = final_df[final_df['Predicted Price'] >= final_df['Price']]\n",
    "\n",
    "# Save the filtered DataFrame to sorted_output4.csv\n",
    "filtered_df.to_csv('sorted_output4.csv', index=False, float_format='%.2f')\n",
    "\n",
    "print(\"sorted_output4.csv has been created with the filtered rows.\")\n"
   ]
  },
  {
   "cell_type": "markdown",
   "metadata": {
    "id": "ISLVhu-bW572"
   },
   "source": [
    "Our **sorted_output4.csv** file is important.  It is all the stocks with 52%+ probability of going up, but only keeping the stocks that still were predicted to go up with the second LSTM.  So these stocks have passed two AI filters."
   ]
  },
  {
   "cell_type": "markdown",
   "metadata": {
    "id": "xVhcR-431aOZ"
   },
   "source": [
    "**Mess around with the code below.  Check \"sorted_output4.csv\" and choose your CONFIDENCE_THRESHOLD from there.  Every time you run this, you will get a newly filtered sorted_output5.csv.**"
   ]
  },
  {
   "cell_type": "code",
   "execution_count": null,
   "metadata": {
    "colab": {
     "base_uri": "https://localhost:8080/"
    },
    "id": "zALyQz6OvUVg",
    "outputId": "3a1407d8-52a5-45fd-a203-c356070e769b"
   },
   "outputs": [
    {
     "name": "stdout",
     "output_type": "stream",
     "text": [
      "sorted_output5.csv has been created with the filtered trades.\n"
     ]
    }
   ],
   "source": [
    "# Parameters\n",
    "CONFIDENCE_THRESHOLD = 53  # Minimum AI confidence for trades\n",
    "ATR_PERIOD = 14  # Number of days for ATR calculation\n",
    "MIN_VOLUME = 1000000  # Minimum volume to qualify for a trade\n",
    "\n",
    "# Load the input CSV\n",
    "df = pd.read_csv(\"sorted_output4.csv\")\n",
    "\n",
    "# Fetch ATR and Volume data using yfinance\n",
    "def fetch_atr_and_volume(ticker):\n",
    "    try:\n",
    "        stock = yf.Ticker(ticker)\n",
    "        hist = stock.history(period=\"3mo\")  # Fetch last 3 months of data\n",
    "\n",
    "        # Calculate ATR\n",
    "        high_low = hist['High'] - hist['Low']\n",
    "        high_close = abs(hist['High'] - hist['Close'].shift())\n",
    "        low_close = abs(hist['Low'] - hist['Close'].shift())\n",
    "        tr = pd.concat([high_low, high_close, low_close], axis=1).max(axis=1)\n",
    "        atr = tr.rolling(window=ATR_PERIOD).mean().iloc[-1]\n",
    "\n",
    "        # Get the latest volume\n",
    "        volume = hist['Volume'].iloc[-1]\n",
    "\n",
    "        return atr, volume\n",
    "    except Exception as e:\n",
    "        print(f\"Error fetching data for {ticker}: {e}\")\n",
    "        return np.nan, np.nan\n",
    "\n",
    "# Add ATR and Volume columns\n",
    "df['ATR'], df['Volume'] = zip(*df['Ticker'].apply(fetch_atr_and_volume))\n",
    "\n",
    "# Filter trades based on conditions\n",
    "df = df[(df['Predicted Price'] > df['Price']) &  # Predicted price must be higher\n",
    "        (df['Confidence'] >= CONFIDENCE_THRESHOLD) &  # Confidence threshold\n",
    "        (df['Volume'] >= MIN_VOLUME)]  # Minimum volume\n",
    "\n",
    "df.to_csv(\"sorted_output5.csv\", index=False, float_format='%.2f')\n",
    "\n",
    "print(\"sorted_output5.csv has been created with the filtered trades.\")"
   ]
  },
  {
   "cell_type": "markdown",
   "metadata": {
    "id": "o1MbcS9FXWOp"
   },
   "source": [
    "**sorted_output5.csv** adds in Volume and ATR.  It also optionally can sort out stocks at a given confidence level.  Remake this several times to weed out stocks before moving on."
   ]
  },
  {
   "cell_type": "code",
   "execution_count": null,
   "metadata": {
    "colab": {
     "base_uri": "https://localhost:8080/"
    },
    "id": "oLVo-CVjxD8X",
    "outputId": "423f8872-aa72-42ff-dd35-b4c637cd2e16"
   },
   "outputs": [
    {
     "name": "stdout",
     "output_type": "stream",
     "text": [
      "sorted_output6.csv has been created with the new columns.\n"
     ]
    }
   ],
   "source": [
    "import pandas as pd\n",
    "\n",
    "# Load the input CSV\n",
    "df = pd.read_csv(\"sorted_output5.csv\")\n",
    "\n",
    "# Calculate the new columns\n",
    "df['Price Change'] = df['Predicted Price'] - df['Price']  # Predicted Price - Price\n",
    "df['Percent Change'] = (df['Price Change'] / df['Price']) * 100  # (Price Change / Price) * 100\n",
    "df['Possible Loss'] = ((df['ATR'] / df['Price']) * 100)  # (Price - (Price - ATR)) / Price * 100\n",
    "\n",
    "# Save the updated DataFrame to a new CSV file\n",
    "df.to_csv(\"sorted_output6.csv\", index=False, float_format='%.2f')\n",
    "\n",
    "print(\"sorted_output6.csv has been created with the new columns.\")\n"
   ]
  },
  {
   "cell_type": "markdown",
   "metadata": {
    "id": "ZIgj4cWRXnZY"
   },
   "source": [
    "This **sorted_output6.csv** calculates and adds new columns: Price Change, Percent Change, and Possible Loss."
   ]
  },
  {
   "cell_type": "code",
   "execution_count": null,
   "metadata": {
    "colab": {
     "base_uri": "https://localhost:8080/"
    },
    "id": "ZoVxKjJRG5cT",
    "outputId": "fce525c7-9be5-4b2a-8297-c3de5a201f71"
   },
   "outputs": [
    {
     "name": "stdout",
     "output_type": "stream",
     "text": [
      "New CSV file 'sorted_output7.csv' created with Kelly Criterion column.\n"
     ]
    }
   ],
   "source": [
    "import pandas as pd\n",
    "\n",
    "# Load the CSV file\n",
    "df = pd.read_csv('sorted_output6.csv')\n",
    "\n",
    "# Define a function to calculate Kelly Criterion\n",
    "def calculate_kelly(row):\n",
    "    confidence = row['Confidence']\n",
    "    percent_change = row['Percent Change']\n",
    "    possible_loss = row['Possible Loss']\n",
    "\n",
    "    # Calculate Kelly Criterion using the provided formula\n",
    "    kelly_criterion = (confidence / 100) * (percent_change / 100) / (possible_loss / 100)\n",
    "    return kelly_criterion\n",
    "\n",
    "# Apply the function to calculate Kelly Criterion for each row\n",
    "df['Kelly Criterion'] = df.apply(calculate_kelly, axis=1)\n",
    "\n",
    "# Save the new dataframe to a new CSV file\n",
    "df.to_csv('sorted_output7.csv', index=False)\n",
    "\n",
    "print(\"New CSV file 'sorted_output7.csv' created with Kelly Criterion column.\")\n"
   ]
  },
  {
   "cell_type": "markdown",
   "metadata": {
    "id": "mWiM0B2NXxir"
   },
   "source": [
    "**sorted_output7.csv** calculates the **Kelly Criterion** for each stock."
   ]
  },
  {
   "cell_type": "code",
   "execution_count": null,
   "metadata": {
    "colab": {
     "base_uri": "https://localhost:8080/"
    },
    "id": "6MjOqv0YJbr-",
    "outputId": "633c59d1-9f77-432f-e5f7-77bea6df8cc1"
   },
   "outputs": [
    {
     "name": "stdout",
     "output_type": "stream",
     "text": [
      "New CSV file 'sorted_output8.csv' created with selected columns, sorted by Kelly Criterion.\n"
     ]
    }
   ],
   "source": [
    "import pandas as pd\n",
    "\n",
    "# Load the CSV file\n",
    "df = pd.read_csv('sorted_output7.csv')\n",
    "\n",
    "# Select only the desired columns\n",
    "df_selected = df[['Ticker', 'Price', 'Test Accuracy', 'Confidence', 'Kelly Criterion']]\n",
    "\n",
    "# Sort the dataframe by Kelly Criterion in descending order\n",
    "df_sorted = df_selected.sort_values(by='Kelly Criterion', ascending=False)\n",
    "\n",
    "# Save the new dataframe to a new CSV file\n",
    "df_sorted.to_csv('sorted_output8.csv', index=False)\n",
    "\n",
    "print(\"New CSV file 'sorted_output8.csv' created with selected columns, sorted by Kelly Criterion.\")\n"
   ]
  },
  {
   "cell_type": "markdown",
   "metadata": {
    "id": "yWOPEmG9X9pB"
   },
   "source": [
    "**sorted_output8.csv** removes a lot of columns and then sorts by Kelly Criterion.  Look at this one to manually pick stocks if you would like, or move on to have them picked for you!"
   ]
  },
  {
   "cell_type": "code",
   "execution_count": null,
   "metadata": {
    "colab": {
     "base_uri": "https://localhost:8080/"
    },
    "id": "a0T3Ccnn6alT",
    "outputId": "336094a2-e415-4f76-e0b3-44f12c342ef0"
   },
   "outputs": [
    {
     "name": "stdout",
     "output_type": "stream",
     "text": [
      "Best combination of stocks to buy (stock ticker and number of shares):\n",
      "AVGO: 42 shares\n",
      "DXCM: 51 shares\n",
      "BAX: 96 shares\n",
      "DOW: 69 shares\n",
      "CVS: 48 shares\n",
      "BEN: 123 shares\n",
      "CVX: 15 shares\n",
      "APTV: 30 shares\n",
      "ENPH: 22 shares\n",
      "COP: 13 shares\n",
      "CNC: 21 shares\n",
      "BA: 7 shares\n",
      "A: 7 shares\n",
      "SCHW: 12 shares\n",
      "ABT: 8 shares\n",
      "AMGN: 3 shares\n",
      "CTSH: 11 shares\n",
      "DVN: 23 shares\n",
      "BBY: 7 shares\n",
      "ABNB: 4 shares\n"
     ]
    }
   ],
   "source": [
    "import pandas as pd\n",
    "from itertools import combinations\n",
    "import math\n",
    "\n",
    "# Load the CSV file\n",
    "df = pd.read_csv('sorted_output8.csv')  # Replace with your actual CSV file path\n",
    "\n",
    "# Limit to the first 20 tickers\n",
    "df = df.head(20)\n",
    "\n",
    "# Set portfolio amount (you can change this value)\n",
    "portfolio_amount = 40000\n",
    "\n",
    "# Function to calculate Final Percent for each stock in a combination\n",
    "def calculate_final_percent(combo, total_kelly_criteria):\n",
    "    return [(stock['Ticker'], stock['Kelly Criterion'] / total_kelly_criteria * 100) for stock in combo]\n",
    "\n",
    "# Function to calculate number of shares for a stock (rounding down to nearest whole number)\n",
    "def calculate_shares(stock, final_percent, portfolio_amount):\n",
    "    price = stock['Price']\n",
    "    # Calculate the number of shares and floor the result (round down)\n",
    "    return math.floor((final_percent * portfolio_amount) // 100 // price)\n",
    "\n",
    "# Initialize variables for best combination\n",
    "best_combination = None\n",
    "best_combination_value = 0\n",
    "best_combination_stocks = 0\n",
    "\n",
    "# Check all possible combinations of stocks\n",
    "for num_stocks in range(1, len(df) + 1):\n",
    "    for combo in combinations(df.iterrows(), num_stocks):\n",
    "        # Get the list of stocks in this combination\n",
    "        selected_stocks = [row[1] for row in combo]\n",
    "\n",
    "        # Recalculate the total Kelly Criterion sum for this combination\n",
    "        total_kelly_criteria = sum(stock['Kelly Criterion'] for stock in selected_stocks)\n",
    "\n",
    "        # Calculate the Final Percent for each stock\n",
    "        final_percent_list = calculate_final_percent(selected_stocks, total_kelly_criteria)\n",
    "\n",
    "        # Recalculate Shares based on the Final Percent\n",
    "        for stock, final_percent in zip(selected_stocks, final_percent_list):\n",
    "            stock['Final Percent'] = final_percent[1]\n",
    "            stock['Shares'] = calculate_shares(stock, stock['Final Percent'], portfolio_amount)\n",
    "\n",
    "        # Filter stocks that can be bought (at least 1 share)\n",
    "        eligible_stocks = [stock for stock in selected_stocks if stock['Shares'] > 0]\n",
    "\n",
    "        # Calculate the total cost of this combination\n",
    "        total_cost = sum(stock['Shares'] * stock['Price'] for stock in eligible_stocks)\n",
    "\n",
    "        # If the total cost is within the portfolio and better than previous\n",
    "        if total_cost <= portfolio_amount:\n",
    "            if len(eligible_stocks) > best_combination_stocks or (len(eligible_stocks) == best_combination_stocks and total_cost > best_combination_value):\n",
    "                best_combination = eligible_stocks\n",
    "                best_combination_value = total_cost\n",
    "                best_combination_stocks = len(eligible_stocks)\n",
    "\n",
    "# Prepare the output (list of stocks to buy with number of shares)\n",
    "output = [(stock['Ticker'], stock['Shares']) for stock in best_combination]\n",
    "\n",
    "# Print the output\n",
    "print(\"Best combination of stocks to buy (stock ticker and number of shares):\")\n",
    "for ticker, shares in output:\n",
    "    print(f\"{ticker}: {shares} shares\")\n"
   ]
  }
 ],
 "metadata": {
  "colab": {
   "machine_shape": "hm",
   "provenance": []
  },
  "kernelspec": {
   "display_name": "Python 3 (ipykernel)",
   "language": "python",
   "name": "python3"
  },
  "language_info": {
   "codemirror_mode": {
    "name": "ipython",
    "version": 3
   },
   "file_extension": ".py",
   "mimetype": "text/x-python",
   "name": "python",
   "nbconvert_exporter": "python",
   "pygments_lexer": "ipython3",
   "version": "3.12.4"
  }
 },
 "nbformat": 4,
 "nbformat_minor": 4
}
